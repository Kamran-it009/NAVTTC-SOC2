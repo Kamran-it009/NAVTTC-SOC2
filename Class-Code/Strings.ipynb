{
 "cells": [
  {
   "cell_type": "code",
   "execution_count": 10,
   "id": "12fa3e02-9057-4ea2-ac34-618d97b3215a",
   "metadata": {},
   "outputs": [],
   "source": [
    "name = 'Muhammad Kamran Khan'"
   ]
  },
  {
   "cell_type": "code",
   "execution_count": 18,
   "id": "185be518-dd67-4c1e-a9e1-af4f8d8daf98",
   "metadata": {},
   "outputs": [
    {
     "data": {
      "text/plain": [
       "str"
      ]
     },
     "execution_count": 18,
     "metadata": {},
     "output_type": "execute_result"
    }
   ],
   "source": [
    "type(name)"
   ]
  },
  {
   "cell_type": "code",
   "execution_count": 16,
   "id": "934ac293-af81-41d5-9148-9a2983826ef8",
   "metadata": {},
   "outputs": [
    {
     "data": {
      "text/plain": [
       "'K'"
      ]
     },
     "execution_count": 16,
     "metadata": {},
     "output_type": "execute_result"
    }
   ],
   "source": [
    "# Indexing\n",
    "name[9]"
   ]
  },
  {
   "cell_type": "code",
   "execution_count": 17,
   "id": "5b7120f8-486a-43d8-bf57-2384d644ff8e",
   "metadata": {},
   "outputs": [
    {
     "data": {
      "text/plain": [
       "'a'"
      ]
     },
     "execution_count": 17,
     "metadata": {},
     "output_type": "execute_result"
    }
   ],
   "source": [
    "# Negative Indexing\n",
    "name[-2]"
   ]
  },
  {
   "cell_type": "code",
   "execution_count": 19,
   "id": "44d7f142-e9f4-4388-8763-95728c3a5134",
   "metadata": {},
   "outputs": [
    {
     "data": {
      "text/plain": [
       "'Kamran'"
      ]
     },
     "execution_count": 19,
     "metadata": {},
     "output_type": "execute_result"
    }
   ],
   "source": [
    "# Slicing\n",
    "name[9: 15]"
   ]
  },
  {
   "cell_type": "code",
   "execution_count": 22,
   "id": "5a2a6244-fd91-44f9-a843-a2982c8adf4d",
   "metadata": {},
   "outputs": [
    {
     "data": {
      "text/plain": [
       "'Kma'"
      ]
     },
     "execution_count": 22,
     "metadata": {},
     "output_type": "execute_result"
    }
   ],
   "source": [
    "name[9: 15: 2]"
   ]
  },
  {
   "cell_type": "code",
   "execution_count": 25,
   "id": "7bccf7f3-9411-4924-813c-500f1e8a38d6",
   "metadata": {},
   "outputs": [
    {
     "data": {
      "text/plain": [
       "'Khan'"
      ]
     },
     "execution_count": 25,
     "metadata": {},
     "output_type": "execute_result"
    }
   ],
   "source": [
    "name[-4:]"
   ]
  },
  {
   "cell_type": "code",
   "execution_count": 26,
   "id": "dbf7a10f-033b-42a1-a26e-dd3eb8bd115f",
   "metadata": {},
   "outputs": [
    {
     "data": {
      "text/plain": [
       "''"
      ]
     },
     "execution_count": 26,
     "metadata": {},
     "output_type": "execute_result"
    }
   ],
   "source": [
    "# slicing always perform in forward direction.\n",
    "name[-1: 6]"
   ]
  },
  {
   "cell_type": "code",
   "execution_count": 27,
   "id": "89c8e90d-f6b3-444f-8b07-194e7d543049",
   "metadata": {},
   "outputs": [
    {
     "name": "stdout",
     "output_type": "stream",
     "text": [
      "Lenght of string: 20\n"
     ]
    }
   ],
   "source": [
    "# Lenght of String\n",
    "print('Lenght of string:', len(name))"
   ]
  },
  {
   "cell_type": "code",
   "execution_count": 28,
   "id": "4eb7b947-9856-4206-a43a-b27ca1f405dd",
   "metadata": {},
   "outputs": [
    {
     "data": {
      "text/plain": [
       "'MUHAMMAD KAMRAN KHAN'"
      ]
     },
     "execution_count": 28,
     "metadata": {},
     "output_type": "execute_result"
    }
   ],
   "source": [
    "name.upper()"
   ]
  },
  {
   "cell_type": "code",
   "execution_count": 30,
   "id": "83ed3526-0871-4853-bbf5-b12d4c5780f1",
   "metadata": {},
   "outputs": [
    {
     "data": {
      "text/plain": [
       "'muhammad kamran khan'"
      ]
     },
     "execution_count": 30,
     "metadata": {},
     "output_type": "execute_result"
    }
   ],
   "source": [
    "name.lower()"
   ]
  },
  {
   "cell_type": "code",
   "execution_count": 31,
   "id": "2e48d44a-06b0-4fa4-9e09-65115013523b",
   "metadata": {},
   "outputs": [
    {
     "data": {
      "text/plain": [
       "'Muhammad kamran khan'"
      ]
     },
     "execution_count": 31,
     "metadata": {},
     "output_type": "execute_result"
    }
   ],
   "source": [
    "name.capitalize()"
   ]
  },
  {
   "cell_type": "code",
   "execution_count": 35,
   "id": "7c796f51-1fc4-43e6-a92a-5352018dfb23",
   "metadata": {},
   "outputs": [],
   "source": [
    "words = name.split(' ')"
   ]
  },
  {
   "cell_type": "code",
   "execution_count": 36,
   "id": "0d6ec23b-34fb-42af-b731-fd429ef270af",
   "metadata": {},
   "outputs": [
    {
     "data": {
      "text/plain": [
       "['Muhammad', 'Kamran', 'Khan']"
      ]
     },
     "execution_count": 36,
     "metadata": {},
     "output_type": "execute_result"
    }
   ],
   "source": [
    "words"
   ]
  },
  {
   "cell_type": "code",
   "execution_count": 37,
   "id": "5b15d80b-fab8-44c5-a23c-6637c9b1a73f",
   "metadata": {},
   "outputs": [
    {
     "data": {
      "text/plain": [
       "'Muhammad-Kamran-Khan'"
      ]
     },
     "execution_count": 37,
     "metadata": {},
     "output_type": "execute_result"
    }
   ],
   "source": [
    "'-'.join(words)"
   ]
  },
  {
   "cell_type": "code",
   "execution_count": 1,
   "id": "2783ba8b-7a3a-4b13-b31b-a28df7ee09ff",
   "metadata": {},
   "outputs": [],
   "source": [
    "text = 'I am Kamran. I am an AI Engineer working in NCAI'"
   ]
  },
  {
   "cell_type": "code",
   "execution_count": 2,
   "id": "8090742c-8cb8-40f4-b7c6-10be8ab94423",
   "metadata": {},
   "outputs": [
    {
     "data": {
      "text/plain": [
       "21"
      ]
     },
     "execution_count": 2,
     "metadata": {},
     "output_type": "execute_result"
    }
   ],
   "source": [
    "text.find('AI')"
   ]
  },
  {
   "cell_type": "code",
   "execution_count": 3,
   "id": "a226e906-b3ba-4e42-9520-3e89984cbafe",
   "metadata": {},
   "outputs": [
    {
     "data": {
      "text/plain": [
       "'AI Engineer working in NCAI'"
      ]
     },
     "execution_count": 3,
     "metadata": {},
     "output_type": "execute_result"
    }
   ],
   "source": [
    "text[21:]"
   ]
  },
  {
   "cell_type": "code",
   "execution_count": 6,
   "id": "06cf326a-ddab-4e18-87eb-db9d5867476f",
   "metadata": {},
   "outputs": [],
   "source": [
    "text = text.replace('Engineer', 'Developer')"
   ]
  },
  {
   "cell_type": "code",
   "execution_count": 7,
   "id": "2391977c-0c75-49f0-b629-4d6c24f8591c",
   "metadata": {},
   "outputs": [
    {
     "data": {
      "text/plain": [
       "'I am Kamran. I am an AI Developer working in NCAI'"
      ]
     },
     "execution_count": 7,
     "metadata": {},
     "output_type": "execute_result"
    }
   ],
   "source": [
    "text"
   ]
  },
  {
   "cell_type": "code",
   "execution_count": 9,
   "id": "992a7963-6e65-4e71-ab2b-6e1a5ec1a365",
   "metadata": {},
   "outputs": [
    {
     "data": {
      "text/plain": [
       "False"
      ]
     },
     "execution_count": 9,
     "metadata": {},
     "output_type": "execute_result"
    }
   ],
   "source": [
    "text.startswith('AI')"
   ]
  },
  {
   "cell_type": "code",
   "execution_count": 11,
   "id": "c825afc2-5907-4a76-9040-79539e9e46dd",
   "metadata": {},
   "outputs": [
    {
     "data": {
      "text/plain": [
       "'Muhammad Kamran Khan'"
      ]
     },
     "execution_count": 11,
     "metadata": {},
     "output_type": "execute_result"
    }
   ],
   "source": [
    "name"
   ]
  },
  {
   "cell_type": "code",
   "execution_count": 13,
   "id": "9a57236a-0964-4523-b3f8-b4c2fc7def1b",
   "metadata": {},
   "outputs": [
    {
     "data": {
      "text/plain": [
       "'nahK narmaK dammahuM'"
      ]
     },
     "execution_count": 13,
     "metadata": {},
     "output_type": "execute_result"
    }
   ],
   "source": [
    "name[::-1]"
   ]
  },
  {
   "cell_type": "markdown",
   "id": "a2490e06-0ac1-46cd-a09e-5a1068ddb7c1",
   "metadata": {},
   "source": [
    "### 1.  is (Identity) operator\n",
    "### 2.  in (membership) operator"
   ]
  },
  {
   "cell_type": "code",
   "execution_count": 18,
   "id": "d648591d-6982-4c6e-99d4-2821d1551619",
   "metadata": {},
   "outputs": [],
   "source": [
    "# is operator\n",
    "x = 10"
   ]
  },
  {
   "cell_type": "code",
   "execution_count": 22,
   "id": "6f0a4f92-20e2-4d0f-826b-1ce2b86bbed5",
   "metadata": {},
   "outputs": [],
   "source": [
    "y = 10\n",
    "z = 10"
   ]
  },
  {
   "cell_type": "code",
   "execution_count": 23,
   "id": "849f3934-4653-4225-b509-c34165220d27",
   "metadata": {},
   "outputs": [
    {
     "name": "stdout",
     "output_type": "stream",
     "text": [
      "Address of x: 140730883798216\n",
      "Address of y: 140730883798216\n",
      "Address of y: 140730883798216\n"
     ]
    }
   ],
   "source": [
    "print('Address of x:', id(x))\n",
    "print('Address of y:', id(y))\n",
    "print('Address of y:', id(z))"
   ]
  },
  {
   "cell_type": "code",
   "execution_count": 24,
   "id": "ff29ea3d-a164-4769-a99b-a6df62c93465",
   "metadata": {},
   "outputs": [],
   "source": [
    "y = y + 1"
   ]
  },
  {
   "cell_type": "code",
   "execution_count": 25,
   "id": "86a693c8-d644-4e63-8a0d-0de11d004479",
   "metadata": {},
   "outputs": [
    {
     "name": "stdout",
     "output_type": "stream",
     "text": [
      "Address of x: 140730883798216\n",
      "Address of y: 140730883798248\n",
      "Address of y: 140730883798216\n"
     ]
    }
   ],
   "source": [
    "print('Address of x:', id(x))\n",
    "print('Address of y:', id(y))\n",
    "print('Address of y:', id(z))"
   ]
  },
  {
   "cell_type": "code",
   "execution_count": 26,
   "id": "9967cde9-0f9f-4b48-b536-0fd930e0fa0e",
   "metadata": {},
   "outputs": [],
   "source": [
    "name = 'Kamran'\n",
    "text = 'Kamran'"
   ]
  },
  {
   "cell_type": "code",
   "execution_count": 27,
   "id": "bca35dff-60d6-4ecc-9972-51f7ba127890",
   "metadata": {},
   "outputs": [
    {
     "name": "stdout",
     "output_type": "stream",
     "text": [
      "Address of x: 2822537499760\n",
      "Address of y: 2822537499760\n"
     ]
    }
   ],
   "source": [
    "print('Address of x:', id(name))\n",
    "print('Address of y:', id(text))"
   ]
  },
  {
   "cell_type": "code",
   "execution_count": 28,
   "id": "2c25e24e-1132-4991-836c-aeb67f47111e",
   "metadata": {},
   "outputs": [],
   "source": [
    "name = name.replace('a', 'e')"
   ]
  },
  {
   "cell_type": "code",
   "execution_count": 29,
   "id": "f9014d9e-7dc8-47d5-8a41-25d20305dd27",
   "metadata": {},
   "outputs": [
    {
     "name": "stdout",
     "output_type": "stream",
     "text": [
      "Address of x: 2822526477072\n",
      "Address of y: 2822537499760\n"
     ]
    }
   ],
   "source": [
    "print('Address of x:', id(name))\n",
    "print('Address of y:', id(text))"
   ]
  },
  {
   "cell_type": "code",
   "execution_count": 30,
   "id": "be2da5bb-e276-4f21-b1dc-7cecb0345f4f",
   "metadata": {},
   "outputs": [
    {
     "name": "stdout",
     "output_type": "stream",
     "text": [
      "Kemren\n",
      "Kamran\n"
     ]
    }
   ],
   "source": [
    "print(name)\n",
    "print(text)"
   ]
  },
  {
   "cell_type": "code",
   "execution_count": 31,
   "id": "d20b5050-67c4-45a1-b670-2ee76317060e",
   "metadata": {},
   "outputs": [
    {
     "name": "stdout",
     "output_type": "stream",
     "text": [
      "False\n",
      "True\n"
     ]
    }
   ],
   "source": [
    "print(x is y)\n",
    "print(x is z)"
   ]
  },
  {
   "cell_type": "code",
   "execution_count": 32,
   "id": "f811d9ba-4d6c-426a-ac31-4893dc10810e",
   "metadata": {},
   "outputs": [],
   "source": [
    "# in\n",
    "text = 'I am Kamran. I am an AI Engineer working in NCAI'"
   ]
  },
  {
   "cell_type": "code",
   "execution_count": 33,
   "id": "6d993b44-1b04-454d-ad7b-a7c650c362a3",
   "metadata": {},
   "outputs": [
    {
     "data": {
      "text/plain": [
       "True"
      ]
     },
     "execution_count": 33,
     "metadata": {},
     "output_type": "execute_result"
    }
   ],
   "source": [
    "'Kamran' in text"
   ]
  },
  {
   "cell_type": "code",
   "execution_count": 34,
   "id": "f3958391-b76f-4e0a-8bee-2a45df81937b",
   "metadata": {},
   "outputs": [
    {
     "data": {
      "text/plain": [
       "False"
      ]
     },
     "execution_count": 34,
     "metadata": {},
     "output_type": "execute_result"
    }
   ],
   "source": [
    "'Ali' in text"
   ]
  },
  {
   "cell_type": "code",
   "execution_count": 35,
   "id": "4c472ee0-779c-4088-8297-a73b89377af5",
   "metadata": {},
   "outputs": [],
   "source": [
    "str1 = \"apple\"\n",
    "str2 = \"banana\""
   ]
  },
  {
   "cell_type": "code",
   "execution_count": 36,
   "id": "30c4862e-c130-4624-b6e2-9149db81a083",
   "metadata": {},
   "outputs": [
    {
     "data": {
      "text/plain": [
       "False"
      ]
     },
     "execution_count": 36,
     "metadata": {},
     "output_type": "execute_result"
    }
   ],
   "source": [
    "str1 == str2"
   ]
  },
  {
   "cell_type": "code",
   "execution_count": 41,
   "id": "9ed30f87-042a-4f44-bc0e-6745f5e58b0d",
   "metadata": {},
   "outputs": [],
   "source": [
    "str1 = \"apple\"\n",
    "str2 = \"apple\""
   ]
  },
  {
   "cell_type": "code",
   "execution_count": 42,
   "id": "2b8716f4-76c8-4b1f-b9c8-a89476918009",
   "metadata": {},
   "outputs": [
    {
     "data": {
      "text/plain": [
       "True"
      ]
     },
     "execution_count": 42,
     "metadata": {},
     "output_type": "execute_result"
    }
   ],
   "source": [
    "str1 == str2"
   ]
  },
  {
   "cell_type": "code",
   "execution_count": 43,
   "id": "ba55923a-6612-42de-a2f0-4c86fefcc2f8",
   "metadata": {},
   "outputs": [
    {
     "data": {
      "text/plain": [
       "True"
      ]
     },
     "execution_count": 43,
     "metadata": {},
     "output_type": "execute_result"
    }
   ],
   "source": [
    "'A' < 'B'"
   ]
  },
  {
   "cell_type": "code",
   "execution_count": 47,
   "id": "ec8b13a2-87fa-4821-8806-6770c9348ea1",
   "metadata": {},
   "outputs": [
    {
     "data": {
      "text/plain": [
       "False"
      ]
     },
     "execution_count": 47,
     "metadata": {},
     "output_type": "execute_result"
    }
   ],
   "source": [
    "'c' < 'a'"
   ]
  },
  {
   "cell_type": "code",
   "execution_count": 48,
   "id": "833028b4-2779-4cb8-940f-9e87c6b7a828",
   "metadata": {},
   "outputs": [
    {
     "data": {
      "text/plain": [
       "65"
      ]
     },
     "execution_count": 48,
     "metadata": {},
     "output_type": "execute_result"
    }
   ],
   "source": [
    "ord('A')"
   ]
  },
  {
   "cell_type": "code",
   "execution_count": 49,
   "id": "9ab8da3d-3fe7-4535-9f1b-675d6b3fa7a8",
   "metadata": {},
   "outputs": [
    {
     "data": {
      "text/plain": [
       "'A'"
      ]
     },
     "execution_count": 49,
     "metadata": {},
     "output_type": "execute_result"
    }
   ],
   "source": [
    "chr(65)"
   ]
  },
  {
   "cell_type": "code",
   "execution_count": null,
   "id": "ad3ca1d8-1358-4da8-933e-8eec761eba82",
   "metadata": {},
   "outputs": [],
   "source": []
  }
 ],
 "metadata": {
  "kernelspec": {
   "display_name": "Python 3 (ipykernel)",
   "language": "python",
   "name": "python3"
  },
  "language_info": {
   "codemirror_mode": {
    "name": "ipython",
    "version": 3
   },
   "file_extension": ".py",
   "mimetype": "text/x-python",
   "name": "python",
   "nbconvert_exporter": "python",
   "pygments_lexer": "ipython3",
   "version": "3.13.7"
  }
 },
 "nbformat": 4,
 "nbformat_minor": 5
}
