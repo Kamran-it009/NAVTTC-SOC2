{
 "cells": [
  {
   "cell_type": "markdown",
   "id": "f8aef6eb-242a-4e70-a863-e08a4d8a2d7a",
   "metadata": {},
   "source": [
    "### Format String"
   ]
  },
  {
   "cell_type": "code",
   "execution_count": 1,
   "id": "6c0d6e91-47c2-4ffb-8784-bb44b0f73a2b",
   "metadata": {},
   "outputs": [],
   "source": [
    "name = 'Kamran'\n",
    "age = 28\n",
    "qualification = 'MSCS'\n",
    "height = 5.4"
   ]
  },
  {
   "cell_type": "code",
   "execution_count": 2,
   "id": "6884a752-898c-4416-9c9c-4411ee643a16",
   "metadata": {},
   "outputs": [
    {
     "name": "stdout",
     "output_type": "stream",
     "text": [
      "My name is Kamran and I have done MSCS and I am 28 years old\n"
     ]
    }
   ],
   "source": [
    "print('My name is', name, 'and I have done', qualification, 'and I am', age, 'years old')"
   ]
  },
  {
   "cell_type": "code",
   "execution_count": 3,
   "id": "15388d32-0db8-44c7-845e-440e4e9c8263",
   "metadata": {},
   "outputs": [
    {
     "name": "stdout",
     "output_type": "stream",
     "text": [
      "My name is Kamran and I have done MSCS and I am 28 year old\n"
     ]
    }
   ],
   "source": [
    "print(f'My name is {name} and I have done {qualification} and I am {age} year old')"
   ]
  },
  {
   "cell_type": "code",
   "execution_count": 4,
   "id": "7f6b07a8-05fa-4c03-a8c4-65f59004b836",
   "metadata": {},
   "outputs": [
    {
     "name": "stdout",
     "output_type": "stream",
     "text": [
      "My name is Kamran and I have done MSCS and I am 28 year old\n"
     ]
    }
   ],
   "source": [
    "print('My name is {0} and I have done {1} and I am {2} year old'.format(name, qualification, age))"
   ]
  },
  {
   "cell_type": "markdown",
   "id": "df101d9a-dcac-4198-a2f5-1af92fbd26d9",
   "metadata": {},
   "source": [
    "### Rules"
   ]
  },
  {
   "cell_type": "code",
   "execution_count": 5,
   "id": "ffa7cb86-8c11-460d-9eb8-8e19158610ed",
   "metadata": {},
   "outputs": [
    {
     "ename": "SyntaxError",
     "evalue": "invalid decimal literal (631987929.py, line 1)",
     "output_type": "error",
     "traceback": [
      "\u001b[1;36m  Cell \u001b[1;32mIn[5], line 1\u001b[1;36m\u001b[0m\n\u001b[1;33m    23_sector = 345\u001b[0m\n\u001b[1;37m      ^\u001b[0m\n\u001b[1;31mSyntaxError\u001b[0m\u001b[1;31m:\u001b[0m invalid decimal literal\n"
     ]
    }
   ],
   "source": [
    "23_sector = 345"
   ]
  },
  {
   "cell_type": "code",
   "execution_count": 6,
   "id": "6b19f680-d4e8-4c87-9eb3-3f843513eed9",
   "metadata": {},
   "outputs": [],
   "source": [
    "_sector = 23"
   ]
  },
  {
   "cell_type": "code",
   "execution_count": 7,
   "id": "ca05b799-6263-4fcc-8ab3-6b0da7a3caac",
   "metadata": {},
   "outputs": [
    {
     "ename": "SyntaxError",
     "evalue": "invalid syntax (192926856.py, line 1)",
     "output_type": "error",
     "traceback": [
      "\u001b[1;36m  Cell \u001b[1;32mIn[7], line 1\u001b[1;36m\u001b[0m\n\u001b[1;33m    ear$  = 45\u001b[0m\n\u001b[1;37m       ^\u001b[0m\n\u001b[1;31mSyntaxError\u001b[0m\u001b[1;31m:\u001b[0m invalid syntax\n"
     ]
    }
   ],
   "source": [
    "ear$  = 45"
   ]
  },
  {
   "cell_type": "code",
   "execution_count": 8,
   "id": "6158a4b1-4a2c-4b79-8900-23381b650a88",
   "metadata": {},
   "outputs": [
    {
     "ename": "SyntaxError",
     "evalue": "invalid syntax (971945427.py, line 1)",
     "output_type": "error",
     "traceback": [
      "\u001b[1;36m  Cell \u001b[1;32mIn[8], line 1\u001b[1;36m\u001b[0m\n\u001b[1;33m    my name = 'Kamran'\u001b[0m\n\u001b[1;37m       ^\u001b[0m\n\u001b[1;31mSyntaxError\u001b[0m\u001b[1;31m:\u001b[0m invalid syntax\n"
     ]
    }
   ],
   "source": [
    "my name = 'Kamran'"
   ]
  },
  {
   "cell_type": "code",
   "execution_count": 9,
   "id": "f47657a0-5615-4cc2-a903-fbcce5493cfd",
   "metadata": {},
   "outputs": [
    {
     "name": "stdout",
     "output_type": "stream",
     "text": [
      "['False', 'None', 'True', 'and', 'as', 'assert', 'async', 'await', 'break', 'class', 'continue', 'def', 'del', 'elif', 'else', 'except', 'finally', 'for', 'from', 'global', 'if', 'import', 'in', 'is', 'lambda', 'nonlocal', 'not', 'or', 'pass', 'raise', 'return', 'try', 'while', 'with', 'yield']\n"
     ]
    }
   ],
   "source": [
    "import keyword\n",
    "print(keyword.kwlist)"
   ]
  },
  {
   "cell_type": "code",
   "execution_count": null,
   "id": "a96b5be8-c4f5-4702-91b3-4091e3be14ca",
   "metadata": {},
   "outputs": [],
   "source": []
  }
 ],
 "metadata": {
  "kernelspec": {
   "display_name": "Python 3 (ipykernel)",
   "language": "python",
   "name": "python3"
  },
  "language_info": {
   "codemirror_mode": {
    "name": "ipython",
    "version": 3
   },
   "file_extension": ".py",
   "mimetype": "text/x-python",
   "name": "python",
   "nbconvert_exporter": "python",
   "pygments_lexer": "ipython3",
   "version": "3.11.5"
  }
 },
 "nbformat": 4,
 "nbformat_minor": 5
}
