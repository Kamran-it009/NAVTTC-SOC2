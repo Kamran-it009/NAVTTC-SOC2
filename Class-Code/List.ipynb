{
 "cells": [
  {
   "cell_type": "code",
   "execution_count": 1,
   "id": "bff7169a-20ed-43ba-ba8f-d54bb9fc7155",
   "metadata": {},
   "outputs": [],
   "source": [
    "fruits = ['apple', 'banana', 'cherry', 'stawberry', 'grapes']"
   ]
  },
  {
   "cell_type": "code",
   "execution_count": 2,
   "id": "be721598-af41-40e1-9ce2-2675bc2456c0",
   "metadata": {},
   "outputs": [],
   "source": [
    "ages = [20, 30, 45, 34, 23]"
   ]
  },
  {
   "cell_type": "code",
   "execution_count": 3,
   "id": "8e600a35-b484-47bd-820a-6278341f4ef7",
   "metadata": {},
   "outputs": [],
   "source": [
    "mixed = ['apple', 23, 34.5]"
   ]
  },
  {
   "cell_type": "code",
   "execution_count": 4,
   "id": "555d19d1-ed53-4879-95fa-341785a5c2a8",
   "metadata": {},
   "outputs": [
    {
     "data": {
      "text/plain": [
       "'apple'"
      ]
     },
     "execution_count": 4,
     "metadata": {},
     "output_type": "execute_result"
    }
   ],
   "source": [
    "mixed[0]"
   ]
  },
  {
   "cell_type": "code",
   "execution_count": 5,
   "id": "0ab29d38-e5fa-4d06-b2c4-4bb1cd65b232",
   "metadata": {},
   "outputs": [
    {
     "data": {
      "text/plain": [
       "34.5"
      ]
     },
     "execution_count": 5,
     "metadata": {},
     "output_type": "execute_result"
    }
   ],
   "source": [
    "mixed[-1]"
   ]
  },
  {
   "cell_type": "code",
   "execution_count": 6,
   "id": "91b459e1-414a-4f54-bce7-c6dd63900c30",
   "metadata": {},
   "outputs": [
    {
     "data": {
      "text/plain": [
       "['cherry', 'stawberry', 'grapes']"
      ]
     },
     "execution_count": 6,
     "metadata": {},
     "output_type": "execute_result"
    }
   ],
   "source": [
    "fruits[2: 5]"
   ]
  },
  {
   "cell_type": "code",
   "execution_count": 10,
   "id": "bb921e89-9b03-4d08-a50c-517ae0ee1975",
   "metadata": {},
   "outputs": [
    {
     "data": {
      "text/plain": [
       "'e'"
      ]
     },
     "execution_count": 10,
     "metadata": {},
     "output_type": "execute_result"
    }
   ],
   "source": [
    "fruits[2][2]"
   ]
  },
  {
   "cell_type": "code",
   "execution_count": 13,
   "id": "5d3b74f3-1202-46fa-83a7-c0a73e6ccae3",
   "metadata": {},
   "outputs": [
    {
     "data": {
      "text/plain": [
       "['apple', 'banana', 'cherry', 'stawberry', 'grapes']"
      ]
     },
     "execution_count": 13,
     "metadata": {},
     "output_type": "execute_result"
    }
   ],
   "source": [
    "fruits"
   ]
  },
  {
   "cell_type": "code",
   "execution_count": 12,
   "id": "ea866a95-71b0-4cc8-8d60-9b15516f92e2",
   "metadata": {},
   "outputs": [
    {
     "data": {
      "text/plain": [
       "['cherry', 'stawberry']"
      ]
     },
     "execution_count": 12,
     "metadata": {},
     "output_type": "execute_result"
    }
   ],
   "source": [
    "fruits[-3: -1]"
   ]
  },
  {
   "cell_type": "code",
   "execution_count": 14,
   "id": "66f18915-71fb-48f8-a880-00011ce69e4f",
   "metadata": {},
   "outputs": [],
   "source": [
    "fruits[-2] = 'mango'"
   ]
  },
  {
   "cell_type": "code",
   "execution_count": 15,
   "id": "7b6ea676-48be-4be6-84f2-b6d355df2e9c",
   "metadata": {},
   "outputs": [
    {
     "data": {
      "text/plain": [
       "['apple', 'banana', 'cherry', 'mango', 'grapes']"
      ]
     },
     "execution_count": 15,
     "metadata": {},
     "output_type": "execute_result"
    }
   ],
   "source": [
    "fruits"
   ]
  },
  {
   "cell_type": "code",
   "execution_count": 20,
   "id": "84dd4cca-09ad-4ea0-ba8f-4214baf4899f",
   "metadata": {},
   "outputs": [],
   "source": [
    "fruits.insert(2, 'stawberry')"
   ]
  },
  {
   "cell_type": "code",
   "execution_count": 28,
   "id": "ae35bb10-b65b-4a22-b6fe-f14a30b70085",
   "metadata": {},
   "outputs": [
    {
     "data": {
      "text/plain": [
       "['apple',\n",
       " 'banana',\n",
       " 'stawberry',\n",
       " 'cherry',\n",
       " 'stawberry',\n",
       " 'stawberry',\n",
       " 'mango',\n",
       " 'grapes']"
      ]
     },
     "execution_count": 28,
     "metadata": {},
     "output_type": "execute_result"
    }
   ],
   "source": [
    "fruits"
   ]
  },
  {
   "cell_type": "code",
   "execution_count": 22,
   "id": "d343b11b-97a7-4efb-8ce6-3cb4d2844cb1",
   "metadata": {},
   "outputs": [],
   "source": [
    "fruits.append('kiwi')"
   ]
  },
  {
   "cell_type": "code",
   "execution_count": 23,
   "id": "2c698f47-b3be-4618-95a7-e7259d5d60b2",
   "metadata": {},
   "outputs": [
    {
     "data": {
      "text/plain": [
       "['apple',\n",
       " 'banana',\n",
       " 'stawberry',\n",
       " 'cherry',\n",
       " 'stawberry',\n",
       " 'stawberry',\n",
       " 'mango',\n",
       " 'grapes',\n",
       " 'kiwi']"
      ]
     },
     "execution_count": 23,
     "metadata": {},
     "output_type": "execute_result"
    }
   ],
   "source": [
    "fruits = ['apple',\n",
    " 'banana',\n",
    " 'stawberry',\n",
    " 'cherry',\n",
    " 'stawberry',\n",
    " 'stawberry',\n",
    " 'mango',\n",
    " 'grapes']"
   ]
  },
  {
   "cell_type": "code",
   "execution_count": 25,
   "id": "01f6103e-292f-42db-a702-91973611f622",
   "metadata": {},
   "outputs": [],
   "source": [
    "fruits[2: 5] = ['alechi', 'papayya', 'melon']"
   ]
  },
  {
   "cell_type": "code",
   "execution_count": 26,
   "id": "119a0ef8-6c5b-4e3a-9a1f-f440bb7e59d4",
   "metadata": {},
   "outputs": [
    {
     "data": {
      "text/plain": [
       "['apple',\n",
       " 'banana',\n",
       " 'alechi',\n",
       " 'papayya',\n",
       " 'melon',\n",
       " 'stawberry',\n",
       " 'mango',\n",
       " 'grapes',\n",
       " 'kiwi']"
      ]
     },
     "execution_count": 26,
     "metadata": {},
     "output_type": "execute_result"
    }
   ],
   "source": [
    "fruits"
   ]
  },
  {
   "cell_type": "code",
   "execution_count": 47,
   "id": "1fb11b66-f6ed-4bca-811c-7f3799598453",
   "metadata": {},
   "outputs": [],
   "source": [
    "fruits  = ['apple',\n",
    " 'banana',\n",
    " 'stawberry',\n",
    " 'cherry',\n",
    " 'stawberry',\n",
    " 'stawberry',\n",
    " 'mango',\n",
    " 'grapes']"
   ]
  },
  {
   "cell_type": "code",
   "execution_count": 31,
   "id": "19d70fc5-78be-4982-b990-53266731ee98",
   "metadata": {},
   "outputs": [],
   "source": [
    "fruits[2: 5: 2] = ['melon', 'watermelon']"
   ]
  },
  {
   "cell_type": "code",
   "execution_count": 32,
   "id": "99b64ac5-940c-44ce-82da-72559a859ef6",
   "metadata": {},
   "outputs": [
    {
     "data": {
      "text/plain": [
       "['apple',\n",
       " 'banana',\n",
       " 'melon',\n",
       " 'cherry',\n",
       " 'watermelon',\n",
       " 'stawberry',\n",
       " 'mango',\n",
       " 'grapes']"
      ]
     },
     "execution_count": 32,
     "metadata": {},
     "output_type": "execute_result"
    }
   ],
   "source": [
    "fruits"
   ]
  },
  {
   "cell_type": "code",
   "execution_count": 40,
   "id": "a24edee4-c1e1-4515-a57c-220ea11e29cd",
   "metadata": {},
   "outputs": [],
   "source": [
    "# extend()\n",
    "product1 = ['Mobile', 'telephone', 'airbods']\n",
    "product2 = ['shirts', 'hoddies', 'jeans']"
   ]
  },
  {
   "cell_type": "code",
   "execution_count": 38,
   "id": "7aa97288-fa27-4a27-b743-6da0065886d7",
   "metadata": {},
   "outputs": [],
   "source": [
    "product1.extend(product2)"
   ]
  },
  {
   "cell_type": "code",
   "execution_count": 39,
   "id": "69b8966c-7562-4680-993c-b718a3788697",
   "metadata": {},
   "outputs": [
    {
     "data": {
      "text/plain": [
       "['Mobile', 'telephone', 'airbods', 'shirts', 'hoddies', 'jeans']"
      ]
     },
     "execution_count": 39,
     "metadata": {},
     "output_type": "execute_result"
    }
   ],
   "source": [
    "product1"
   ]
  },
  {
   "cell_type": "code",
   "execution_count": 42,
   "id": "923e889e-4ffd-4922-8f51-9782641149cb",
   "metadata": {},
   "outputs": [],
   "source": [
    "p = product1 + product2"
   ]
  },
  {
   "cell_type": "code",
   "execution_count": 43,
   "id": "06f753b3-5174-4f8c-8d7e-2212a6e5b8f1",
   "metadata": {},
   "outputs": [
    {
     "data": {
      "text/plain": [
       "['Mobile', 'telephone', 'airbods', 'shirts', 'hoddies', 'jeans']"
      ]
     },
     "execution_count": 43,
     "metadata": {},
     "output_type": "execute_result"
    }
   ],
   "source": [
    "p"
   ]
  },
  {
   "cell_type": "code",
   "execution_count": 44,
   "id": "0f59c0c9-1a8f-4718-9615-66a9207e5001",
   "metadata": {},
   "outputs": [
    {
     "data": {
      "text/plain": [
       "['apple',\n",
       " 'banana',\n",
       " 'melon',\n",
       " 'cherry',\n",
       " 'watermelon',\n",
       " 'stawberry',\n",
       " 'mango',\n",
       " 'grapes']"
      ]
     },
     "execution_count": 44,
     "metadata": {},
     "output_type": "execute_result"
    }
   ],
   "source": [
    "fruits"
   ]
  },
  {
   "cell_type": "code",
   "execution_count": null,
   "id": "3cde09ad-70d1-4afe-88cf-cbe1cf903542",
   "metadata": {},
   "outputs": [],
   "source": []
  },
  {
   "cell_type": "code",
   "execution_count": 51,
   "id": "d11e70b7-8e32-4697-9001-c11afb5dd0ec",
   "metadata": {},
   "outputs": [
    {
     "data": {
      "text/plain": [
       "['apple', 'banana', 'cherry', 'stawberry', 'stawberry', 'mango', 'grapes']"
      ]
     },
     "execution_count": 51,
     "metadata": {},
     "output_type": "execute_result"
    }
   ],
   "source": [
    "fruits"
   ]
  },
  {
   "cell_type": "code",
   "execution_count": 52,
   "id": "d8b06b44-ec5d-4842-a9d0-8fd96604bd9f",
   "metadata": {},
   "outputs": [],
   "source": [
    "item = fruits.pop(2)"
   ]
  },
  {
   "cell_type": "code",
   "execution_count": 53,
   "id": "bfa69222-5f53-43fa-8ddb-edaf3cca60b3",
   "metadata": {},
   "outputs": [
    {
     "data": {
      "text/plain": [
       "['apple', 'banana', 'stawberry', 'stawberry', 'mango', 'grapes']"
      ]
     },
     "execution_count": 53,
     "metadata": {},
     "output_type": "execute_result"
    }
   ],
   "source": [
    "fruits"
   ]
  },
  {
   "cell_type": "code",
   "execution_count": 54,
   "id": "25a7439a-69d2-447a-adcd-5bdb26bd18fb",
   "metadata": {},
   "outputs": [
    {
     "data": {
      "text/plain": [
       "'cherry'"
      ]
     },
     "execution_count": 54,
     "metadata": {},
     "output_type": "execute_result"
    }
   ],
   "source": [
    "item"
   ]
  },
  {
   "cell_type": "code",
   "execution_count": null,
   "id": "ca193108-4894-4fd3-913b-7eb8c590f2f7",
   "metadata": {},
   "outputs": [],
   "source": []
  }
 ],
 "metadata": {
  "kernelspec": {
   "display_name": "Python 3 (ipykernel)",
   "language": "python",
   "name": "python3"
  },
  "language_info": {
   "codemirror_mode": {
    "name": "ipython",
    "version": 3
   },
   "file_extension": ".py",
   "mimetype": "text/x-python",
   "name": "python",
   "nbconvert_exporter": "python",
   "pygments_lexer": "ipython3",
   "version": "3.13.7"
  }
 },
 "nbformat": 4,
 "nbformat_minor": 5
}
