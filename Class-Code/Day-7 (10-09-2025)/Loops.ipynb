{
 "cells": [
  {
   "cell_type": "code",
   "execution_count": 2,
   "id": "a3003a71-ad9a-4307-9b1f-de5450fb52e4",
   "metadata": {},
   "outputs": [
    {
     "name": "stdout",
     "output_type": "stream",
     "text": [
      "Welcome..\n",
      "Hello Kamran..\n"
     ]
    }
   ],
   "source": []
  },
  {
   "cell_type": "code",
   "execution_count": 1,
   "id": "e1f70c81-3d4b-4dfe-8c4c-ae261dce5361",
   "metadata": {},
   "outputs": [
    {
     "name": "stdout",
     "output_type": "stream",
     "text": [
      "Welcome..\n",
      "Hello Kamran..\n",
      "Welcome..\n",
      "Hello Kamran..\n",
      "Welcome..\n",
      "Hello Kamran..\n",
      "Welcome..\n",
      "Hello Kamran..\n",
      "Welcome..\n",
      "Hello Kamran..\n",
      "Welcome..\n",
      "Hello Kamran..\n",
      "Welcome..\n",
      "Hello Kamran..\n",
      "Welcome..\n",
      "Hello Kamran..\n",
      "Welcome..\n",
      "Hello Kamran..\n",
      "Welcome..\n",
      "Hello Kamran..\n"
     ]
    }
   ],
   "source": [
    "n = 1\n",
    "while n <= 10:\n",
    "    print('Welcome..')\n",
    "    print('Hello Kamran..')\n",
    "    n = n + 1"
   ]
  },
  {
   "cell_type": "code",
   "execution_count": 9,
   "id": "b2634456-b3d0-4d02-9e57-7f1a8f08a2c8",
   "metadata": {},
   "outputs": [
    {
     "name": "stdout",
     "output_type": "stream",
     "text": [
      " -10-Hello Kamran..\n",
      " -8-Hello Kamran..\n",
      " -6-Hello Kamran..\n",
      " -4-Hello Kamran..\n",
      " -2-Hello Kamran..\n",
      " 0-Hello Kamran..\n",
      " 2-Hello Kamran..\n",
      " 4-Hello Kamran..\n",
      " 6-Hello Kamran..\n",
      " 8-Hello Kamran..\n",
      " 10-Hello Kamran..\n",
      " 12-Hello Kamran..\n",
      " 14-Hello Kamran..\n",
      " 16-Hello Kamran..\n",
      " 18-Hello Kamran..\n",
      " 20-Hello Kamran..\n"
     ]
    }
   ],
   "source": [
    "n = -10\n",
    "while n <= 20:\n",
    "    print(f' {n}-Hello Kamran..')\n",
    "    n = n + 2"
   ]
  },
  {
   "cell_type": "code",
   "execution_count": 10,
   "id": "10661883-6839-4a75-b493-e62c12681b57",
   "metadata": {},
   "outputs": [
    {
     "data": {
      "text/plain": [
       "[0, 2, 4, 6, 8]"
      ]
     },
     "execution_count": 10,
     "metadata": {},
     "output_type": "execute_result"
    }
   ],
   "source": [
    "# range(start=0, end, step=1)\n",
    "list(range(0, 10, 2))"
   ]
  },
  {
   "cell_type": "code",
   "execution_count": 12,
   "id": "eaa62929-5162-4d11-bc63-92911c01bf13",
   "metadata": {},
   "outputs": [
    {
     "data": {
      "text/plain": [
       "[0, 1, 2, 3, 4, 5, 6, 7, 8, 9]"
      ]
     },
     "execution_count": 12,
     "metadata": {},
     "output_type": "execute_result"
    }
   ],
   "source": [
    "list(range(0, 10))"
   ]
  },
  {
   "cell_type": "code",
   "execution_count": 13,
   "id": "1e480f9e-4977-4b5c-a22f-eb038c58b0d7",
   "metadata": {},
   "outputs": [
    {
     "data": {
      "text/plain": [
       "[0, 1, 2, 3, 4, 5, 6, 7, 8, 9]"
      ]
     },
     "execution_count": 13,
     "metadata": {},
     "output_type": "execute_result"
    }
   ],
   "source": [
    "list(range(10))"
   ]
  },
  {
   "cell_type": "code",
   "execution_count": 15,
   "id": "5f36ce65-e220-430a-8524-7c82709161f3",
   "metadata": {},
   "outputs": [
    {
     "name": "stdout",
     "output_type": "stream",
     "text": [
      "Hello Kamran..\n",
      "Hello Kamran..\n",
      "Hello Kamran..\n",
      "Hello Kamran..\n",
      "Hello Kamran..\n"
     ]
    }
   ],
   "source": [
    "for n in range(5):\n",
    "    print('Hello Kamran..')"
   ]
  },
  {
   "cell_type": "code",
   "execution_count": 16,
   "id": "f8cddd42-f387-4dd7-8694-0322be76e8b4",
   "metadata": {},
   "outputs": [
    {
     "name": "stdout",
     "output_type": "stream",
     "text": [
      "0-Hello Kamran\n",
      "2-Hello Kamran\n",
      "4-Hello Kamran\n",
      "6-Hello Kamran\n",
      "8-Hello Kamran\n"
     ]
    }
   ],
   "source": [
    "for n in range(0, 10, 2):\n",
    "    print(f'{n}-Hello Kamran')"
   ]
  },
  {
   "cell_type": "code",
   "execution_count": null,
   "id": "48eb63fd-840e-4360-8881-543648fdc8a2",
   "metadata": {},
   "outputs": [],
   "source": [
    "while True\n",
    "----\n",
    "# while defaulter in [student_faces]:\n",
    "#    capture(footage)\n",
    "#    generate alarm.\n",
    "-----"
   ]
  },
  {
   "cell_type": "code",
   "execution_count": 17,
   "id": "49ee2881-0c29-4b40-a34a-c58f2d9cfb6d",
   "metadata": {},
   "outputs": [
    {
     "name": "stdout",
     "output_type": "stream",
     "text": [
      "Decorated-apple\n",
      "Decorated-banana\n",
      "Decorated-cherry\n",
      "Decorated-mango\n",
      "Decorated-grapes\n"
     ]
    }
   ],
   "source": [
    "fruits = ['apple', 'banana', 'cherry', 'mango', 'grapes']\n",
    "for i in fruits:\n",
    "    print(f'Decorated-{i}')"
   ]
  },
  {
   "cell_type": "code",
   "execution_count": 18,
   "id": "de37bce8-b84e-4374-b8d2-9561efe13064",
   "metadata": {},
   "outputs": [],
   "source": [
    "fruits_dict = {'A': 'apple', 'B': 'banana', 'C': 'cherry', 'D': 'dragon fruits'}"
   ]
  },
  {
   "cell_type": "code",
   "execution_count": 23,
   "id": "d21e7a01-214c-4347-b079-3abc831dbe28",
   "metadata": {},
   "outputs": [
    {
     "name": "stdout",
     "output_type": "stream",
     "text": [
      "A\n",
      "B\n",
      "C\n",
      "D\n"
     ]
    }
   ],
   "source": [
    "for i in fruits_dict:\n",
    "    print(i)"
   ]
  },
  {
   "cell_type": "code",
   "execution_count": 24,
   "id": "9e52ec1d-8d56-44a4-a72b-8d829ee5f465",
   "metadata": {},
   "outputs": [
    {
     "name": "stdout",
     "output_type": "stream",
     "text": [
      "apple\n",
      "banana\n",
      "cherry\n",
      "dragon fruits\n"
     ]
    }
   ],
   "source": [
    "for i in fruits_dict.values():\n",
    "    print(i)"
   ]
  },
  {
   "cell_type": "code",
   "execution_count": 27,
   "id": "352a684b-02ee-479e-b2c4-c6fb97d3d9ba",
   "metadata": {},
   "outputs": [
    {
     "name": "stdout",
     "output_type": "stream",
     "text": [
      "A\n",
      "B\n",
      "C\n",
      "D\n"
     ]
    }
   ],
   "source": [
    "for i in fruits_dict.keys():\n",
    "    print(i)"
   ]
  },
  {
   "cell_type": "code",
   "execution_count": 29,
   "id": "4a6feeef-470a-4ef1-9056-1ed150e4aa23",
   "metadata": {},
   "outputs": [
    {
     "name": "stdout",
     "output_type": "stream",
     "text": [
      "A-apple\n",
      "B-banana\n",
      "C-cherry\n",
      "D-dragon fruits\n"
     ]
    }
   ],
   "source": [
    "for index, item in fruits_dict.items():\n",
    "    print(f'{index}-{item}')"
   ]
  },
  {
   "cell_type": "code",
   "execution_count": 30,
   "id": "1d19a6a4-935a-4cbe-b9ce-407e55cd7fa5",
   "metadata": {},
   "outputs": [
    {
     "name": "stdout",
     "output_type": "stream",
     "text": [
      "apple\n",
      "banana\n",
      "cherry\n",
      "dragon fruits\n"
     ]
    }
   ],
   "source": [
    "for i in fruits_dict:\n",
    "    print(fruits_dict[i])"
   ]
  },
  {
   "cell_type": "code",
   "execution_count": 31,
   "id": "d473429e-7b0a-461a-adf9-81e928e65d6e",
   "metadata": {},
   "outputs": [
    {
     "name": "stdout",
     "output_type": "stream",
     "text": [
      "0-apple\n",
      "1-banana\n",
      "2-cherry\n",
      "3-mango\n",
      "4-grapes\n"
     ]
    }
   ],
   "source": [
    "fruits = ['apple', 'banana', 'cherry', 'mango', 'grapes']\n",
    "for index, item in enumerate(fruits):\n",
    "    print(f'{index}-{item}')"
   ]
  },
  {
   "cell_type": "code",
   "execution_count": 32,
   "id": "97a656ca-bc0f-4b91-bbe7-c51f0c31c9d4",
   "metadata": {},
   "outputs": [
    {
     "name": "stdout",
     "output_type": "stream",
     "text": [
      "0- apple\n",
      "0- banana\n",
      "0- cherry\n",
      "\n",
      "1- apple\n",
      "1- banana\n",
      "1- cherry\n",
      "\n",
      "2- apple\n",
      "2- banana\n",
      "2- cherry\n",
      "\n",
      "3- apple\n",
      "3- banana\n",
      "3- cherry\n",
      "\n",
      "4- apple\n",
      "4- banana\n",
      "4- cherry\n",
      "\n"
     ]
    }
   ],
   "source": [
    "# Nested Loops\n",
    "for i in range(5):\n",
    "    for j in ['apple', 'banana', 'cherry']:\n",
    "        print(f'{i}- {j}')\n",
    "    print()"
   ]
  },
  {
   "cell_type": "code",
   "execution_count": null,
   "id": "4b25c7c2-46c3-462f-84ac-f43b23428d71",
   "metadata": {},
   "outputs": [],
   "source": []
  }
 ],
 "metadata": {
  "kernelspec": {
   "display_name": "Python 3 (ipykernel)",
   "language": "python",
   "name": "python3"
  },
  "language_info": {
   "codemirror_mode": {
    "name": "ipython",
    "version": 3
   },
   "file_extension": ".py",
   "mimetype": "text/x-python",
   "name": "python",
   "nbconvert_exporter": "python",
   "pygments_lexer": "ipython3",
   "version": "3.13.7"
  }
 },
 "nbformat": 4,
 "nbformat_minor": 5
}
