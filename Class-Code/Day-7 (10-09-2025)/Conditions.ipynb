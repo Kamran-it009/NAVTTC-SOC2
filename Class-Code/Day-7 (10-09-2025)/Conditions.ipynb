{
 "cells": [
  {
   "cell_type": "code",
   "execution_count": 7,
   "id": "d4943f72-2b2a-4e59-8b8e-cc569b506bdd",
   "metadata": {},
   "outputs": [
    {
     "name": "stdout",
     "output_type": "stream",
     "text": [
      "Kamran\n",
      "Ali\n"
     ]
    },
    {
     "name": "stdin",
     "output_type": "stream",
     "text": [
      "Enter your marks: 31\n"
     ]
    },
    {
     "name": "stdout",
     "output_type": "stream",
     "text": [
      "Welcome..\n"
     ]
    }
   ],
   "source": [
    "print('Kamran')\n",
    "print('Ali')\n",
    "marks = int(input('Enter your marks:'))\n",
    "if marks >= 33:\n",
    "    print('Pass')\n",
    "print('Welcome..')"
   ]
  },
  {
   "cell_type": "code",
   "execution_count": 9,
   "id": "a39bd626-bfb7-40ed-b681-2db2ab8c1ccc",
   "metadata": {},
   "outputs": [
    {
     "name": "stdin",
     "output_type": "stream",
     "text": [
      "Enter your marks: 34\n"
     ]
    },
    {
     "name": "stdout",
     "output_type": "stream",
     "text": [
      "Pass\n"
     ]
    }
   ],
   "source": [
    "marks = int(input('Enter your marks:'))\n",
    "if marks >= 33:\n",
    "    print('Pass')\n",
    "else:\n",
    "    print('Fail')"
   ]
  },
  {
   "cell_type": "code",
   "execution_count": 12,
   "id": "bc41e4fa-d0c6-4fe1-864b-7d95a2d08c35",
   "metadata": {},
   "outputs": [
    {
     "name": "stdin",
     "output_type": "stream",
     "text": [
      "Enter the temperature in Degree(C): 16\n"
     ]
    },
    {
     "name": "stdout",
     "output_type": "stream",
     "text": [
      "Cold day\n"
     ]
    }
   ],
   "source": [
    "# temp > 30 (Hot day)\n",
    "# 20 >= temp < 30 (Pleasant day)\n",
    "# temp < 20 (Cold day)\n",
    "temp = int(input('Enter the temperature in Degree(C):'))\n",
    "if temp > 30:\n",
    "    print('Hot day')\n",
    "elif temp >= 20  and  temp < 30:\n",
    "    print('Pleasant day')\n",
    "else:\n",
    "    print('Cold day')"
   ]
  },
  {
   "cell_type": "code",
   "execution_count": 16,
   "id": "6b216edb-ab5c-4855-a4e2-f3c711f6ca29",
   "metadata": {},
   "outputs": [
    {
     "name": "stdin",
     "output_type": "stream",
     "text": [
      "Enter a character(A-Z): B\n"
     ]
    },
    {
     "name": "stdout",
     "output_type": "stream",
     "text": [
      "It is consonent\n"
     ]
    }
   ],
   "source": [
    "ch = input('Enter a character(A-Z):')\n",
    "match ch:\n",
    "    case 'A':\n",
    "        print('it is vowel')\n",
    "    case 'E':\n",
    "        print('it is vowel')\n",
    "    case 'I':\n",
    "        print('it is vowel')\n",
    "    case 'O':\n",
    "        print('it is vowel')\n",
    "    case 'U':\n",
    "        print('it is vowel')\n",
    "    case _:\n",
    "        print('It is consonent')"
   ]
  },
  {
   "cell_type": "code",
   "execution_count": 19,
   "id": "27ee79f2-e386-45b1-a455-5deeb6e91d58",
   "metadata": {},
   "outputs": [
    {
     "name": "stdin",
     "output_type": "stream",
     "text": [
      "Status of English Test: fail\n"
     ]
    },
    {
     "name": "stdout",
     "output_type": "stream",
     "text": [
      "You are not eligible\n"
     ]
    }
   ],
   "source": [
    "# Nested if\n",
    "eng = input('Status of English Test:')\n",
    "if eng == 'pass':\n",
    "    print('You are on next stage')\n",
    "    math = input('Status of Math Test:')\n",
    "    if math == 'pass':\n",
    "        print('Promoted')\n",
    "    else:\n",
    "        print('Try again')\n",
    "else:\n",
    "    print('You are not eligible')"
   ]
  },
  {
   "cell_type": "code",
   "execution_count": 25,
   "id": "a1e064ac-48b3-438f-a08e-d0e7a5039153",
   "metadata": {},
   "outputs": [
    {
     "name": "stdin",
     "output_type": "stream",
     "text": [
      "Enter no: 56\n"
     ]
    },
    {
     "name": "stdout",
     "output_type": "stream",
     "text": [
      "Positive\n"
     ]
    }
   ],
   "source": [
    "num = int(input('Enter no:'))\n",
    "print(\"Positive\") if num > 0 else print(\"Negative\")"
   ]
  },
  {
   "cell_type": "code",
   "execution_count": 27,
   "id": "a2d511d6-3d62-4932-a5fd-40aba75cbe04",
   "metadata": {},
   "outputs": [
    {
     "name": "stdin",
     "output_type": "stream",
     "text": [
      "Enter desired fruit name: guava\n"
     ]
    },
    {
     "name": "stdout",
     "output_type": "stream",
     "text": [
      "Not present\n"
     ]
    }
   ],
   "source": [
    "fruits = ['apple', 'banana', 'cherry', 'mango', 'grapes']\n",
    "n = input('Enter desired fruit name:')\n",
    "if n in fruits:\n",
    "    print('Yes, Present in fruit List')\n",
    "else:\n",
    "    print('Not present')"
   ]
  },
  {
   "cell_type": "code",
   "execution_count": 39,
   "id": "30aa0a4e-34e1-45fe-9109-d2b967191f4d",
   "metadata": {},
   "outputs": [
    {
     "name": "stdin",
     "output_type": "stream",
     "text": [
      "Enter your desired word: eng\n"
     ]
    },
    {
     "name": "stdout",
     "output_type": "stream",
     "text": [
      "Yes, Present in Text\n"
     ]
    }
   ],
   "source": [
    "text = 'I am Kamran Khan, an AI Engineer and Trainer at Punjab Judicial Academy'\n",
    "n = input('Enter your desired word:')\n",
    "n = n.lower()\n",
    "if n in text.lower():\n",
    "    print('Yes, Present in Text')\n",
    "else:\n",
    "    print('Not present')"
   ]
  },
  {
   "cell_type": "code",
   "execution_count": null,
   "id": "428f9b63-db66-49ac-a273-72a16188839f",
   "metadata": {},
   "outputs": [],
   "source": []
  }
 ],
 "metadata": {
  "kernelspec": {
   "display_name": "Python 3 (ipykernel)",
   "language": "python",
   "name": "python3"
  },
  "language_info": {
   "codemirror_mode": {
    "name": "ipython",
    "version": 3
   },
   "file_extension": ".py",
   "mimetype": "text/x-python",
   "name": "python",
   "nbconvert_exporter": "python",
   "pygments_lexer": "ipython3",
   "version": "3.13.7"
  }
 },
 "nbformat": 4,
 "nbformat_minor": 5
}
