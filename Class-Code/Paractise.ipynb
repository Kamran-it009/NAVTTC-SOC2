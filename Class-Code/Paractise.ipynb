{
 "cells": [
  {
   "cell_type": "code",
   "execution_count": 3,
   "id": "8093556d-e96c-44c5-bc5a-3210c4b64b43",
   "metadata": {},
   "outputs": [],
   "source": [
    "def simple_generator():\n",
    "    yield 1\n",
    "    yield 2\n",
    "    yield 3\n",
    "\n",
    "# Create a generator object\n",
    "gen = simple_generator()"
   ]
  },
  {
   "cell_type": "code",
   "execution_count": 4,
   "id": "97862f54-c7db-4838-8bbe-cd0af2e41588",
   "metadata": {},
   "outputs": [
    {
     "data": {
      "text/plain": [
       "1"
      ]
     },
     "execution_count": 4,
     "metadata": {},
     "output_type": "execute_result"
    }
   ],
   "source": [
    "next(gen)"
   ]
  },
  {
   "cell_type": "code",
   "execution_count": 5,
   "id": "f030e144-6374-4caf-afbf-f7a7dc560a30",
   "metadata": {},
   "outputs": [
    {
     "data": {
      "text/plain": [
       "2"
      ]
     },
     "execution_count": 5,
     "metadata": {},
     "output_type": "execute_result"
    }
   ],
   "source": [
    "next(gen)"
   ]
  },
  {
   "cell_type": "code",
   "execution_count": 6,
   "id": "381325fc-b204-420e-9071-f83f268edec4",
   "metadata": {},
   "outputs": [
    {
     "data": {
      "text/plain": [
       "3"
      ]
     },
     "execution_count": 6,
     "metadata": {},
     "output_type": "execute_result"
    }
   ],
   "source": [
    "next(gen)"
   ]
  },
  {
   "cell_type": "code",
   "execution_count": 9,
   "id": "9f092154-5391-4ba2-b0fb-88f6612efb6b",
   "metadata": {},
   "outputs": [],
   "source": [
    "fruits = ['apple', 'banana', 'cherry']\n",
    "n = iter(fruits)"
   ]
  },
  {
   "cell_type": "code",
   "execution_count": 10,
   "id": "7cd7f4b7-d35d-42b4-a955-af482bc01315",
   "metadata": {},
   "outputs": [
    {
     "data": {
      "text/plain": [
       "'apple'"
      ]
     },
     "execution_count": 10,
     "metadata": {},
     "output_type": "execute_result"
    }
   ],
   "source": [
    "next(n)"
   ]
  },
  {
   "cell_type": "code",
   "execution_count": 11,
   "id": "ce288efd-d7cc-46c0-ac33-4dbc121e1f78",
   "metadata": {},
   "outputs": [
    {
     "data": {
      "text/plain": [
       "'banana'"
      ]
     },
     "execution_count": 11,
     "metadata": {},
     "output_type": "execute_result"
    }
   ],
   "source": [
    "next(n)"
   ]
  },
  {
   "cell_type": "code",
   "execution_count": 12,
   "id": "ba3c1f9f-0d90-40d9-baa7-dbc106b165db",
   "metadata": {},
   "outputs": [
    {
     "name": "stdout",
     "output_type": "stream",
     "text": [
      "<class 'generator'>\n"
     ]
    }
   ],
   "source": [
    "gen = (x * x for x in range(5))\n",
    "print(type(gen))"
   ]
  },
  {
   "cell_type": "code",
   "execution_count": 13,
   "id": "41147158-f265-4a5f-b560-598353cdccea",
   "metadata": {},
   "outputs": [
    {
     "data": {
      "text/plain": [
       "0"
      ]
     },
     "execution_count": 13,
     "metadata": {},
     "output_type": "execute_result"
    }
   ],
   "source": [
    "next(gen)"
   ]
  },
  {
   "cell_type": "code",
   "execution_count": 14,
   "id": "7cd09e9e-3777-42f2-bcdb-45ce8f56f4cd",
   "metadata": {},
   "outputs": [
    {
     "data": {
      "text/plain": [
       "1"
      ]
     },
     "execution_count": 14,
     "metadata": {},
     "output_type": "execute_result"
    }
   ],
   "source": [
    "next(gen)"
   ]
  },
  {
   "cell_type": "code",
   "execution_count": 15,
   "id": "6caa78fa-a246-4d0a-a5da-2d6cc4fc403d",
   "metadata": {},
   "outputs": [
    {
     "data": {
      "text/plain": [
       "4"
      ]
     },
     "execution_count": 15,
     "metadata": {},
     "output_type": "execute_result"
    }
   ],
   "source": [
    "next(gen)"
   ]
  },
  {
   "cell_type": "code",
   "execution_count": 22,
   "id": "8e3eb335-01b3-443c-ac7a-202acb8e95c9",
   "metadata": {},
   "outputs": [],
   "source": [
    "def generator():\n",
    "    x = 0\n",
    "    for i in [1,2,3,4,5]:\n",
    "        yield i"
   ]
  },
  {
   "cell_type": "code",
   "execution_count": 23,
   "id": "95ccfe3f-94f9-4bef-91c6-8bc33d8fe367",
   "metadata": {},
   "outputs": [],
   "source": [
    "n = generator()"
   ]
  },
  {
   "cell_type": "code",
   "execution_count": 24,
   "id": "e4e0af40-a6c9-48e5-a95a-fa61e56472cf",
   "metadata": {},
   "outputs": [
    {
     "data": {
      "text/plain": [
       "1"
      ]
     },
     "execution_count": 24,
     "metadata": {},
     "output_type": "execute_result"
    }
   ],
   "source": [
    "next(n)"
   ]
  },
  {
   "cell_type": "code",
   "execution_count": 25,
   "id": "b38c6a03-e294-4c8f-a839-1c3a1e26cba8",
   "metadata": {},
   "outputs": [
    {
     "data": {
      "text/plain": [
       "2"
      ]
     },
     "execution_count": 25,
     "metadata": {},
     "output_type": "execute_result"
    }
   ],
   "source": [
    "next(n)"
   ]
  },
  {
   "cell_type": "code",
   "execution_count": 44,
   "id": "9244f09e-9edc-48f9-9030-96786127b527",
   "metadata": {},
   "outputs": [
    {
     "name": "stdout",
     "output_type": "stream",
     "text": [
      "Evaluating positional-only arguments: \n",
      "1\n",
      "2\n",
      "6\n"
     ]
    }
   ],
   "source": [
    "\n",
    "def posFun(x, y, /, z):\n",
    "    print(x)\n",
    "    print(y)\n",
    "    print(x + y + z)\n",
    "\n",
    "print(\"Evaluating positional-only arguments: \")\n",
    "posFun(1, 2, 3)"
   ]
  },
  {
   "cell_type": "code",
   "execution_count": null,
   "id": "1fb9fcaa-7360-4b39-b43b-6aa02ff5b5d8",
   "metadata": {},
   "outputs": [],
   "source": []
  }
 ],
 "metadata": {
  "kernelspec": {
   "display_name": "Python 3 (ipykernel)",
   "language": "python",
   "name": "python3"
  },
  "language_info": {
   "codemirror_mode": {
    "name": "ipython",
    "version": 3
   },
   "file_extension": ".py",
   "mimetype": "text/x-python",
   "name": "python",
   "nbconvert_exporter": "python",
   "pygments_lexer": "ipython3",
   "version": "3.12.0"
  }
 },
 "nbformat": 4,
 "nbformat_minor": 5
}
