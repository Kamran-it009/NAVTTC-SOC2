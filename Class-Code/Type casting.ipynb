{
 "cells": [
  {
   "cell_type": "code",
   "execution_count": 1,
   "id": "f0432314-a79d-4dc6-ae1d-3ba2e6aab3ca",
   "metadata": {},
   "outputs": [
    {
     "name": "stdout",
     "output_type": "stream",
     "text": [
      "<class 'float'>\n"
     ]
    }
   ],
   "source": [
    "x = 23.4\n",
    "print(type(x))"
   ]
  },
  {
   "cell_type": "code",
   "execution_count": 2,
   "id": "fc668365-d3b5-44b7-b228-115afb093596",
   "metadata": {},
   "outputs": [
    {
     "name": "stdout",
     "output_type": "stream",
     "text": [
      "23\n",
      "<class 'int'>\n"
     ]
    }
   ],
   "source": [
    "new = int(x)\n",
    "print(new)\n",
    "print(type(new))"
   ]
  },
  {
   "cell_type": "code",
   "execution_count": 3,
   "id": "5adde19d-42e9-431a-8a7f-90a501c9b504",
   "metadata": {},
   "outputs": [
    {
     "name": "stdout",
     "output_type": "stream",
     "text": [
      "<class 'int'>\n"
     ]
    }
   ],
   "source": [
    "height = 54\n",
    "print(type(height))"
   ]
  },
  {
   "cell_type": "code",
   "execution_count": 4,
   "id": "3db81f7c-c112-4968-a80c-b8423b79ea83",
   "metadata": {},
   "outputs": [
    {
     "name": "stdout",
     "output_type": "stream",
     "text": [
      "54.0\n",
      "<class 'float'>\n"
     ]
    }
   ],
   "source": [
    "new2 = float(height)\n",
    "print(new2)\n",
    "print(type(new2))"
   ]
  },
  {
   "cell_type": "code",
   "execution_count": 6,
   "id": "df015662-27ff-4cb4-8113-15ddd7bcec9a",
   "metadata": {},
   "outputs": [
    {
     "name": "stdout",
     "output_type": "stream",
     "text": [
      "54\n",
      "<class 'str'>\n"
     ]
    }
   ],
   "source": [
    "new3 = str(height)\n",
    "print(new3)\n",
    "print(type(new3))"
   ]
  },
  {
   "cell_type": "code",
   "execution_count": 11,
   "id": "726ca315-65dc-4992-99dc-de296816c9e0",
   "metadata": {},
   "outputs": [
    {
     "name": "stdout",
     "output_type": "stream",
     "text": [
      "True\n",
      "<class 'bool'>\n"
     ]
    }
   ],
   "source": [
    "new4 = bool(new2)\n",
    "print(new4)\n",
    "print(type(new4))"
   ]
  },
  {
   "cell_type": "code",
   "execution_count": null,
   "id": "b090c253-f2b9-474d-8fdd-9d960d687824",
   "metadata": {},
   "outputs": [],
   "source": []
  }
 ],
 "metadata": {
  "kernelspec": {
   "display_name": "Python 3 (ipykernel)",
   "language": "python",
   "name": "python3"
  },
  "language_info": {
   "codemirror_mode": {
    "name": "ipython",
    "version": 3
   },
   "file_extension": ".py",
   "mimetype": "text/x-python",
   "name": "python",
   "nbconvert_exporter": "python",
   "pygments_lexer": "ipython3",
   "version": "3.11.5"
  }
 },
 "nbformat": 4,
 "nbformat_minor": 5
}
