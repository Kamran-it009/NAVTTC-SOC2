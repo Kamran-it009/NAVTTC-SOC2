{
 "cells": [
  {
   "cell_type": "code",
   "execution_count": 7,
   "id": "2d7f2e49-c277-4820-b32a-2cbd40195fd0",
   "metadata": {},
   "outputs": [
    {
     "name": "stdout",
     "output_type": "stream",
     "text": [
      "10\n",
      "The type of x: <class 'int'>\n"
     ]
    }
   ],
   "source": [
    "x = 10 # Integer\n",
    "print(x)\n",
    "nature = type(x)\n",
    "print('The type of x:', nature)"
   ]
  },
  {
   "cell_type": "code",
   "execution_count": 8,
   "id": "3fa7022d-40cd-4943-b44a-7e6c723972fe",
   "metadata": {},
   "outputs": [
    {
     "name": "stdout",
     "output_type": "stream",
     "text": [
      "23.4\n",
      "The type of x: <class 'float'>\n"
     ]
    }
   ],
   "source": [
    "y = 23.4 # float\n",
    "print(y)\n",
    "print('The type of x:', type(y))"
   ]
  },
  {
   "cell_type": "code",
   "execution_count": 9,
   "id": "71399ec0-9941-4ae2-8bee-0a21c66c6ac4",
   "metadata": {},
   "outputs": [
    {
     "name": "stdout",
     "output_type": "stream",
     "text": [
      "Kamran\n",
      "The type of x: <class 'str'>\n"
     ]
    }
   ],
   "source": [
    "name = 'Kamran' # string\n",
    "print(name)\n",
    "print('The type of x:', type(name))"
   ]
  },
  {
   "cell_type": "code",
   "execution_count": 10,
   "id": "03ea3a0a-1e1d-480e-b523-dd5b2a2076d5",
   "metadata": {},
   "outputs": [
    {
     "name": "stdout",
     "output_type": "stream",
     "text": [
      "True\n",
      "The type of x: <class 'bool'>\n"
     ]
    }
   ],
   "source": [
    "disable = True # boolean\n",
    "print(disable)\n",
    "print('The type of x:', type(disable))"
   ]
  },
  {
   "cell_type": "code",
   "execution_count": 11,
   "id": "59aa9f03-c727-427c-89e2-7cbc2d6086ea",
   "metadata": {},
   "outputs": [
    {
     "name": "stdout",
     "output_type": "stream",
     "text": [
      "(3+2j)\n",
      "The type of x: <class 'complex'>\n"
     ]
    }
   ],
   "source": [
    "value = 3 + 2j\n",
    "print(value)\n",
    "print('The type of x:', type(value))"
   ]
  },
  {
   "cell_type": "code",
   "execution_count": null,
   "id": "3588160b-9980-4f24-a039-35b16008c0e5",
   "metadata": {},
   "outputs": [],
   "source": []
  }
 ],
 "metadata": {
  "kernelspec": {
   "display_name": "Python 3 (ipykernel)",
   "language": "python",
   "name": "python3"
  },
  "language_info": {
   "codemirror_mode": {
    "name": "ipython",
    "version": 3
   },
   "file_extension": ".py",
   "mimetype": "text/x-python",
   "name": "python",
   "nbconvert_exporter": "python",
   "pygments_lexer": "ipython3",
   "version": "3.11.5"
  }
 },
 "nbformat": 4,
 "nbformat_minor": 5
}
