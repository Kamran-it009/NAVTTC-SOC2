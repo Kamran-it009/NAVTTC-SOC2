{
 "cells": [
  {
   "cell_type": "code",
   "execution_count": 6,
   "id": "e6b0ecf7-2ad0-4b97-8bb6-d0486994684c",
   "metadata": {},
   "outputs": [],
   "source": [
    "file = open('mydata.txt', mode = 'r')"
   ]
  },
  {
   "cell_type": "code",
   "execution_count": 7,
   "id": "5c4fd2f2-649d-4850-b38a-78c0aaea7d55",
   "metadata": {},
   "outputs": [
    {
     "name": "stdout",
     "output_type": "stream",
     "text": [
      "My name is Kamran.\n",
      "I am an AI Engineer\n",
      "I am also a teacher\n",
      "I teach in Cyber Pulse.\n"
     ]
    }
   ],
   "source": [
    "print(file.read())"
   ]
  },
  {
   "cell_type": "code",
   "execution_count": 8,
   "id": "2b7d6b53-c90c-4199-835a-a8b5e419beb6",
   "metadata": {},
   "outputs": [
    {
     "name": "stdout",
     "output_type": "stream",
     "text": [
      "\n"
     ]
    }
   ],
   "source": [
    "print(file.read())"
   ]
  },
  {
   "cell_type": "code",
   "execution_count": 12,
   "id": "bcf08bd1-8545-46f2-a405-b0c190fbfbe2",
   "metadata": {},
   "outputs": [
    {
     "data": {
      "text/plain": [
       "0"
      ]
     },
     "execution_count": 12,
     "metadata": {},
     "output_type": "execute_result"
    }
   ],
   "source": [
    "file.seek(0)"
   ]
  },
  {
   "cell_type": "code",
   "execution_count": 13,
   "id": "9081639d-4646-40fe-95a6-b5d5eea0c2a2",
   "metadata": {},
   "outputs": [
    {
     "name": "stdout",
     "output_type": "stream",
     "text": [
      "My name is Kamran.\n",
      "I am an AI Engineer\n",
      "I am also a teacher\n",
      "I teach in Cyber Pulse.\n"
     ]
    }
   ],
   "source": [
    "print(file.read())"
   ]
  },
  {
   "cell_type": "code",
   "execution_count": 14,
   "id": "55672afd-6249-4743-8423-41295af01be0",
   "metadata": {},
   "outputs": [
    {
     "data": {
      "text/plain": [
       "20"
      ]
     },
     "execution_count": 14,
     "metadata": {},
     "output_type": "execute_result"
    }
   ],
   "source": [
    "file.seek(20)"
   ]
  },
  {
   "cell_type": "code",
   "execution_count": 15,
   "id": "f7b60285-34fd-4f48-90e7-19e967d1b180",
   "metadata": {},
   "outputs": [
    {
     "name": "stdout",
     "output_type": "stream",
     "text": [
      " am an AI Engineer\n",
      "I am also a teacher\n",
      "I teach in Cyber Pulse.\n"
     ]
    }
   ],
   "source": [
    "print(file.read())"
   ]
  },
  {
   "cell_type": "code",
   "execution_count": 21,
   "id": "b5080fa4-e7c1-4e0d-9b62-e1d60f2311f0",
   "metadata": {},
   "outputs": [
    {
     "data": {
      "text/plain": [
       "0"
      ]
     },
     "execution_count": 21,
     "metadata": {},
     "output_type": "execute_result"
    }
   ],
   "source": [
    "file.seek(0)"
   ]
  },
  {
   "cell_type": "code",
   "execution_count": 17,
   "id": "b8b6d9e1-2837-4ce7-bfaa-2d080ed781a0",
   "metadata": {},
   "outputs": [
    {
     "data": {
      "text/plain": [
       "'My name is Kamran.\\n'"
      ]
     },
     "execution_count": 17,
     "metadata": {},
     "output_type": "execute_result"
    }
   ],
   "source": [
    "file.readline()"
   ]
  },
  {
   "cell_type": "code",
   "execution_count": 18,
   "id": "0512bac1-9d9c-48e3-8e67-76213072d98a",
   "metadata": {},
   "outputs": [
    {
     "name": "stdout",
     "output_type": "stream",
     "text": [
      "I am an AI Engineer\n",
      "\n"
     ]
    }
   ],
   "source": [
    "print(file.readline())"
   ]
  },
  {
   "cell_type": "code",
   "execution_count": 19,
   "id": "c3fea69d-4b83-434b-bce9-f01ee46bdf26",
   "metadata": {},
   "outputs": [
    {
     "name": "stdout",
     "output_type": "stream",
     "text": [
      "I am also a teacher\n",
      "\n"
     ]
    }
   ],
   "source": [
    "print(file.readline())"
   ]
  },
  {
   "cell_type": "code",
   "execution_count": 22,
   "id": "efe19564-afe8-44e7-b095-86592f503799",
   "metadata": {},
   "outputs": [
    {
     "name": "stdout",
     "output_type": "stream",
     "text": [
      "['My name is Kamran.\\n', 'I am an AI Engineer\\n', 'I am also a teacher\\n', 'I teach in Cyber Pulse.']\n"
     ]
    }
   ],
   "source": [
    "print(file.readlines())"
   ]
  },
  {
   "cell_type": "code",
   "execution_count": 23,
   "id": "6e1aff9b-94f5-43a0-a1ef-1b4d1e9fd66c",
   "metadata": {},
   "outputs": [
    {
     "data": {
      "text/plain": [
       "<_io.TextIOWrapper name='mydata.txt' mode='r' encoding='cp1252'>"
      ]
     },
     "execution_count": 23,
     "metadata": {},
     "output_type": "execute_result"
    }
   ],
   "source": [
    "file"
   ]
  },
  {
   "cell_type": "code",
   "execution_count": 24,
   "id": "c383ab0a-f13e-4375-a8a6-9f0af087532d",
   "metadata": {},
   "outputs": [],
   "source": [
    "file.close()"
   ]
  },
  {
   "cell_type": "code",
   "execution_count": 25,
   "id": "12119af5-85c1-4bdf-855d-8b2ca5f03492",
   "metadata": {},
   "outputs": [
    {
     "ename": "ValueError",
     "evalue": "I/O operation on closed file.",
     "output_type": "error",
     "traceback": [
      "\u001b[31m---------------------------------------------------------------------------\u001b[39m",
      "\u001b[31mValueError\u001b[39m                                Traceback (most recent call last)",
      "\u001b[36mCell\u001b[39m\u001b[36m \u001b[39m\u001b[32mIn[25]\u001b[39m\u001b[32m, line 1\u001b[39m\n\u001b[32m----> \u001b[39m\u001b[32m1\u001b[39m \u001b[43mfile\u001b[49m\u001b[43m.\u001b[49m\u001b[43mread\u001b[49m\u001b[43m(\u001b[49m\u001b[43m)\u001b[49m\n",
      "\u001b[31mValueError\u001b[39m: I/O operation on closed file."
     ]
    }
   ],
   "source": [
    "file.read()"
   ]
  },
  {
   "cell_type": "code",
   "execution_count": 26,
   "id": "92148d95-3ec7-4750-ac8d-a857b8dc2d43",
   "metadata": {},
   "outputs": [
    {
     "name": "stdout",
     "output_type": "stream",
     "text": [
      "My name is Kamran.\n",
      "I am an AI Engineer\n",
      "I am also a teacher\n",
      "I teach in Cyber Pulse.\n"
     ]
    }
   ],
   "source": [
    "file = open('mydata.txt', mode = 'r')\n",
    "print(file.read())\n",
    "file.close()"
   ]
  },
  {
   "cell_type": "code",
   "execution_count": 27,
   "id": "669c559b-218c-4b84-a479-01edfd50531e",
   "metadata": {},
   "outputs": [
    {
     "name": "stdout",
     "output_type": "stream",
     "text": [
      "My name is Kamran.\n",
      "I am an AI Engineer\n",
      "I am also a teacher\n",
      "I teach in Cyber Pulse.\n"
     ]
    }
   ],
   "source": [
    "with open('mydata.txt', mode = 'r') as file:\n",
    "    print(file.read())"
   ]
  },
  {
   "cell_type": "code",
   "execution_count": 28,
   "id": "42b45d6f-a7c0-4ea0-b665-7293699e3513",
   "metadata": {},
   "outputs": [
    {
     "ename": "ValueError",
     "evalue": "I/O operation on closed file.",
     "output_type": "error",
     "traceback": [
      "\u001b[31m---------------------------------------------------------------------------\u001b[39m",
      "\u001b[31mValueError\u001b[39m                                Traceback (most recent call last)",
      "\u001b[36mCell\u001b[39m\u001b[36m \u001b[39m\u001b[32mIn[28]\u001b[39m\u001b[32m, line 1\u001b[39m\n\u001b[32m----> \u001b[39m\u001b[32m1\u001b[39m \u001b[43mfile\u001b[49m\u001b[43m.\u001b[49m\u001b[43mread\u001b[49m\u001b[43m(\u001b[49m\u001b[43m)\u001b[49m\n",
      "\u001b[31mValueError\u001b[39m: I/O operation on closed file."
     ]
    }
   ],
   "source": [
    "file.read()"
   ]
  },
  {
   "cell_type": "code",
   "execution_count": 29,
   "id": "5b6c37d1-0867-4f53-a2d8-1840b0baaa35",
   "metadata": {},
   "outputs": [],
   "source": [
    "with open(\"data.txt\", 'w') as file:  \n",
    "    file.write(\"Pakistan zinda bad\")\n"
   ]
  },
  {
   "cell_type": "code",
   "execution_count": 30,
   "id": "1c345de8-8db2-4b51-bccd-ec3ccd331937",
   "metadata": {},
   "outputs": [],
   "source": [
    "with open(\"mydata.txt\", 'w') as file:  \n",
    "    file.write(\"Pakistan zinda bad\")"
   ]
  },
  {
   "cell_type": "code",
   "execution_count": 31,
   "id": "a6323021-56ff-4868-801e-b26f25fe98ae",
   "metadata": {},
   "outputs": [],
   "source": [
    "with open(\"mydata.txt\", 'a') as file:  \n",
    "    file.write(\"I am an AI Engineer\")"
   ]
  },
  {
   "cell_type": "code",
   "execution_count": null,
   "id": "6eccf41b-f7dd-49dd-9115-6f993082c44d",
   "metadata": {},
   "outputs": [],
   "source": []
  }
 ],
 "metadata": {
  "kernelspec": {
   "display_name": "Python 3 (ipykernel)",
   "language": "python",
   "name": "python3"
  },
  "language_info": {
   "codemirror_mode": {
    "name": "ipython",
    "version": 3
   },
   "file_extension": ".py",
   "mimetype": "text/x-python",
   "name": "python",
   "nbconvert_exporter": "python",
   "pygments_lexer": "ipython3",
   "version": "3.13.7"
  }
 },
 "nbformat": 4,
 "nbformat_minor": 5
}
