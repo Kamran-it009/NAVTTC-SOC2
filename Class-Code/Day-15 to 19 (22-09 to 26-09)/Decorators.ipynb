{
 "cells": [
  {
   "cell_type": "code",
   "execution_count": 26,
   "id": "21318f2b-745e-424a-a32b-82c4185565ee",
   "metadata": {},
   "outputs": [],
   "source": [
    "# This is the decorator function\n",
    "def my_decorator(func, name):\n",
    "    def wrapper():\n",
    "        print(\"Something is happening before the function is called.\")\n",
    "        func()\n",
    "        print(\"Something is happening after the function is called.\")\n",
    "    return wrapper"
   ]
  },
  {
   "cell_type": "code",
   "execution_count": 27,
   "id": "e57aa2eb-d17b-4a90-ab2b-360364bd62bd",
   "metadata": {},
   "outputs": [
    {
     "ename": "TypeError",
     "evalue": "my_decorator() missing 1 required positional argument: 'name'",
     "output_type": "error",
     "traceback": [
      "\u001b[31m---------------------------------------------------------------------------\u001b[39m",
      "\u001b[31mTypeError\u001b[39m                                 Traceback (most recent call last)",
      "\u001b[36mCell\u001b[39m\u001b[36m \u001b[39m\u001b[32mIn[27]\u001b[39m\u001b[32m, line 1\u001b[39m\n\u001b[32m----> \u001b[39m\u001b[32m1\u001b[39m \u001b[38;5;129;43m@my_decorator\u001b[39;49m\n\u001b[32m      2\u001b[39m \u001b[38;5;28;43;01mdef\u001b[39;49;00m\u001b[38;5;250;43m \u001b[39;49m\u001b[34;43msay_hello\u001b[39;49m\u001b[43m(\u001b[49m\u001b[43m)\u001b[49m\u001b[43m:\u001b[49m\n\u001b[32m      3\u001b[39m \u001b[43m    \u001b[49m\u001b[38;5;28;43mprint\u001b[39;49m\u001b[43m(\u001b[49m\u001b[33;43m\"\u001b[39;49m\u001b[33;43mHello!\u001b[39;49m\u001b[33;43m\"\u001b[39;49m\u001b[43m)\u001b[49m\n",
      "\u001b[31mTypeError\u001b[39m: my_decorator() missing 1 required positional argument: 'name'"
     ]
    }
   ],
   "source": [
    "@my_decorator\n",
    "def say_hello():\n",
    "    print(\"Hello!\")"
   ]
  },
  {
   "cell_type": "code",
   "execution_count": 16,
   "id": "69d43f43-5fc6-4c45-b32c-5137b48caabf",
   "metadata": {},
   "outputs": [
    {
     "name": "stdout",
     "output_type": "stream",
     "text": [
      "Something is happening before the function is called.\n",
      "Hello!\n",
      "Something is happening after the function is called.\n"
     ]
    }
   ],
   "source": [
    "say_hello()"
   ]
  },
  {
   "cell_type": "code",
   "execution_count": 17,
   "id": "98c8331b-bc56-4b9a-bd6e-081ca7fffb3e",
   "metadata": {},
   "outputs": [],
   "source": [
    "@my_decorator()\n",
    "def say_hi():\n",
    "    print('Hi...')"
   ]
  },
  {
   "cell_type": "code",
   "execution_count": 18,
   "id": "79c15c91-236c-4c22-875e-74eb64dc1460",
   "metadata": {},
   "outputs": [
    {
     "name": "stdout",
     "output_type": "stream",
     "text": [
      "Something is happening before the function is called.\n",
      "Hi...\n",
      "Something is happening after the function is called.\n"
     ]
    }
   ],
   "source": [
    "say_hi()"
   ]
  },
  {
   "cell_type": "code",
   "execution_count": 30,
   "id": "0bfa68cf-eecd-4648-96b9-256dd72701bc",
   "metadata": {},
   "outputs": [
    {
     "ename": "TypeError",
     "evalue": "my_decorator.<locals>.wrapper() takes 0 positional arguments but 1 was given",
     "output_type": "error",
     "traceback": [
      "\u001b[31m---------------------------------------------------------------------------\u001b[39m",
      "\u001b[31mTypeError\u001b[39m                                 Traceback (most recent call last)",
      "\u001b[36mCell\u001b[39m\u001b[36m \u001b[39m\u001b[32mIn[30]\u001b[39m\u001b[32m, line 1\u001b[39m\n\u001b[32m----> \u001b[39m\u001b[32m1\u001b[39m \u001b[38;5;129;43m@my_decorator\u001b[39;49m\u001b[43m(\u001b[49m\u001b[43mfunc\u001b[49m\u001b[43m \u001b[49m\u001b[43m=\u001b[49m\u001b[43m \u001b[49m\u001b[43mget_name\u001b[49m\u001b[43m,\u001b[49m\u001b[43m \u001b[49m\u001b[43mname\u001b[49m\u001b[43m \u001b[49m\u001b[43m=\u001b[49m\u001b[43m \u001b[49m\u001b[33;43m'\u001b[39;49m\u001b[33;43mKamran\u001b[39;49m\u001b[33;43m'\u001b[39;49m\u001b[43m)\u001b[49m\n\u001b[32m      2\u001b[39m \u001b[38;5;28;43;01mdef\u001b[39;49;00m\u001b[38;5;250;43m \u001b[39;49m\u001b[34;43mget_name\u001b[39;49m\u001b[43m(\u001b[49m\u001b[43mname\u001b[49m\u001b[43m)\u001b[49m\u001b[43m:\u001b[49m\n\u001b[32m      3\u001b[39m \u001b[43m    \u001b[49m\u001b[38;5;28;43;01mreturn\u001b[39;49;00m\u001b[43m \u001b[49m\u001b[33;43mf\u001b[39;49m\u001b[33;43m'\u001b[39;49m\u001b[33;43mHow are you..? \u001b[39;49m\u001b[38;5;132;43;01m{\u001b[39;49;00m\u001b[43mname\u001b[49m\u001b[38;5;132;43;01m}\u001b[39;49;00m\u001b[33;43m'\u001b[39;49m\n",
      "\u001b[31mTypeError\u001b[39m: my_decorator.<locals>.wrapper() takes 0 positional arguments but 1 was given"
     ]
    }
   ],
   "source": [
    "@my_decorator()\n",
    "def get_name(name):\n",
    "    return f'How are you..? {name}'"
   ]
  },
  {
   "cell_type": "code",
   "execution_count": 22,
   "id": "8b481ae6-42e1-4c38-bd92-70805e07d637",
   "metadata": {},
   "outputs": [
    {
     "name": "stdout",
     "output_type": "stream",
     "text": [
      "Something is happening before the function is called.\n",
      "Something is happening after the function is called.\n"
     ]
    }
   ],
   "source": [
    "x = get_name()"
   ]
  },
  {
   "cell_type": "code",
   "execution_count": 35,
   "id": "cb7e9a2f-66a5-43a3-88ff-7251538e47f1",
   "metadata": {},
   "outputs": [],
   "source": [
    "# This is the decorator function\n",
    "def my_decorator(func, name):\n",
    "    def wrapper(*name):\n",
    "        print(\"Something is happening before the function is called.\")\n",
    "        func(name)\n",
    "        print(\"Something is happening after the function is called.\")\n",
    "    return wrapper"
   ]
  },
  {
   "cell_type": "code",
   "execution_count": 36,
   "id": "078c9a46-76e0-4a3d-912e-5e3333729050",
   "metadata": {},
   "outputs": [
    {
     "ename": "TypeError",
     "evalue": "my_decorator() missing 1 required positional argument: 'name'",
     "output_type": "error",
     "traceback": [
      "\u001b[31m---------------------------------------------------------------------------\u001b[39m",
      "\u001b[31mTypeError\u001b[39m                                 Traceback (most recent call last)",
      "\u001b[36mCell\u001b[39m\u001b[36m \u001b[39m\u001b[32mIn[36]\u001b[39m\u001b[32m, line 1\u001b[39m\n\u001b[32m----> \u001b[39m\u001b[32m1\u001b[39m \u001b[38;5;129;43m@my_decorator\u001b[39;49m\n\u001b[32m      2\u001b[39m \u001b[38;5;28;43;01mdef\u001b[39;49;00m\u001b[38;5;250;43m \u001b[39;49m\u001b[34;43mget_name\u001b[39;49m\u001b[43m(\u001b[49m\u001b[43mname\u001b[49m\u001b[43m)\u001b[49m\u001b[43m:\u001b[49m\n\u001b[32m      3\u001b[39m \u001b[43m    \u001b[49m\u001b[38;5;28;43;01mreturn\u001b[39;49;00m\u001b[43m \u001b[49m\u001b[33;43mf\u001b[39;49m\u001b[33;43m'\u001b[39;49m\u001b[33;43mHow are you..? \u001b[39;49m\u001b[38;5;132;43;01m{\u001b[39;49;00m\u001b[43mname\u001b[49m\u001b[38;5;132;43;01m}\u001b[39;49;00m\u001b[33;43m'\u001b[39;49m\n",
      "\u001b[31mTypeError\u001b[39m: my_decorator() missing 1 required positional argument: 'name'"
     ]
    }
   ],
   "source": [
    "@my_decorator\n",
    "def get_name(name):\n",
    "    return f'How are you..? {name}'"
   ]
  },
  {
   "cell_type": "code",
   "execution_count": 39,
   "id": "5f6e57e6-36c6-4b75-8b18-7b4cb2ef6ef4",
   "metadata": {},
   "outputs": [],
   "source": [
    "import time\n",
    "\n",
    "def boil_water():\n",
    "    print(\"Boiling water...\")\n",
    "    time.sleep(3)\n",
    "    print(\"Water is ready!\")\n",
    "\n",
    "def toast_bread():\n",
    "    print(\"Toasting bread...\")\n",
    "    time.sleep(2)\n",
    "    print(\"Bread is toasted!\")\n",
    "\n",
    "def make_breakfast():\n",
    "    boil_water()\n",
    "    toast_bread()\n",
    "    print(\"Breakfast is ready!\")\n"
   ]
  },
  {
   "cell_type": "code",
   "execution_count": 41,
   "id": "352663f8-0762-4630-9c97-95ebd7be6457",
   "metadata": {},
   "outputs": [
    {
     "name": "stdout",
     "output_type": "stream",
     "text": [
      "Boiling water...\n",
      "Water is ready!\n",
      "Toasting bread...\n",
      "Bread is toasted!\n",
      "Breakfast is ready!\n",
      "Total time: 5.0\n"
     ]
    }
   ],
   "source": [
    "import time\n",
    "start_time = time.time()\n",
    "make_breakfast()\n",
    "end_time = time.time()\n",
    "print(\"Total time:\", round(end_time - start_time, 2))"
   ]
  },
  {
   "cell_type": "code",
   "execution_count": 48,
   "id": "efb6b817-1fc4-4ac5-a19e-2924e786c8b5",
   "metadata": {},
   "outputs": [
    {
     "ename": "RuntimeError",
     "evalue": "asyncio.run() cannot be called from a running event loop",
     "output_type": "error",
     "traceback": [
      "\u001b[31m---------------------------------------------------------------------------\u001b[39m",
      "\u001b[31mRuntimeError\u001b[39m                              Traceback (most recent call last)",
      "\u001b[36mCell\u001b[39m\u001b[36m \u001b[39m\u001b[32mIn[48]\u001b[39m\u001b[32m, line 24\u001b[39m\n\u001b[32m     21\u001b[39m     \u001b[38;5;28mprint\u001b[39m(\u001b[33m\"\u001b[39m\u001b[33mBreakfast is ready!\u001b[39m\u001b[33m\"\u001b[39m)\n\u001b[32m     23\u001b[39m start_time = time.time()  \u001b[38;5;66;03m# Start the timer\u001b[39;00m\n\u001b[32m---> \u001b[39m\u001b[32m24\u001b[39m \u001b[43masyncio\u001b[49m\u001b[43m.\u001b[49m\u001b[43mrun\u001b[49m\u001b[43m(\u001b[49m\u001b[43mmake_breakfast\u001b[49m\u001b[43m(\u001b[49m\u001b[43m)\u001b[49m\u001b[43m)\u001b[49m\n\u001b[32m     25\u001b[39m end_time = time.time()  \u001b[38;5;66;03m# End the timer\u001b[39;00m\n\u001b[32m     26\u001b[39m \u001b[38;5;28mprint\u001b[39m(\u001b[33mf\u001b[39m\u001b[33m\"\u001b[39m\u001b[33mTotal time taken: \u001b[39m\u001b[38;5;132;01m{\u001b[39;00mend_time\u001b[38;5;250m \u001b[39m-\u001b[38;5;250m \u001b[39mstart_time\u001b[38;5;132;01m:\u001b[39;00m\u001b[33m.2f\u001b[39m\u001b[38;5;132;01m}\u001b[39;00m\u001b[33m seconds\u001b[39m\u001b[33m\"\u001b[39m)\n",
      "\u001b[36mFile \u001b[39m\u001b[32m~\\AppData\\Local\\Programs\\Python\\Python313\\Lib\\asyncio\\runners.py:191\u001b[39m, in \u001b[36mrun\u001b[39m\u001b[34m(main, debug, loop_factory)\u001b[39m\n\u001b[32m    161\u001b[39m \u001b[38;5;250m\u001b[39m\u001b[33;03m\"\"\"Execute the coroutine and return the result.\u001b[39;00m\n\u001b[32m    162\u001b[39m \n\u001b[32m    163\u001b[39m \u001b[33;03mThis function runs the passed coroutine, taking care of\u001b[39;00m\n\u001b[32m   (...)\u001b[39m\u001b[32m    187\u001b[39m \u001b[33;03m    asyncio.run(main())\u001b[39;00m\n\u001b[32m    188\u001b[39m \u001b[33;03m\"\"\"\u001b[39;00m\n\u001b[32m    189\u001b[39m \u001b[38;5;28;01mif\u001b[39;00m events._get_running_loop() \u001b[38;5;129;01mis\u001b[39;00m \u001b[38;5;129;01mnot\u001b[39;00m \u001b[38;5;28;01mNone\u001b[39;00m:\n\u001b[32m    190\u001b[39m     \u001b[38;5;66;03m# fail fast with short traceback\u001b[39;00m\n\u001b[32m--> \u001b[39m\u001b[32m191\u001b[39m     \u001b[38;5;28;01mraise\u001b[39;00m \u001b[38;5;167;01mRuntimeError\u001b[39;00m(\n\u001b[32m    192\u001b[39m         \u001b[33m\"\u001b[39m\u001b[33masyncio.run() cannot be called from a running event loop\u001b[39m\u001b[33m\"\u001b[39m)\n\u001b[32m    194\u001b[39m \u001b[38;5;28;01mwith\u001b[39;00m Runner(debug=debug, loop_factory=loop_factory) \u001b[38;5;28;01mas\u001b[39;00m runner:\n\u001b[32m    195\u001b[39m     \u001b[38;5;28;01mreturn\u001b[39;00m runner.run(main)\n",
      "\u001b[31mRuntimeError\u001b[39m: asyncio.run() cannot be called from a running event loop"
     ]
    }
   ],
   "source": [
    "import asyncio\n",
    "\n",
    "\n",
    "async def boil_water():\n",
    "    print(\"Boiling water... (3 seconds)\")\n",
    "    asyncio.sleep(3)\n",
    "    print(\"Water is ready!\")\n",
    "\n",
    "async def toast_bread():\n",
    "    print(\"Toasting bread...(2 seconds)\")\n",
    "    asyncio.sleep(2)\n",
    "    print(\"Bread is toasted!\")\n",
    "\n",
    "start_time = time.time()  # Start the timer\n",
    "async def make_breakfast():\n",
    "    # Run both tasks at the same time\n",
    "    asyncio.gather(\n",
    "        boil_water(),\n",
    "        toast_bread()\n",
    "    )\n",
    "    print(\"Breakfast is ready!\")\n",
    "\n",
    "start_time = time.time()  # Start the timer\n",
    "asyncio.run(make_breakfast())\n",
    "end_time = time.time()  # End the timer\n",
    "print(f\"Total time taken: {end_time - start_time:.2f} seconds\")"
   ]
  },
  {
   "cell_type": "code",
   "execution_count": 50,
   "id": "519efee7-a3a3-4d7a-85b2-c620a01cf7cc",
   "metadata": {},
   "outputs": [
    {
     "name": "stdout",
     "output_type": "stream",
     "text": [
      "Boiling water... (3 seconds)\n",
      "Toasting bread...(2 seconds)\n",
      "Bread is toasted!\n",
      "Water is ready!\n",
      "Breakfast is ready!\n",
      "Total time taken: 3.01 seconds\n"
     ]
    }
   ],
   "source": [
    "import asyncio\n",
    "import time\n",
    "\n",
    "# Async function to simulate boiling water\n",
    "async def boil_water():\n",
    "    print(\"Boiling water... (3 seconds)\")\n",
    "    await asyncio.sleep(3)  # Await the sleep function\n",
    "    print(\"Water is ready!\")\n",
    "\n",
    "# Async function to simulate toasting bread\n",
    "async def toast_bread():\n",
    "    print(\"Toasting bread...(2 seconds)\")\n",
    "    await asyncio.sleep(2)  # Await the sleep function\n",
    "    print(\"Bread is toasted!\")\n",
    "\n",
    "# Main async function to manage breakfast preparation\n",
    "async def make_breakfast():\n",
    "    # Run both tasks concurrently\n",
    "    await asyncio.gather(\n",
    "        boil_water(),\n",
    "        toast_bread()\n",
    "    )\n",
    "    print(\"Breakfast is ready!\")\n",
    "\n",
    "# Timer to track total time\n",
    "start_time = time.time()\n",
    "\n",
    "# Since you're likely in an environment with an active event loop (e.g., Jupyter), just use `await`\n",
    "await make_breakfast()\n",
    "\n",
    "# Timer end\n",
    "end_time = time.time()\n",
    "\n",
    "print(f\"Total time taken: {end_time - start_time:.2f} seconds\")\n"
   ]
  },
  {
   "cell_type": "code",
   "execution_count": null,
   "id": "557abff6-845d-41b6-a1f9-c48fb38a1e59",
   "metadata": {},
   "outputs": [],
   "source": []
  }
 ],
 "metadata": {
  "kernelspec": {
   "display_name": "Python 3 (ipykernel)",
   "language": "python",
   "name": "python3"
  },
  "language_info": {
   "codemirror_mode": {
    "name": "ipython",
    "version": 3
   },
   "file_extension": ".py",
   "mimetype": "text/x-python",
   "name": "python",
   "nbconvert_exporter": "python",
   "pygments_lexer": "ipython3",
   "version": "3.13.7"
  }
 },
 "nbformat": 4,
 "nbformat_minor": 5
}
