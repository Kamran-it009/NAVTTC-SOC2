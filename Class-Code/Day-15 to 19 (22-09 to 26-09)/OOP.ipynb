{
 "cells": [
  {
   "cell_type": "code",
   "execution_count": 14,
   "id": "23b7ba57-48a3-47e2-808f-c5a54325a77a",
   "metadata": {},
   "outputs": [],
   "source": [
    "class Person:\n",
    "    name = 'Ali'\n",
    "    age = 23\n",
    "    gender = 'male'\n",
    "\n",
    "    def walk(self): # object method\n",
    "        print('The person is walking')\n",
    "    def eat(): # class method\n",
    "        print('The person is eating')\n",
    "    def speak(self): # object method\n",
    "        print('The person is speaking')\n",
    "    def jump(self): # object method\n",
    "        print('The perosn is jumping')"
   ]
  },
  {
   "cell_type": "code",
   "execution_count": 15,
   "id": "cbd25b80-f157-41d1-8087-dd5a8551ae9b",
   "metadata": {},
   "outputs": [],
   "source": [
    "p1 = Person()"
   ]
  },
  {
   "cell_type": "code",
   "execution_count": 16,
   "id": "b9ae96a2-24e9-4c1f-885c-64db23523635",
   "metadata": {},
   "outputs": [
    {
     "data": {
      "text/plain": [
       "23"
      ]
     },
     "execution_count": 16,
     "metadata": {},
     "output_type": "execute_result"
    }
   ],
   "source": [
    "p1.age"
   ]
  },
  {
   "cell_type": "code",
   "execution_count": 17,
   "id": "6f023a1f-5596-4439-837f-3cf16ef0f21c",
   "metadata": {},
   "outputs": [
    {
     "data": {
      "text/plain": [
       "'Ali'"
      ]
     },
     "execution_count": 17,
     "metadata": {},
     "output_type": "execute_result"
    }
   ],
   "source": [
    "p1.name"
   ]
  },
  {
   "cell_type": "code",
   "execution_count": 18,
   "id": "44d13b19-d655-46d2-8335-9704bd8e9763",
   "metadata": {},
   "outputs": [
    {
     "name": "stdout",
     "output_type": "stream",
     "text": [
      "The person is walking\n"
     ]
    }
   ],
   "source": [
    "p1.walk()"
   ]
  },
  {
   "cell_type": "code",
   "execution_count": 19,
   "id": "0c149dcd-239d-438e-a9a6-598f837ef54f",
   "metadata": {},
   "outputs": [
    {
     "ename": "TypeError",
     "evalue": "Person.eat() takes 0 positional arguments but 1 was given",
     "output_type": "error",
     "traceback": [
      "\u001b[31m---------------------------------------------------------------------------\u001b[39m",
      "\u001b[31mTypeError\u001b[39m                                 Traceback (most recent call last)",
      "\u001b[36mCell\u001b[39m\u001b[36m \u001b[39m\u001b[32mIn[19]\u001b[39m\u001b[32m, line 1\u001b[39m\n\u001b[32m----> \u001b[39m\u001b[32m1\u001b[39m \u001b[43mp1\u001b[49m\u001b[43m.\u001b[49m\u001b[43meat\u001b[49m\u001b[43m(\u001b[49m\u001b[43m)\u001b[49m\n",
      "\u001b[31mTypeError\u001b[39m: Person.eat() takes 0 positional arguments but 1 was given"
     ]
    }
   ],
   "source": [
    "p1.eat()"
   ]
  },
  {
   "cell_type": "code",
   "execution_count": 20,
   "id": "7e29d33d-892d-4314-a427-507c5c249f69",
   "metadata": {},
   "outputs": [
    {
     "name": "stdout",
     "output_type": "stream",
     "text": [
      "The person is eating\n"
     ]
    }
   ],
   "source": [
    "Person.eat()"
   ]
  },
  {
   "cell_type": "code",
   "execution_count": 21,
   "id": "a94e5065-f9d5-472a-a72e-b75b4f4ae6e0",
   "metadata": {},
   "outputs": [
    {
     "data": {
      "text/plain": [
       "23"
      ]
     },
     "execution_count": 21,
     "metadata": {},
     "output_type": "execute_result"
    }
   ],
   "source": [
    "Person.age"
   ]
  },
  {
   "cell_type": "code",
   "execution_count": 22,
   "id": "8790d3d9-c692-41ac-b5e2-7087a7b8d66a",
   "metadata": {},
   "outputs": [
    {
     "ename": "TypeError",
     "evalue": "Person.walk() missing 1 required positional argument: 'self'",
     "output_type": "error",
     "traceback": [
      "\u001b[31m---------------------------------------------------------------------------\u001b[39m",
      "\u001b[31mTypeError\u001b[39m                                 Traceback (most recent call last)",
      "\u001b[36mCell\u001b[39m\u001b[36m \u001b[39m\u001b[32mIn[22]\u001b[39m\u001b[32m, line 1\u001b[39m\n\u001b[32m----> \u001b[39m\u001b[32m1\u001b[39m \u001b[43mPerson\u001b[49m\u001b[43m.\u001b[49m\u001b[43mwalk\u001b[49m\u001b[43m(\u001b[49m\u001b[43m)\u001b[49m\n",
      "\u001b[31mTypeError\u001b[39m: Person.walk() missing 1 required positional argument: 'self'"
     ]
    }
   ],
   "source": [
    "Person.walk()"
   ]
  },
  {
   "cell_type": "code",
   "execution_count": 24,
   "id": "045db2e1-8fb7-4bff-90a7-b1350b8fcaf7",
   "metadata": {},
   "outputs": [
    {
     "name": "stdout",
     "output_type": "stream",
     "text": [
      "<class 'int'>\n"
     ]
    }
   ],
   "source": [
    "print(type(2))"
   ]
  },
  {
   "cell_type": "code",
   "execution_count": 25,
   "id": "9ec45ef8-1886-418d-822b-0e3efda4bea0",
   "metadata": {},
   "outputs": [],
   "source": [
    "p1 = Person()\n",
    "p2 = Person()\n",
    "p3 = Person()\n",
    "p4 = Person()"
   ]
  },
  {
   "cell_type": "code",
   "execution_count": 26,
   "id": "964c827c-1104-4817-acd2-0f60c639a95b",
   "metadata": {},
   "outputs": [
    {
     "data": {
      "text/plain": [
       "23"
      ]
     },
     "execution_count": 26,
     "metadata": {},
     "output_type": "execute_result"
    }
   ],
   "source": [
    "p1.age"
   ]
  },
  {
   "cell_type": "code",
   "execution_count": 27,
   "id": "efb59a7b-e398-4799-b4c0-9fd6009d5f9d",
   "metadata": {},
   "outputs": [
    {
     "data": {
      "text/plain": [
       "23"
      ]
     },
     "execution_count": 27,
     "metadata": {},
     "output_type": "execute_result"
    }
   ],
   "source": [
    "p2.age"
   ]
  },
  {
   "cell_type": "code",
   "execution_count": 28,
   "id": "e4cefe91-6b75-43c6-9a23-e7747e9aea42",
   "metadata": {},
   "outputs": [
    {
     "data": {
      "text/plain": [
       "'Ali'"
      ]
     },
     "execution_count": 28,
     "metadata": {},
     "output_type": "execute_result"
    }
   ],
   "source": [
    "p3.name"
   ]
  },
  {
   "cell_type": "code",
   "execution_count": 29,
   "id": "13b8107b-8d61-4f3c-87e3-73325306ff32",
   "metadata": {},
   "outputs": [
    {
     "data": {
      "text/plain": [
       "'Ali'"
      ]
     },
     "execution_count": 29,
     "metadata": {},
     "output_type": "execute_result"
    }
   ],
   "source": [
    "p4.name"
   ]
  },
  {
   "cell_type": "code",
   "execution_count": 31,
   "id": "8676ea14-da0b-4fd1-9baf-c815df99f895",
   "metadata": {},
   "outputs": [],
   "source": [
    "class Person:\n",
    "    def __init__(self, name, age, gender):\n",
    "        self.my_name = name\n",
    "        self.my_age = age\n",
    "        self.my_gender = gender\n",
    "\n",
    "    def walk(self): # object method\n",
    "        print('The person is walking')\n",
    "    def speak(self): # object method\n",
    "        print('The person is speaking')\n",
    "    def jump(self): # object method\n",
    "        print('The perosn is jumping')\n",
    "        "
   ]
  },
  {
   "cell_type": "code",
   "execution_count": 33,
   "id": "947eb63d-e051-493a-9d48-739bbe279396",
   "metadata": {},
   "outputs": [],
   "source": [
    "p1 = Person('Kamran', 30, 'male')"
   ]
  },
  {
   "cell_type": "code",
   "execution_count": 34,
   "id": "e25d7d07-aea0-42c8-9947-b5fe1c31f661",
   "metadata": {},
   "outputs": [
    {
     "data": {
      "text/plain": [
       "'Kamran'"
      ]
     },
     "execution_count": 34,
     "metadata": {},
     "output_type": "execute_result"
    }
   ],
   "source": [
    "p1.my_name"
   ]
  },
  {
   "cell_type": "code",
   "execution_count": 35,
   "id": "9784cf24-26db-46a2-acc3-249cdb750a19",
   "metadata": {},
   "outputs": [
    {
     "data": {
      "text/plain": [
       "30"
      ]
     },
     "execution_count": 35,
     "metadata": {},
     "output_type": "execute_result"
    }
   ],
   "source": [
    "p1.my_age"
   ]
  },
  {
   "cell_type": "code",
   "execution_count": 36,
   "id": "79df4688-ecfd-4bd5-9a69-a8041b5c1f1b",
   "metadata": {},
   "outputs": [],
   "source": [
    "p1 = Person('Kamran', 30, 'male')\n",
    "p2 = Person('Kashif', 31, 'male')\n",
    "p3 = Person('Khurram', 29, 'male')\n",
    "p4 = Person('Kamal', 32, 'male')\n",
    "p5 = Person('Karim', 28, 'male')"
   ]
  },
  {
   "cell_type": "code",
   "execution_count": 37,
   "id": "b080a583-9e52-466f-97a3-e84e7fb50100",
   "metadata": {},
   "outputs": [
    {
     "data": {
      "text/plain": [
       "'Kamran'"
      ]
     },
     "execution_count": 37,
     "metadata": {},
     "output_type": "execute_result"
    }
   ],
   "source": [
    "p1.my_name"
   ]
  },
  {
   "cell_type": "code",
   "execution_count": 38,
   "id": "2a651081-74fa-4227-858b-f00237d03686",
   "metadata": {},
   "outputs": [
    {
     "data": {
      "text/plain": [
       "'Kashif'"
      ]
     },
     "execution_count": 38,
     "metadata": {},
     "output_type": "execute_result"
    }
   ],
   "source": [
    "p2.my_name"
   ]
  },
  {
   "cell_type": "code",
   "execution_count": 39,
   "id": "5b588dbe-815c-4c5c-9417-6ffd88daa055",
   "metadata": {},
   "outputs": [
    {
     "data": {
      "text/plain": [
       "29"
      ]
     },
     "execution_count": 39,
     "metadata": {},
     "output_type": "execute_result"
    }
   ],
   "source": [
    "p3.my_age"
   ]
  },
  {
   "cell_type": "code",
   "execution_count": 40,
   "id": "bf707145-d300-47f2-9278-58f7a0f8175f",
   "metadata": {},
   "outputs": [
    {
     "data": {
      "text/plain": [
       "32"
      ]
     },
     "execution_count": 40,
     "metadata": {},
     "output_type": "execute_result"
    }
   ],
   "source": [
    "p4.my_age"
   ]
  },
  {
   "cell_type": "code",
   "execution_count": 41,
   "id": "8a6b2a3a-8787-4ff2-82b9-a39ea1394ddf",
   "metadata": {},
   "outputs": [],
   "source": [
    "class Person:\n",
    "    # Constructor\n",
    "    def __init__(self, name):\n",
    "        self.name = name\n",
    "        print(f\"Constructor: Hello, my name is {self.name}\")\n",
    "\n",
    "    # Destructor\n",
    "    def __del__(self):\n",
    "        print(f\"Destructor: Goodbye from {self.name}\")"
   ]
  },
  {
   "cell_type": "code",
   "execution_count": 42,
   "id": "bbc2e870-8796-4905-8e22-54ff873f1268",
   "metadata": {},
   "outputs": [
    {
     "name": "stdout",
     "output_type": "stream",
     "text": [
      "Constructor: Hello, my name is David\n"
     ]
    }
   ],
   "source": [
    "# Constructor is called when the object is created\n",
    "p1 = Person('David')"
   ]
  },
  {
   "cell_type": "code",
   "execution_count": 43,
   "id": "cfb94068-a84d-45a9-b76c-449691626a51",
   "metadata": {},
   "outputs": [
    {
     "name": "stdout",
     "output_type": "stream",
     "text": [
      "Destructor: Goodbye from David\n"
     ]
    }
   ],
   "source": [
    "del p1"
   ]
  },
  {
   "cell_type": "code",
   "execution_count": 44,
   "id": "9386fed2-a717-4cc3-b1b4-40823abc2988",
   "metadata": {},
   "outputs": [],
   "source": [
    "class Person():\n",
    "    def __init__(self, name, age, gender):\n",
    "        self.name = name\n",
    "        self.age = age\n",
    "        self.gender = gender\n",
    "        \n",
    "    def walk(self):\n",
    "        print('He is Walking...')\n",
    "\n",
    "class Student(Person):\n",
    "    roll_no = 1231\n",
    "    def register_course(self):\n",
    "        print('Computer Science course is registered')"
   ]
  },
  {
   "cell_type": "code",
   "execution_count": 46,
   "id": "3802df9f-9298-4e94-8716-8627bdfefee0",
   "metadata": {},
   "outputs": [],
   "source": [
    "s1 = Student('Ali', 23, 'male')"
   ]
  },
  {
   "cell_type": "code",
   "execution_count": 47,
   "id": "73588be0-bed6-4f6d-a35d-9e81df58b56c",
   "metadata": {},
   "outputs": [
    {
     "data": {
      "text/plain": [
       "'Ali'"
      ]
     },
     "execution_count": 47,
     "metadata": {},
     "output_type": "execute_result"
    }
   ],
   "source": [
    "s1.name"
   ]
  },
  {
   "cell_type": "code",
   "execution_count": 48,
   "id": "9d64ee0e-f771-4df5-9703-27cdf4c45bf6",
   "metadata": {},
   "outputs": [
    {
     "data": {
      "text/plain": [
       "1231"
      ]
     },
     "execution_count": 48,
     "metadata": {},
     "output_type": "execute_result"
    }
   ],
   "source": [
    "s1.roll_no"
   ]
  },
  {
   "cell_type": "code",
   "execution_count": 49,
   "id": "140485f4-2f22-40c2-b97d-c83f56a04541",
   "metadata": {},
   "outputs": [
    {
     "name": "stdout",
     "output_type": "stream",
     "text": [
      "He is Walking...\n"
     ]
    }
   ],
   "source": [
    "s1.walk()"
   ]
  },
  {
   "cell_type": "code",
   "execution_count": 50,
   "id": "cd9b9619-1d7e-4781-bcbe-eff69f4b83dd",
   "metadata": {},
   "outputs": [
    {
     "name": "stdout",
     "output_type": "stream",
     "text": [
      "Computer Science course is registered\n"
     ]
    }
   ],
   "source": [
    "s1.register_course()"
   ]
  },
  {
   "cell_type": "code",
   "execution_count": 51,
   "id": "798d0623-ba32-40af-9833-12e07a17ead4",
   "metadata": {},
   "outputs": [],
   "source": [
    "# Base class\n",
    "class Animal:\n",
    "    def speak(self):\n",
    "        print(\"Animal speaks\")\n",
    "\n",
    "# Intermediate class (inherits from Animal)\n",
    "class Dog(Animal):\n",
    "    def bark(self):\n",
    "        print(\"Dog barks\")\n",
    "\n",
    "# Derived class (inherits from Dog)\n",
    "class Puppy(Dog):\n",
    "    def weep(self):\n",
    "        print(\"Puppy weeps\")"
   ]
  },
  {
   "cell_type": "code",
   "execution_count": 52,
   "id": "31c11d58-0fe2-4e33-874c-1a6073cab888",
   "metadata": {},
   "outputs": [
    {
     "name": "stdout",
     "output_type": "stream",
     "text": [
      "Animal speaks\n",
      "Dog barks\n",
      "Puppy weeps\n"
     ]
    }
   ],
   "source": [
    "# Creating object\n",
    "p = Puppy()\n",
    "p.speak()  # From Animal\n",
    "p.bark()   # From Dog\n",
    "p.weep()   # From Puppy"
   ]
  },
  {
   "cell_type": "code",
   "execution_count": 53,
   "id": "bf66a46b-94dd-45db-9c94-450d607a46bc",
   "metadata": {},
   "outputs": [],
   "source": [
    "# Base class\n",
    "class Animal:\n",
    "    def speak(self):\n",
    "        print(\"Animal speaks\")\n",
    "\n",
    "# Derived class 1\n",
    "class Dog(Animal):\n",
    "    def bark(self):\n",
    "        print(\"Dog barks\")\n",
    "\n",
    "# Derived class 2\n",
    "class Cat(Animal):\n",
    "    def meow(self):\n",
    "        print(\"Cat meows\")"
   ]
  },
  {
   "cell_type": "code",
   "execution_count": 54,
   "id": "66d5b013-528a-4105-972f-282b014540ee",
   "metadata": {},
   "outputs": [
    {
     "name": "stdout",
     "output_type": "stream",
     "text": [
      "Animal speaks\n",
      "Dog barks\n"
     ]
    }
   ],
   "source": [
    "# Creating objects\n",
    "d = Dog()\n",
    "d.speak()\n",
    "d.bark()"
   ]
  },
  {
   "cell_type": "code",
   "execution_count": 55,
   "id": "f2576a4a-7597-4519-9509-27877bbc514b",
   "metadata": {},
   "outputs": [
    {
     "name": "stdout",
     "output_type": "stream",
     "text": [
      "Animal speaks\n",
      "Cat meows\n"
     ]
    }
   ],
   "source": [
    "# Creating objects\n",
    "c = Cat()\n",
    "c.speak()\n",
    "c.meow()"
   ]
  },
  {
   "cell_type": "code",
   "execution_count": 56,
   "id": "ad823380-21ba-4054-8570-844610c266cb",
   "metadata": {},
   "outputs": [],
   "source": [
    "# First parent class\n",
    "class Father:\n",
    "    def work(self):\n",
    "        print(\"Father: Gardening\")\n",
    "\n",
    "# Second parent class\n",
    "class Mother:\n",
    "    def skill(self):\n",
    "        print(\"Mother: Cooking\")\n",
    "\n",
    "# Child class inheriting from both\n",
    "class Child(Father, Mother):\n",
    "    def own_skill(self):\n",
    "        print(\"Child: Painting\")"
   ]
  },
  {
   "cell_type": "code",
   "execution_count": 57,
   "id": "4ecd8b73-dee3-4c55-a489-3ebc65afb6e0",
   "metadata": {},
   "outputs": [],
   "source": [
    "c = Child()"
   ]
  },
  {
   "cell_type": "code",
   "execution_count": 58,
   "id": "18fc8f94-eb98-4f8c-a3c5-93205674bdad",
   "metadata": {},
   "outputs": [
    {
     "name": "stdout",
     "output_type": "stream",
     "text": [
      "Father: Gardening\n"
     ]
    }
   ],
   "source": [
    "c.work()"
   ]
  },
  {
   "cell_type": "code",
   "execution_count": 59,
   "id": "1a59f385-d2b4-4b75-ab28-3bec86fa4fc1",
   "metadata": {},
   "outputs": [
    {
     "name": "stdout",
     "output_type": "stream",
     "text": [
      "Mother: Cooking\n"
     ]
    }
   ],
   "source": [
    "c.skill()"
   ]
  },
  {
   "cell_type": "code",
   "execution_count": 60,
   "id": "b561c2a0-7ce7-42f2-bdb0-ee0ac0864612",
   "metadata": {},
   "outputs": [
    {
     "name": "stdout",
     "output_type": "stream",
     "text": [
      "Animal makes a sound\n",
      "Dog barks\n"
     ]
    }
   ],
   "source": [
    "class Animal:\n",
    "    def sound(self):\n",
    "        print(\"Animal makes a sound\")\n",
    "\n",
    "class Dog(Animal):\n",
    "    def sound(self):  # Overriding the parent method\n",
    "        print(\"Dog barks\")\n",
    "\n",
    "# Create objects\n",
    "a = Animal()\n",
    "d = Dog()\n",
    "\n",
    "a.sound()  # Output: Animal makes a sound\n",
    "d.sound()  # Output: Dog barks"
   ]
  },
  {
   "cell_type": "code",
   "execution_count": 61,
   "id": "259292d0-b7d7-4e3f-92b6-ab4aea6d40ef",
   "metadata": {},
   "outputs": [
    {
     "name": "stdout",
     "output_type": "stream",
     "text": [
      "Dog barks\n"
     ]
    }
   ],
   "source": [
    "d.sound()"
   ]
  },
  {
   "cell_type": "code",
   "execution_count": 1,
   "id": "6e5389e2-f359-4bc9-bb2e-05f89b5d1f57",
   "metadata": {},
   "outputs": [],
   "source": [
    "class Person:\n",
    "    def __init__(self, name, age, martial_status): # constructor method\n",
    "        self.name = name # public attribute\n",
    "        self._age = age # protected attribute\n",
    "        self.__martial_status = martial_status # private attribute\n",
    "    \n",
    "    def walk(self): # class method\n",
    "        print('The person is walking')"
   ]
  },
  {
   "cell_type": "code",
   "execution_count": 2,
   "id": "fb67c25e-ceb9-475a-bf22-c8f078fcdc26",
   "metadata": {},
   "outputs": [],
   "source": [
    "p1 = Person('Kamran', 30, 'married')"
   ]
  },
  {
   "cell_type": "code",
   "execution_count": 3,
   "id": "5bacd3cc-61a1-49b8-9fa6-69d7d5dcad7c",
   "metadata": {},
   "outputs": [
    {
     "data": {
      "text/plain": [
       "'Kamran'"
      ]
     },
     "execution_count": 3,
     "metadata": {},
     "output_type": "execute_result"
    }
   ],
   "source": [
    "p1.name"
   ]
  },
  {
   "cell_type": "code",
   "execution_count": 5,
   "id": "00cea68f-4607-4de4-9c2f-5484995112a6",
   "metadata": {},
   "outputs": [
    {
     "data": {
      "text/plain": [
       "30"
      ]
     },
     "execution_count": 5,
     "metadata": {},
     "output_type": "execute_result"
    }
   ],
   "source": [
    "p1._age"
   ]
  },
  {
   "cell_type": "code",
   "execution_count": 6,
   "id": "deaaad9e-8f53-475f-ab80-e79617832189",
   "metadata": {},
   "outputs": [
    {
     "ename": "AttributeError",
     "evalue": "'Person' object has no attribute '__martial_status'",
     "output_type": "error",
     "traceback": [
      "\u001b[31m---------------------------------------------------------------------------\u001b[39m",
      "\u001b[31mAttributeError\u001b[39m                            Traceback (most recent call last)",
      "\u001b[36mCell\u001b[39m\u001b[36m \u001b[39m\u001b[32mIn[6]\u001b[39m\u001b[32m, line 1\u001b[39m\n\u001b[32m----> \u001b[39m\u001b[32m1\u001b[39m \u001b[43mp1\u001b[49m\u001b[43m.\u001b[49m\u001b[43m__martial_status\u001b[49m\n",
      "\u001b[31mAttributeError\u001b[39m: 'Person' object has no attribute '__martial_status'"
     ]
    }
   ],
   "source": [
    "p1.__martial_status"
   ]
  },
  {
   "cell_type": "code",
   "execution_count": 7,
   "id": "0fb45d87-e7a8-4aef-8a05-0b38d687f559",
   "metadata": {},
   "outputs": [
    {
     "data": {
      "text/plain": [
       "{'name': 'Kamran', '_age': 30, '_Person__martial_status': 'married'}"
      ]
     },
     "execution_count": 7,
     "metadata": {},
     "output_type": "execute_result"
    }
   ],
   "source": [
    "p1.__dict__"
   ]
  },
  {
   "cell_type": "code",
   "execution_count": 9,
   "id": "22dcadba-b4de-4c4e-89cd-f2aa87eda07c",
   "metadata": {},
   "outputs": [
    {
     "ename": "AttributeError",
     "evalue": "'Person' object has no attribute '__martial_status'",
     "output_type": "error",
     "traceback": [
      "\u001b[31m---------------------------------------------------------------------------\u001b[39m",
      "\u001b[31mAttributeError\u001b[39m                            Traceback (most recent call last)",
      "\u001b[36mCell\u001b[39m\u001b[36m \u001b[39m\u001b[32mIn[9]\u001b[39m\u001b[32m, line 1\u001b[39m\n\u001b[32m----> \u001b[39m\u001b[32m1\u001b[39m \u001b[43mp1\u001b[49m\u001b[43m.\u001b[49m\u001b[43m__martial_status\u001b[49m\n",
      "\u001b[31mAttributeError\u001b[39m: 'Person' object has no attribute '__martial_status'"
     ]
    }
   ],
   "source": [
    "import math\n",
    "math._"
   ]
  },
  {
   "cell_type": "code",
   "execution_count": 10,
   "id": "a92ddef3-c28a-4b48-99d0-55efa33b3fe4",
   "metadata": {},
   "outputs": [],
   "source": [
    "class Person:\n",
    "    def __init__(self, name, age, martial_status): # constructor method\n",
    "        self.name = name # public attribute\n",
    "        self._age = age # protected attribute\n",
    "        self.__status = martial_status # private attribute\n",
    "    \n",
    "    def walk(self): # class method\n",
    "        print('The person is walking')\n",
    "\n",
    "    # Getter method\n",
    "    def get_status(self):\n",
    "        return self.__status\n",
    "\n",
    "    # Setter method\n",
    "    def set_status(self, new_value):\n",
    "        self.__status = new_value"
   ]
  },
  {
   "cell_type": "code",
   "execution_count": 11,
   "id": "d8e87eed-84be-4c52-bda9-26e9593b5195",
   "metadata": {},
   "outputs": [],
   "source": [
    "p1 = Person('Kamran', 30, 'unmmaried')"
   ]
  },
  {
   "cell_type": "code",
   "execution_count": 12,
   "id": "f0abbd6b-35c1-4d97-8f66-2333fe53a77b",
   "metadata": {},
   "outputs": [
    {
     "data": {
      "text/plain": [
       "'unmmaried'"
      ]
     },
     "execution_count": 12,
     "metadata": {},
     "output_type": "execute_result"
    }
   ],
   "source": [
    "p1.get_status()"
   ]
  },
  {
   "cell_type": "code",
   "execution_count": 13,
   "id": "1d38bfe4-0266-43d3-9c4e-2d32c785f4a3",
   "metadata": {},
   "outputs": [],
   "source": [
    "p1.set_status('married')"
   ]
  },
  {
   "cell_type": "code",
   "execution_count": 14,
   "id": "485776fd-b328-4dab-bfb9-3a28d201b6e3",
   "metadata": {},
   "outputs": [
    {
     "data": {
      "text/plain": [
       "'married'"
      ]
     },
     "execution_count": 14,
     "metadata": {},
     "output_type": "execute_result"
    }
   ],
   "source": [
    "p1.get_status()"
   ]
  },
  {
   "cell_type": "code",
   "execution_count": 15,
   "id": "1109fa1a-73ff-4ac7-9d46-593d6f2f1bb3",
   "metadata": {},
   "outputs": [],
   "source": [
    "p1.name = 'Ali'"
   ]
  },
  {
   "cell_type": "code",
   "execution_count": 16,
   "id": "f1b2bdd2-97ed-4725-9dc5-d638903e5128",
   "metadata": {},
   "outputs": [
    {
     "data": {
      "text/plain": [
       "'Ali'"
      ]
     },
     "execution_count": 16,
     "metadata": {},
     "output_type": "execute_result"
    }
   ],
   "source": [
    "p1.name"
   ]
  },
  {
   "cell_type": "code",
   "execution_count": null,
   "id": "7819a554-121d-487c-b80b-9a845209f503",
   "metadata": {},
   "outputs": [],
   "source": [
    "p2 = Person()"
   ]
  },
  {
   "cell_type": "code",
   "execution_count": 28,
   "id": "162cc219-e17d-47c4-af0f-1c1b83590263",
   "metadata": {},
   "outputs": [],
   "source": [
    "from abc import ABC, abstractmethod\n",
    "# Abstract class\n",
    "class Animal(ABC):\n",
    "    \n",
    "    @abstractmethod\n",
    "    def sound(self):\n",
    "        pass  # Abstract method with no bod\n",
    "\n",
    "# Derived class 1\n",
    "class Dog(Animal):\n",
    "    def sound(self):\n",
    "        print(\"Dog barks\")\n",
    "        \n",
    "\n",
    "# Derived class 2\n",
    "class Cat(Animal):\n",
    "    def sound(self):\n",
    "        print(\"Cat meows\")"
   ]
  },
  {
   "cell_type": "code",
   "execution_count": 29,
   "id": "8032882a-2ec7-4d95-b536-e814d4928952",
   "metadata": {},
   "outputs": [
    {
     "ename": "TypeError",
     "evalue": "Can't instantiate abstract class Animal without an implementation for abstract method 'sound'",
     "output_type": "error",
     "traceback": [
      "\u001b[31m---------------------------------------------------------------------------\u001b[39m",
      "\u001b[31mTypeError\u001b[39m                                 Traceback (most recent call last)",
      "\u001b[36mCell\u001b[39m\u001b[36m \u001b[39m\u001b[32mIn[29]\u001b[39m\u001b[32m, line 1\u001b[39m\n\u001b[32m----> \u001b[39m\u001b[32m1\u001b[39m a1 = \u001b[43mAnimal\u001b[49m\u001b[43m(\u001b[49m\u001b[43m)\u001b[49m\n",
      "\u001b[31mTypeError\u001b[39m: Can't instantiate abstract class Animal without an implementation for abstract method 'sound'"
     ]
    }
   ],
   "source": [
    "a1 = Animal()"
   ]
  },
  {
   "cell_type": "code",
   "execution_count": 30,
   "id": "50c836d1-886d-4d8c-8a9d-90997c43d596",
   "metadata": {},
   "outputs": [],
   "source": [
    "d = Dog()"
   ]
  },
  {
   "cell_type": "code",
   "execution_count": 21,
   "id": "f868fd05-cc1c-41b1-a8fd-b1b3275c6e92",
   "metadata": {},
   "outputs": [
    {
     "name": "stdout",
     "output_type": "stream",
     "text": [
      "Dog barks\n"
     ]
    }
   ],
   "source": [
    "d.sound()"
   ]
  },
  {
   "cell_type": "code",
   "execution_count": 26,
   "id": "d97c5715-b158-433b-8e13-6a9b9a07a5da",
   "metadata": {},
   "outputs": [],
   "source": [
    "class Dog:\n",
    "    pass"
   ]
  },
  {
   "cell_type": "code",
   "execution_count": 27,
   "id": "325d36e0-935b-42e1-8c71-5c77c846a5a5",
   "metadata": {},
   "outputs": [],
   "source": [
    "d = Dog()"
   ]
  },
  {
   "cell_type": "code",
   "execution_count": 31,
   "id": "c8a3f9ef-8c33-41c6-aa84-58ecfcff8904",
   "metadata": {},
   "outputs": [],
   "source": [
    "from abc import ABC, abstractmethod\n",
    "# Abstract class\n",
    "class Animal(ABC):\n",
    "    \n",
    "    @abstractmethod\n",
    "    def sound(self):\n",
    "        name = None\n",
    "\n",
    "# Derived class 1\n",
    "class Dog(Animal):\n",
    "    def sound(self):\n",
    "        print(\"Dog barks\")\n",
    "        \n",
    "\n",
    "# Derived class 2\n",
    "class Cat(Animal):\n",
    "    def sound(self):\n",
    "        print(\"Cat meows\")"
   ]
  },
  {
   "cell_type": "code",
   "execution_count": 32,
   "id": "b6b35877-b069-4ab9-94ce-32d3f787b1ec",
   "metadata": {},
   "outputs": [],
   "source": [
    "d = Dog()"
   ]
  },
  {
   "cell_type": "code",
   "execution_count": 33,
   "id": "05cd6b8a-44cc-4da1-8e90-a462cecdf98c",
   "metadata": {},
   "outputs": [
    {
     "ename": "AttributeError",
     "evalue": "'Dog' object has no attribute 'name'",
     "output_type": "error",
     "traceback": [
      "\u001b[31m---------------------------------------------------------------------------\u001b[39m",
      "\u001b[31mAttributeError\u001b[39m                            Traceback (most recent call last)",
      "\u001b[36mCell\u001b[39m\u001b[36m \u001b[39m\u001b[32mIn[33]\u001b[39m\u001b[32m, line 1\u001b[39m\n\u001b[32m----> \u001b[39m\u001b[32m1\u001b[39m \u001b[43md\u001b[49m\u001b[43m.\u001b[49m\u001b[43mname\u001b[49m\n",
      "\u001b[31mAttributeError\u001b[39m: 'Dog' object has no attribute 'name'"
     ]
    }
   ],
   "source": [
    "d.name"
   ]
  },
  {
   "cell_type": "code",
   "execution_count": 34,
   "id": "d2ac3ab8-d21e-4825-ad38-dbebb42198fe",
   "metadata": {},
   "outputs": [],
   "source": [
    "# Class definition\n",
    "class PlayerCharacter:\n",
    "    def __init__(self, name, age):\n",
    "            self.name = name\n",
    "            self.age = age\n",
    "\n",
    "    def shout(self):\n",
    "        print(f'my name is {self.name}')\n",
    "\n",
    "    def jump():\n",
    "        print('Player is jumping')"
   ]
  },
  {
   "cell_type": "code",
   "execution_count": 35,
   "id": "a5586506-c942-4f25-aeec-8b5841ffcf86",
   "metadata": {},
   "outputs": [],
   "source": [
    "p = PlayerCharacter('Ali', 20)"
   ]
  },
  {
   "cell_type": "code",
   "execution_count": 36,
   "id": "cf9e43cf-e572-4d09-bfd5-9e5e73fd3f8c",
   "metadata": {},
   "outputs": [
    {
     "name": "stdout",
     "output_type": "stream",
     "text": [
      "my name is Ali\n"
     ]
    }
   ],
   "source": [
    "p.shout()"
   ]
  },
  {
   "cell_type": "code",
   "execution_count": 37,
   "id": "ab8c9714-783c-4c77-8ba9-f2cfdd2f4d3e",
   "metadata": {},
   "outputs": [
    {
     "ename": "TypeError",
     "evalue": "PlayerCharacter.jump() takes 0 positional arguments but 1 was given",
     "output_type": "error",
     "traceback": [
      "\u001b[31m---------------------------------------------------------------------------\u001b[39m",
      "\u001b[31mTypeError\u001b[39m                                 Traceback (most recent call last)",
      "\u001b[36mCell\u001b[39m\u001b[36m \u001b[39m\u001b[32mIn[37]\u001b[39m\u001b[32m, line 1\u001b[39m\n\u001b[32m----> \u001b[39m\u001b[32m1\u001b[39m \u001b[43mp\u001b[49m\u001b[43m.\u001b[49m\u001b[43mjump\u001b[49m\u001b[43m(\u001b[49m\u001b[43m)\u001b[49m\n",
      "\u001b[31mTypeError\u001b[39m: PlayerCharacter.jump() takes 0 positional arguments but 1 was given"
     ]
    }
   ],
   "source": [
    "p.jump()"
   ]
  },
  {
   "cell_type": "code",
   "execution_count": 43,
   "id": "a771fdd5-b469-4bc1-ab2b-e99b871fe6f7",
   "metadata": {},
   "outputs": [],
   "source": [
    "# Class definition\n",
    "class PlayerCharacter:\n",
    "    member  = 'data'\n",
    "    def __init__(self, name, age):\n",
    "            self.name = name\n",
    "            self.age = age\n",
    "\n",
    "    def shout(self):\n",
    "        print(f'my name is {self.name}')\n",
    "        \n",
    "    @staticmethod\n",
    "    def jump():\n",
    "        print('Player is jumping')"
   ]
  },
  {
   "cell_type": "code",
   "execution_count": 40,
   "id": "175c88e5-1938-4bf9-b3e7-e0ec5e01bd7e",
   "metadata": {},
   "outputs": [],
   "source": [
    "p = PlayerCharacter('Ali', 20)"
   ]
  },
  {
   "cell_type": "code",
   "execution_count": 41,
   "id": "cb79aa02-dcc2-4520-8100-4725e6ce3247",
   "metadata": {},
   "outputs": [
    {
     "name": "stdout",
     "output_type": "stream",
     "text": [
      "Player is jumping\n"
     ]
    }
   ],
   "source": [
    "p.jump()"
   ]
  },
  {
   "cell_type": "code",
   "execution_count": 42,
   "id": "46e92f26-6ea8-440d-af12-941a0858d6a8",
   "metadata": {},
   "outputs": [
    {
     "name": "stdout",
     "output_type": "stream",
     "text": [
      "Player is jumping\n"
     ]
    }
   ],
   "source": [
    "PlayerCharacter.jump()"
   ]
  },
  {
   "cell_type": "code",
   "execution_count": 44,
   "id": "e0d0c17f-6223-4621-8a14-2fa4fddec7b2",
   "metadata": {},
   "outputs": [
    {
     "data": {
      "text/plain": [
       "'data'"
      ]
     },
     "execution_count": 44,
     "metadata": {},
     "output_type": "execute_result"
    }
   ],
   "source": [
    "PlayerCharacter.member"
   ]
  },
  {
   "cell_type": "code",
   "execution_count": 45,
   "id": "5cbb540e-654a-4dcb-9cf3-1a0bc1318246",
   "metadata": {},
   "outputs": [],
   "source": [
    "p = PlayerCharacter('Ali', 20)"
   ]
  },
  {
   "cell_type": "code",
   "execution_count": 46,
   "id": "bb1e3ffa-c390-46b8-abc4-f7e7410ca800",
   "metadata": {},
   "outputs": [
    {
     "data": {
      "text/plain": [
       "'data'"
      ]
     },
     "execution_count": 46,
     "metadata": {},
     "output_type": "execute_result"
    }
   ],
   "source": [
    "p.member"
   ]
  },
  {
   "cell_type": "code",
   "execution_count": 47,
   "id": "cd2224d8-0b73-4796-a651-f99c550dbc85",
   "metadata": {},
   "outputs": [
    {
     "data": {
      "text/plain": [
       "'data'"
      ]
     },
     "execution_count": 47,
     "metadata": {},
     "output_type": "execute_result"
    }
   ],
   "source": [
    "PlayerCharacter.member"
   ]
  },
  {
   "cell_type": "code",
   "execution_count": 72,
   "id": "c926e18c-2507-48d1-af0a-a5ad9a54c33a",
   "metadata": {},
   "outputs": [],
   "source": [
    "# Class definition\n",
    "class PlayerCharacter1:\n",
    "    def __init__(self, name, age):\n",
    "        self.name = name\n",
    "        self.age = age\n",
    "    \n",
    "\n",
    "    def shout(self):\n",
    "        print(f'my name is {self.name}')\n",
    "        \n",
    "    @classmethod\n",
    "    def jump(self):\n",
    "        print('Player is jumping')"
   ]
  },
  {
   "cell_type": "code",
   "execution_count": 55,
   "id": "b3bea4ab-147f-49cf-90b6-dde7b753fda7",
   "metadata": {},
   "outputs": [
    {
     "name": "stdout",
     "output_type": "stream",
     "text": [
      "Player is jumping\n"
     ]
    }
   ],
   "source": [
    "PlayerCharacter1.jump()"
   ]
  },
  {
   "cell_type": "code",
   "execution_count": 56,
   "id": "81654b86-9ea3-49d5-be42-7660987cf1a5",
   "metadata": {},
   "outputs": [],
   "source": [
    "p = PlayerCharacter1('Ali', 20)"
   ]
  },
  {
   "cell_type": "code",
   "execution_count": 57,
   "id": "81400388-bdcd-447b-b87f-41deb559d790",
   "metadata": {},
   "outputs": [
    {
     "name": "stdout",
     "output_type": "stream",
     "text": [
      "Player is jumping\n"
     ]
    }
   ],
   "source": [
    "p.jump()"
   ]
  },
  {
   "cell_type": "code",
   "execution_count": null,
   "id": "cf5e442f-5d35-4c95-b4c3-8221178d9bef",
   "metadata": {},
   "outputs": [],
   "source": [
    "# Class definition\n",
    "class PlayerCharacter1:\n",
    "    member  = 'data'\n",
    "    def __init__(self, name, age):\n",
    "            self.name = name\n",
    "            self.age = age\n",
    "\n",
    "    def shout(self):\n",
    "        print(f'my name is {self.name}')\n",
    "        \n",
    "    @classmethod\n",
    "    def jump(self):\n",
    "        print('Player is jumping')"
   ]
  },
  {
   "cell_type": "code",
   "execution_count": 85,
   "id": "640f9d5e-a073-49e6-b50f-f6181f3446f6",
   "metadata": {},
   "outputs": [],
   "source": [
    "\n",
    "# Class definition\n",
    "class PlayerCharacter1:\n",
    "    member  = 'data'\n",
    "    def __init__(abc, name, age):\n",
    "        PlayerCharacter1.name = name\n",
    "        PlayerCharacter1.age = age\n",
    "\n",
    "    def shout(abc):\n",
    "        print(f'my name is {self.name}')\n",
    "        \n",
    "    @classmethod\n",
    "    def jump(self):\n",
    "        print('Player is jumping')"
   ]
  },
  {
   "cell_type": "code",
   "execution_count": 86,
   "id": "b34cac69-d384-4fa1-95cb-a1c2ebcf6cd9",
   "metadata": {},
   "outputs": [
    {
     "name": "stdout",
     "output_type": "stream",
     "text": [
      "my name is Kamran\n"
     ]
    }
   ],
   "source": [
    "p.shout()"
   ]
  },
  {
   "cell_type": "code",
   "execution_count": 84,
   "id": "00ee12a2-5cc5-40fb-9b70-556b98e9c8bd",
   "metadata": {},
   "outputs": [],
   "source": [
    "p = PlayerCharacter1('Kamran', 20)"
   ]
  },
  {
   "cell_type": "code",
   "execution_count": 78,
   "id": "8ce03fa8-73af-48a8-b17f-bdbb310e42d7",
   "metadata": {},
   "outputs": [
    {
     "data": {
      "text/plain": [
       "'Kamran'"
      ]
     },
     "execution_count": 78,
     "metadata": {},
     "output_type": "execute_result"
    }
   ],
   "source": [
    "PlayerCharacter1.name"
   ]
  },
  {
   "cell_type": "code",
   "execution_count": 79,
   "id": "6ca32eaa-18ee-46ea-95ff-68e0b95ef79d",
   "metadata": {},
   "outputs": [
    {
     "data": {
      "text/plain": [
       "'Kamran'"
      ]
     },
     "execution_count": 79,
     "metadata": {},
     "output_type": "execute_result"
    }
   ],
   "source": [
    "p.name"
   ]
  },
  {
   "cell_type": "code",
   "execution_count": 68,
   "id": "1cb66cce-4d77-45c2-b3ba-2431db626f21",
   "metadata": {},
   "outputs": [
    {
     "ename": "TypeError",
     "evalue": "PlayerCharacter1.show_name() missing 1 required positional argument: 'obj'",
     "output_type": "error",
     "traceback": [
      "\u001b[31m---------------------------------------------------------------------------\u001b[39m",
      "\u001b[31mTypeError\u001b[39m                                 Traceback (most recent call last)",
      "\u001b[36mCell\u001b[39m\u001b[36m \u001b[39m\u001b[32mIn[68]\u001b[39m\u001b[32m, line 1\u001b[39m\n\u001b[32m----> \u001b[39m\u001b[32m1\u001b[39m \u001b[43mPlayerCharacter1\u001b[49m\u001b[43m.\u001b[49m\u001b[43mshow_name\u001b[49m\u001b[43m(\u001b[49m\u001b[43m)\u001b[49m\n",
      "\u001b[31mTypeError\u001b[39m: PlayerCharacter1.show_name() missing 1 required positional argument: 'obj'"
     ]
    }
   ],
   "source": [
    "PlayerCharacter1.show_name()"
   ]
  },
  {
   "cell_type": "code",
   "execution_count": null,
   "id": "46feb7c5-fad3-4fbd-9668-61ab19118e86",
   "metadata": {},
   "outputs": [],
   "source": []
  }
 ],
 "metadata": {
  "kernelspec": {
   "display_name": "Python 3 (ipykernel)",
   "language": "python",
   "name": "python3"
  },
  "language_info": {
   "codemirror_mode": {
    "name": "ipython",
    "version": 3
   },
   "file_extension": ".py",
   "mimetype": "text/x-python",
   "name": "python",
   "nbconvert_exporter": "python",
   "pygments_lexer": "ipython3",
   "version": "3.13.7"
  }
 },
 "nbformat": 4,
 "nbformat_minor": 5
}
