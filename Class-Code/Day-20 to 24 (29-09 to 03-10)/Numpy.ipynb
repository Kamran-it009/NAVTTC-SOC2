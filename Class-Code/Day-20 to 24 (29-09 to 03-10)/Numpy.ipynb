{
 "cells": [
  {
   "cell_type": "code",
   "execution_count": 1,
   "id": "03b61a18-0786-46b4-a165-4b6ff9ddcf7d",
   "metadata": {},
   "outputs": [
    {
     "name": "stdout",
     "output_type": "stream",
     "text": [
      "2.2.4\n"
     ]
    }
   ],
   "source": [
    "import numpy as np\n",
    "print(np.__version__)"
   ]
  },
  {
   "cell_type": "code",
   "execution_count": 2,
   "id": "cd092abf-34b6-4cbf-a24c-93d2b75e7377",
   "metadata": {},
   "outputs": [
    {
     "name": "stdout",
     "output_type": "stream",
     "text": [
      "List: ['apple', 'mango', 'banana']\n",
      "\n",
      "Array: ['apple' 'mango' 'banana']\n"
     ]
    }
   ],
   "source": [
    "fruits = ['apple', 'mango', 'banana']\n",
    "print('List:',fruits)\n",
    "arr = np.array(fruits)\n",
    "print('\\nArray:', arr)"
   ]
  },
  {
   "cell_type": "code",
   "execution_count": 3,
   "id": "d31a78de-93c1-429c-acb5-f56ab7967c7b",
   "metadata": {},
   "outputs": [
    {
     "name": "stdout",
     "output_type": "stream",
     "text": [
      "\n",
      "Random array:\n",
      " [[0.71773402 0.69793345]\n",
      " [0.6652336  0.36273843]]\n"
     ]
    }
   ],
   "source": [
    "arr = np.random.rand(2, 2)\n",
    "print('\\nRandom array:\\n', arr)"
   ]
  },
  {
   "cell_type": "code",
   "execution_count": 13,
   "id": "cb422ea6-743d-4b60-8f93-b9c08e1b234b",
   "metadata": {},
   "outputs": [
    {
     "name": "stdout",
     "output_type": "stream",
     "text": [
      "[[69  2]\n",
      " [94 78]]\n"
     ]
    }
   ],
   "source": [
    "arr = np.random.randint(0, 100, (2, 2))\n",
    "print(arr)"
   ]
  },
  {
   "cell_type": "code",
   "execution_count": 18,
   "id": "aa038268-d0d3-4e8d-aced-980797c62f6a",
   "metadata": {},
   "outputs": [
    {
     "name": "stdout",
     "output_type": "stream",
     "text": [
      "[23 41 10]\n",
      "int8\n"
     ]
    }
   ],
   "source": [
    "arr3 = np.array([23, 41, 10], dtype = 'int8')\n",
    "print(arr3)\n",
    "print(arr3.dtype)"
   ]
  },
  {
   "cell_type": "code",
   "execution_count": 19,
   "id": "7d5b02dc-ae36-4824-b98d-6e7602b97b5d",
   "metadata": {},
   "outputs": [
    {
     "name": "stdout",
     "output_type": "stream",
     "text": [
      "[ 230 -410   10]\n",
      "int16\n"
     ]
    }
   ],
   "source": [
    "arr3 = np.array([230, -410, 10], dtype = 'int16')\n",
    "print(arr3)\n",
    "print(arr3.dtype)"
   ]
  },
  {
   "cell_type": "code",
   "execution_count": 20,
   "id": "33e79451-8e1b-4a9c-adb0-1a76b6d6983f",
   "metadata": {},
   "outputs": [
    {
     "ename": "OverflowError",
     "evalue": "Python integer 33000 out of bounds for int16",
     "output_type": "error",
     "traceback": [
      "\u001b[31m---------------------------------------------------------------------------\u001b[39m",
      "\u001b[31mOverflowError\u001b[39m                             Traceback (most recent call last)",
      "\u001b[36mCell\u001b[39m\u001b[36m \u001b[39m\u001b[32mIn[20]\u001b[39m\u001b[32m, line 1\u001b[39m\n\u001b[32m----> \u001b[39m\u001b[32m1\u001b[39m arr3 = \u001b[43mnp\u001b[49m\u001b[43m.\u001b[49m\u001b[43marray\u001b[49m\u001b[43m(\u001b[49m\u001b[43m[\u001b[49m\u001b[32;43m33000\u001b[39;49m\u001b[43m,\u001b[49m\u001b[43m \u001b[49m\u001b[43m-\u001b[49m\u001b[32;43m410\u001b[39;49m\u001b[43m,\u001b[49m\u001b[43m \u001b[49m\u001b[32;43m10\u001b[39;49m\u001b[43m]\u001b[49m\u001b[43m,\u001b[49m\u001b[43m \u001b[49m\u001b[43mdtype\u001b[49m\u001b[43m \u001b[49m\u001b[43m=\u001b[49m\u001b[43m \u001b[49m\u001b[33;43m'\u001b[39;49m\u001b[33;43mint16\u001b[39;49m\u001b[33;43m'\u001b[39;49m\u001b[43m)\u001b[49m\n\u001b[32m      2\u001b[39m \u001b[38;5;28mprint\u001b[39m(arr3)\n\u001b[32m      3\u001b[39m \u001b[38;5;28mprint\u001b[39m(arr3.dtype)\n",
      "\u001b[31mOverflowError\u001b[39m: Python integer 33000 out of bounds for int16"
     ]
    }
   ],
   "source": [
    "arr3 = np.array([33000, -410, 10], dtype = 'int16')\n",
    "print(arr3)\n",
    "print(arr3.dtype)"
   ]
  },
  {
   "cell_type": "code",
   "execution_count": 23,
   "id": "f23a4535-af9c-4942-b30e-805c0c715f50",
   "metadata": {},
   "outputs": [
    {
     "name": "stdout",
     "output_type": "stream",
     "text": [
      "(7,)\n",
      "Original array: [1 2 3 4 5 6 7]\n",
      "Reshaped array:\n",
      " [[1]\n",
      " [2]\n",
      " [3]\n",
      " [4]\n",
      " [5]\n",
      " [6]\n",
      " [7]]\n"
     ]
    }
   ],
   "source": [
    "arr = np.array([1, 2, 3, 4, 5, 6, 7])\n",
    "print(arr.shape)\n",
    "reshaped = arr.reshape(7, 1)\n",
    "print('Original array:', arr)\n",
    "print('Reshaped array:\\n', reshaped)"
   ]
  },
  {
   "cell_type": "code",
   "execution_count": 28,
   "id": "f4bdada2-1d47-4ac7-820c-1ca0a06a8082",
   "metadata": {},
   "outputs": [
    {
     "name": "stdout",
     "output_type": "stream",
     "text": [
      "(3,)\n",
      "[[1]\n",
      " [2]\n",
      " [3]]\n",
      "(3, 1)\n"
     ]
    }
   ],
   "source": [
    "arr = np.array([1, 2, 3])\n",
    "print(arr.shape)\n",
    "expanded = np.expand_dims(arr, axis=1)  # Add row dimension\n",
    "print(expanded)\n",
    "print(expanded.shape)"
   ]
  },
  {
   "cell_type": "code",
   "execution_count": 29,
   "id": "2e5b982e-d636-4861-8eb0-75f8af88d338",
   "metadata": {},
   "outputs": [
    {
     "name": "stdout",
     "output_type": "stream",
     "text": [
      "cherry\n",
      "mango\n",
      "['banana' 'cherry' 'mango']\n"
     ]
    }
   ],
   "source": [
    "arr3 = np.array(['apple', 'banana', 'cherry', 'mango', 'orange'])\n",
    "print(arr3[2])\n",
    "print(arr3[-2])\n",
    "print(arr3[1:4])"
   ]
  },
  {
   "cell_type": "code",
   "execution_count": 30,
   "id": "d902dc28-c8dc-4cb1-8a29-52497854e44b",
   "metadata": {},
   "outputs": [
    {
     "name": "stdout",
     "output_type": "stream",
     "text": [
      "[[10 20 30]\n",
      " [40 50 60]]\n",
      "--------------------\n"
     ]
    }
   ],
   "source": [
    "# accessing elements of 2D array\n",
    "arr3 = np.array([[10, 20, 30], [40, 50, 60]])\n",
    "print(arr3)\n",
    "print('--------------------')"
   ]
  },
  {
   "cell_type": "code",
   "execution_count": 35,
   "id": "e3b8aefb-7242-452f-9777-c4e98db31a21",
   "metadata": {},
   "outputs": [
    {
     "name": "stdout",
     "output_type": "stream",
     "text": [
      "60\n"
     ]
    }
   ],
   "source": [
    "print(arr3[1][2])"
   ]
  },
  {
   "cell_type": "code",
   "execution_count": 36,
   "id": "7a17f1dd-4547-47f0-910b-3be874460a1f",
   "metadata": {},
   "outputs": [
    {
     "name": "stdout",
     "output_type": "stream",
     "text": [
      "[10 20]\n"
     ]
    }
   ],
   "source": [
    "print(arr3[0][0:2])"
   ]
  },
  {
   "cell_type": "code",
   "execution_count": 37,
   "id": "44d41318-d52a-4e8e-a25c-edfbd5ffafd3",
   "metadata": {},
   "outputs": [
    {
     "name": "stdout",
     "output_type": "stream",
     "text": [
      "[10 20]\n"
     ]
    }
   ],
   "source": [
    "print(arr3[0, 0:2])"
   ]
  },
  {
   "cell_type": "code",
   "execution_count": 60,
   "id": "b76595d1-77b7-4731-9885-ddd0b10bde61",
   "metadata": {},
   "outputs": [
    {
     "data": {
      "text/plain": [
       "array([[20, 30],\n",
       "       [50, 60]])"
      ]
     },
     "execution_count": 60,
     "metadata": {},
     "output_type": "execute_result"
    }
   ],
   "source": [
    "arr3[:, 1:]"
   ]
  },
  {
   "cell_type": "code",
   "execution_count": 63,
   "id": "4caff030-bbc9-4cf3-ae41-2f9b075c8454",
   "metadata": {},
   "outputs": [
    {
     "name": "stdout",
     "output_type": "stream",
     "text": [
      "Abdullah: [20 50]\n"
     ]
    },
    {
     "ename": "IndexError",
     "evalue": "too many indices for array: array is 1-dimensional, but 2 were indexed",
     "output_type": "error",
     "traceback": [
      "\u001b[31m---------------------------------------------------------------------------\u001b[39m",
      "\u001b[31mIndexError\u001b[39m                                Traceback (most recent call last)",
      "\u001b[36mCell\u001b[39m\u001b[36m \u001b[39m\u001b[32mIn[63]\u001b[39m\u001b[32m, line 2\u001b[39m\n\u001b[32m      1\u001b[39m \u001b[38;5;28mprint\u001b[39m(\u001b[33m'\u001b[39m\u001b[33mAbdullah:\u001b[39m\u001b[33m'\u001b[39m, arr3[\u001b[32m0\u001b[39m:\u001b[32m2\u001b[39m, \u001b[32m1\u001b[39m])\n\u001b[32m----> \u001b[39m\u001b[32m2\u001b[39m \u001b[38;5;28mprint\u001b[39m(\u001b[33m'\u001b[39m\u001b[33mImran\u001b[39m\u001b[33m'\u001b[39m, \u001b[43marr3\u001b[49m\u001b[43m[\u001b[49m\u001b[32;43m0\u001b[39;49m\u001b[43m,\u001b[49m\u001b[43m \u001b[49m\u001b[32;43m1\u001b[39;49m\u001b[43m:\u001b[49m\u001b[32;43m2\u001b[39;49m\u001b[43m]\u001b[49m\u001b[43m[\u001b[49m\u001b[32;43m1\u001b[39;49m\u001b[43m,\u001b[49m\u001b[43m \u001b[49m\u001b[32;43m1\u001b[39;49m\u001b[43m:\u001b[49m\u001b[32;43m2\u001b[39;49m\u001b[43m]\u001b[49m)\n",
      "\u001b[31mIndexError\u001b[39m: too many indices for array: array is 1-dimensional, but 2 were indexed"
     ]
    }
   ],
   "source": [
    "print('Abdullah:', arr3[0:2, 1])\n",
    "print('Imran', arr3[0, 1:2][1, 1:2])"
   ]
  },
  {
   "cell_type": "code",
   "execution_count": 3,
   "id": "42f83a9b-36c6-4b71-9288-9ceebc1c7494",
   "metadata": {},
   "outputs": [
    {
     "name": "stdout",
     "output_type": "stream",
     "text": [
      "[[0 0 0]\n",
      " [0 0 0]\n",
      " [0 0 0]]\n"
     ]
    }
   ],
   "source": [
    "import numpy as np\n",
    "arr = np.zeros([3, 3], dtype = 'int')\n",
    "print(arr)"
   ]
  },
  {
   "cell_type": "code",
   "execution_count": 5,
   "id": "e5ab7278-ff1b-472b-95df-504721d353f1",
   "metadata": {},
   "outputs": [
    {
     "name": "stdout",
     "output_type": "stream",
     "text": [
      "[[0. 1. 0. 0.]\n",
      " [0. 0. 1. 0.]\n",
      " [0. 0. 0. 1.]\n",
      " [0. 0. 0. 0.]]\n"
     ]
    }
   ],
   "source": [
    "arr  = np.eye(4, k=1)\n",
    "print(arr)"
   ]
  },
  {
   "cell_type": "code",
   "execution_count": 6,
   "id": "c324e92c-938f-4298-95e6-39f7b30c39e7",
   "metadata": {},
   "outputs": [
    {
     "name": "stdout",
     "output_type": "stream",
     "text": [
      "[[0. 0. 1. 0.]\n",
      " [0. 0. 0. 1.]\n",
      " [0. 0. 0. 0.]\n",
      " [0. 0. 0. 0.]]\n"
     ]
    }
   ],
   "source": [
    "arr  = np.eye(4, k=2)\n",
    "print(arr)"
   ]
  },
  {
   "cell_type": "code",
   "execution_count": 7,
   "id": "0966e756-0c02-4cbf-9c27-6a76e470a7b5",
   "metadata": {},
   "outputs": [
    {
     "name": "stdout",
     "output_type": "stream",
     "text": [
      "[10 20 30]\n",
      "int64\n"
     ]
    }
   ],
   "source": [
    "arr = np.array([10, 20, 30])\n",
    "print(arr)\n",
    "print(arr.dtype)"
   ]
  },
  {
   "cell_type": "code",
   "execution_count": 8,
   "id": "7c1e62e8-6acd-4f57-b5dc-b0b3adfc10ba",
   "metadata": {},
   "outputs": [
    {
     "name": "stdout",
     "output_type": "stream",
     "text": [
      "[[ 8  7  1  2]\n",
      " [ 3  2  3  1]\n",
      " [29 32 11  9]]\n",
      "----------------\n",
      "Sorted Array : \n",
      "[[ 1  2  7  8]\n",
      " [ 1  2  3  3]\n",
      " [ 9 11 29 32]]\n"
     ]
    }
   ],
   "source": [
    "arr2D = np.array([[8, 7, 1, 2], [3, 2, 3, 1],\n",
    "[29, 32, 11, 9]])\n",
    "print(arr2D)\n",
    "print('----------------')\n",
    "arr2D.sort(axis=1)\n",
    "print('Sorted Array : ')\n",
    "print(arr2D)"
   ]
  },
  {
   "cell_type": "code",
   "execution_count": null,
   "id": "9c3ceb99-77eb-47e6-874b-53b25d44736b",
   "metadata": {},
   "outputs": [],
   "source": []
  }
 ],
 "metadata": {
  "kernelspec": {
   "display_name": "Python 3 (ipykernel)",
   "language": "python",
   "name": "python3"
  },
  "language_info": {
   "codemirror_mode": {
    "name": "ipython",
    "version": 3
   },
   "file_extension": ".py",
   "mimetype": "text/x-python",
   "name": "python",
   "nbconvert_exporter": "python",
   "pygments_lexer": "ipython3",
   "version": "3.13.7"
  }
 },
 "nbformat": 4,
 "nbformat_minor": 5
}
