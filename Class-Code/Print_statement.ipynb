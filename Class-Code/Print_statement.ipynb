{
 "cells": [
  {
   "cell_type": "markdown",
   "id": "751dc066-1400-4b5f-aa41-3d5f8bd9e0aa",
   "metadata": {},
   "source": [
    "### Print Statement"
   ]
  },
  {
   "cell_type": "code",
   "execution_count": 5,
   "id": "89ba1887-a407-440c-8e81-b35a86358e94",
   "metadata": {},
   "outputs": [
    {
     "name": "stdout",
     "output_type": "stream",
     "text": [
      "230\n"
     ]
    }
   ],
   "source": [
    "print(230)"
   ]
  },
  {
   "cell_type": "code",
   "execution_count": 6,
   "id": "16f88a10-b359-4ffc-b006-35d78199db55",
   "metadata": {},
   "outputs": [
    {
     "name": "stdout",
     "output_type": "stream",
     "text": [
      "2.4\n"
     ]
    }
   ],
   "source": [
    "print(2.4)"
   ]
  },
  {
   "cell_type": "code",
   "execution_count": 7,
   "id": "faf117f2-8774-4d9d-bab3-bf2c05ff7631",
   "metadata": {},
   "outputs": [
    {
     "name": "stdout",
     "output_type": "stream",
     "text": [
      "We are learning Python\n"
     ]
    }
   ],
   "source": [
    "print('We are learning Python')"
   ]
  },
  {
   "cell_type": "code",
   "execution_count": 8,
   "id": "d63a2498-6420-43dc-990e-8446db912249",
   "metadata": {},
   "outputs": [
    {
     "name": "stdout",
     "output_type": "stream",
     "text": [
      "We are learning Python\n"
     ]
    }
   ],
   "source": [
    "print(\"We are learning Python\")"
   ]
  },
  {
   "cell_type": "code",
   "execution_count": 9,
   "id": "1162b926-3b6b-4ff5-989f-ab5948aadde5",
   "metadata": {},
   "outputs": [
    {
     "name": "stdout",
     "output_type": "stream",
     "text": [
      "230 450 34\n"
     ]
    }
   ],
   "source": [
    "print(230, 450, 34)"
   ]
  },
  {
   "cell_type": "code",
   "execution_count": 11,
   "id": "9742ce52-b072-4c8a-b355-e0b548937a45",
   "metadata": {},
   "outputs": [
    {
     "name": "stdout",
     "output_type": "stream",
     "text": [
      "We are learning Python---Hello Navttac---Kamran\n"
     ]
    }
   ],
   "source": [
    "print('We are learning Python', 'Hello Navttac', 'Kamran', sep='---')"
   ]
  },
  {
   "cell_type": "code",
   "execution_count": 13,
   "id": "a1479c8a-8d15-4b85-b6c9-96556833b2ed",
   "metadata": {},
   "outputs": [
    {
     "name": "stdout",
     "output_type": "stream",
     "text": [
      "This is Doctor's advice\n"
     ]
    }
   ],
   "source": [
    "print(\"This is Doctor's advice\")"
   ]
  },
  {
   "cell_type": "code",
   "execution_count": 14,
   "id": "f1957323-72ae-43b8-8c67-f24043733691",
   "metadata": {},
   "outputs": [
    {
     "name": "stdout",
     "output_type": "stream",
     "text": [
      "He said: \"I am very busy.\"\n"
     ]
    }
   ],
   "source": [
    "print('He said: \"I am very busy.\"')"
   ]
  },
  {
   "cell_type": "code",
   "execution_count": 17,
   "id": "177df624-fd26-456e-81e8-fc2cf2273350",
   "metadata": {},
   "outputs": [
    {
     "name": "stdout",
     "output_type": "stream",
     "text": [
      "We are learning Python\t\tWe are learning Python\t\tWe are learning Python--We are learning Python--We are learning Python\n"
     ]
    }
   ],
   "source": [
    "print(\"We are learning Python\", end='\\t\\t')\n",
    "print(\"We are learning Python\", end='\\t\\t')\n",
    "print(\"We are learning Python\", end='--')\n",
    "print(\"We are learning Python\", end='--')\n",
    "print(\"We are learning Python\")"
   ]
  },
  {
   "cell_type": "code",
   "execution_count": 19,
   "id": "2bff5cc6-b142-47f4-b141-2cf974e66cc9",
   "metadata": {},
   "outputs": [
    {
     "name": "stdout",
     "output_type": "stream",
     "text": [
      "We are learning Python\n",
      "\n",
      "\n",
      "\n",
      "\n",
      "\n",
      "We are learning Python\n"
     ]
    }
   ],
   "source": [
    "print(\"We are learning Python\")\n",
    "print(\"\\n\\n\\n\\n\\nWe are learning Python\")"
   ]
  },
  {
   "cell_type": "code",
   "execution_count": 21,
   "id": "00b57f6f-a616-4ef2-9547-34ab630e8845",
   "metadata": {},
   "outputs": [
    {
     "name": "stdout",
     "output_type": "stream",
     "text": [
      "Prompt engineering is the process of crafting and refining prompts to improve the performance of generative AI models. \n",
      "It involves providing specific inputs to tools like ChatGPT, Midjourney, or Gemini, guiding the AI to deliver more accurate and contextually relevant outputs.\n"
     ]
    }
   ],
   "source": [
    "print('Prompt engineering is the process of crafting and refining prompts to improve the performance of generative AI models. \\nIt involves providing specific inputs to tools like ChatGPT, Midjourney, or Gemini, guiding the AI to deliver more accurate and contextually relevant outputs.')"
   ]
  },
  {
   "cell_type": "code",
   "execution_count": 22,
   "id": "ef7993a6-2bbc-44e6-a940-b6d50de02f1a",
   "metadata": {},
   "outputs": [
    {
     "name": "stdout",
     "output_type": "stream",
     "text": [
      "Prompt engineering is the process of crafting and refining prompts to \n",
      "improve the performance of generative AI models. \n",
      "It involves providing specific inputs to tools like ChatGPT, \n",
      "Midjourney, or Gemini, guiding the AI to deliver more accurate and contextually relevant outputs.\n"
     ]
    }
   ],
   "source": [
    "print('''Prompt engineering is the process of crafting and refining prompts to \n",
    "improve the performance of generative AI models. \n",
    "It involves providing specific inputs to tools like ChatGPT, \n",
    "Midjourney, or Gemini, guiding the AI to deliver more accurate and contextually relevant outputs.''')"
   ]
  },
  {
   "cell_type": "code",
   "execution_count": 24,
   "id": "c32460fe-c327-4bb2-8056-5be792582f72",
   "metadata": {},
   "outputs": [
    {
     "name": "stdout",
     "output_type": "stream",
     "text": [
      "This is Doctor's advice\n"
     ]
    }
   ],
   "source": [
    "print('This is Doctor\\'s advice')"
   ]
  },
  {
   "cell_type": "markdown",
   "id": "ce2f7f0c-2545-4ea0-bfd3-d867ae64034a",
   "metadata": {},
   "source": [
    "### Comments"
   ]
  },
  {
   "cell_type": "code",
   "execution_count": 25,
   "id": "8445cf1d-697e-4a70-94dc-a55a2ad875e4",
   "metadata": {},
   "outputs": [
    {
     "name": "stdout",
     "output_type": "stream",
     "text": [
      "This is single line comment\n"
     ]
    }
   ],
   "source": [
    "# single line comment\n",
    "print('This is single line comment')"
   ]
  },
  {
   "cell_type": "code",
   "execution_count": 26,
   "id": "d0cd0b78-d21f-4914-8f2d-77bd48eca967",
   "metadata": {},
   "outputs": [
    {
     "name": "stdout",
     "output_type": "stream",
     "text": [
      "This is multi-line comments\n"
     ]
    }
   ],
   "source": [
    "'''\n",
    "This is mulyti-line comments.\n",
    "we are learning python.\n",
    "'''\n",
    "\n",
    "print('This is multi-line comments')"
   ]
  },
  {
   "cell_type": "code",
   "execution_count": null,
   "id": "85130c78-4e6b-4539-884d-0ea30b76f441",
   "metadata": {},
   "outputs": [],
   "source": []
  }
 ],
 "metadata": {
  "kernelspec": {
   "display_name": "Python 3 (ipykernel)",
   "language": "python",
   "name": "python3"
  },
  "language_info": {
   "codemirror_mode": {
    "name": "ipython",
    "version": 3
   },
   "file_extension": ".py",
   "mimetype": "text/x-python",
   "name": "python",
   "nbconvert_exporter": "python",
   "pygments_lexer": "ipython3",
   "version": "3.11.5"
  }
 },
 "nbformat": 4,
 "nbformat_minor": 5
}
