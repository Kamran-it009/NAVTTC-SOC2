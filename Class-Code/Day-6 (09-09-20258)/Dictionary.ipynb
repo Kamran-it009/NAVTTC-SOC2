{
 "cells": [
  {
   "cell_type": "code",
   "execution_count": 1,
   "id": "4dd643cc-e90e-401b-8d71-54ea284767d1",
   "metadata": {},
   "outputs": [],
   "source": [
    "fruits_dict = {'A': 'apple', 'B': 'banana', 'C': 'cherry', 'D': 'dragon fruits'}"
   ]
  },
  {
   "cell_type": "code",
   "execution_count": 2,
   "id": "43abc23f-41dd-4336-ad40-14808d3225f9",
   "metadata": {},
   "outputs": [
    {
     "data": {
      "text/plain": [
       "{'A': 'apple', 'B': 'banana', 'C': 'cherry', 'D': 'dragon fruits'}"
      ]
     },
     "execution_count": 2,
     "metadata": {},
     "output_type": "execute_result"
    }
   ],
   "source": [
    "fruits_dict"
   ]
  },
  {
   "cell_type": "code",
   "execution_count": 4,
   "id": "b5e5252d-421d-4c10-a43f-8f05719868b9",
   "metadata": {},
   "outputs": [
    {
     "data": {
      "text/plain": [
       "'apple'"
      ]
     },
     "execution_count": 4,
     "metadata": {},
     "output_type": "execute_result"
    }
   ],
   "source": [
    "fruits_dict['A']"
   ]
  },
  {
   "cell_type": "code",
   "execution_count": 6,
   "id": "4f3b2cf3-b686-40cf-817f-e3577ca78791",
   "metadata": {},
   "outputs": [],
   "source": [
    "fruits_dict['D'] = 'Dates'"
   ]
  },
  {
   "cell_type": "code",
   "execution_count": 7,
   "id": "d7a04d00-0b36-4d8d-aab1-5d051c98de54",
   "metadata": {},
   "outputs": [
    {
     "data": {
      "text/plain": [
       "{'A': 'apple', 'B': 'banana', 'C': 'cherry', 'D': 'Dates'}"
      ]
     },
     "execution_count": 7,
     "metadata": {},
     "output_type": "execute_result"
    }
   ],
   "source": [
    "fruits_dict"
   ]
  },
  {
   "cell_type": "code",
   "execution_count": 8,
   "id": "0ade1692-27d2-4fd5-b113-10f73109111f",
   "metadata": {},
   "outputs": [],
   "source": [
    "fruits_dict_demo = {23.4: 'apple'}"
   ]
  },
  {
   "cell_type": "code",
   "execution_count": 9,
   "id": "4c69280c-4db2-40b8-a14b-808760739ea1",
   "metadata": {},
   "outputs": [
    {
     "data": {
      "text/plain": [
       "{23.4: 'apple'}"
      ]
     },
     "execution_count": 9,
     "metadata": {},
     "output_type": "execute_result"
    }
   ],
   "source": [
    "fruits_dict_demo"
   ]
  },
  {
   "cell_type": "code",
   "execution_count": 11,
   "id": "9fd876f4-62d2-45f2-b0c0-29450bf0a780",
   "metadata": {},
   "outputs": [
    {
     "data": {
      "text/plain": [
       "'apple'"
      ]
     },
     "execution_count": 11,
     "metadata": {},
     "output_type": "execute_result"
    }
   ],
   "source": [
    "fruits_dict_demo[23.4]"
   ]
  },
  {
   "cell_type": "code",
   "execution_count": 12,
   "id": "1411d41c-867e-4524-8ee5-11eb7a846393",
   "metadata": {},
   "outputs": [],
   "source": [
    "students = {'Roll no': [101, 102, 103, 104], 'Name': ['Ali', 'Ahmad', 'Umer']}"
   ]
  },
  {
   "cell_type": "code",
   "execution_count": 13,
   "id": "9adb14a9-f725-42df-b2f1-b357d71f12dd",
   "metadata": {},
   "outputs": [
    {
     "name": "stdout",
     "output_type": "stream",
     "text": [
      "{'Roll no': [101, 102, 103, 104], 'Name': ['Ali', 'Ahmad', 'Umer']}\n"
     ]
    }
   ],
   "source": [
    "print(students)"
   ]
  },
  {
   "cell_type": "code",
   "execution_count": 16,
   "id": "0ad3894a-9567-463f-81a9-dded5431389c",
   "metadata": {},
   "outputs": [
    {
     "data": {
      "text/plain": [
       "'Ahmad'"
      ]
     },
     "execution_count": 16,
     "metadata": {},
     "output_type": "execute_result"
    }
   ],
   "source": [
    "students['Name'][1]"
   ]
  },
  {
   "cell_type": "code",
   "execution_count": 18,
   "id": "90c0b88a-cce1-47d3-8f1d-545bd39e8006",
   "metadata": {},
   "outputs": [],
   "source": [
    "students['Name'].append('Kamran')"
   ]
  },
  {
   "cell_type": "code",
   "execution_count": 20,
   "id": "326cb810-1f19-454a-a2d9-e57b5bccd9fc",
   "metadata": {},
   "outputs": [],
   "source": [
    "students['Age'] = [20, 340, 45]"
   ]
  },
  {
   "cell_type": "code",
   "execution_count": 21,
   "id": "a5a28626-19a6-4a77-af0b-e7bf178bdef1",
   "metadata": {},
   "outputs": [
    {
     "data": {
      "text/plain": [
       "{'Roll no': [101, 102, 103, 104],\n",
       " 'Name': ['Ali', 'Ahmad', 'Umer', 'Kamran'],\n",
       " 'Age': [20, 340, 45]}"
      ]
     },
     "execution_count": 21,
     "metadata": {},
     "output_type": "execute_result"
    }
   ],
   "source": [
    "students"
   ]
  },
  {
   "cell_type": "code",
   "execution_count": 30,
   "id": "9fef5727-0b50-4a9c-a055-5ad3b27b1a76",
   "metadata": {},
   "outputs": [],
   "source": [
    "new = dict.fromkeys(['apple', 'banana', 'cherry'], 0)"
   ]
  },
  {
   "cell_type": "code",
   "execution_count": 31,
   "id": "81bb4ed8-d5d6-4bc1-adac-e1620db29042",
   "metadata": {},
   "outputs": [
    {
     "data": {
      "text/plain": [
       "{'apple': 0, 'banana': 0, 'cherry': 0}"
      ]
     },
     "execution_count": 31,
     "metadata": {},
     "output_type": "execute_result"
    }
   ],
   "source": [
    "new"
   ]
  },
  {
   "cell_type": "code",
   "execution_count": 32,
   "id": "14670c2c-1457-4fba-9b03-bb3b2ac32742",
   "metadata": {},
   "outputs": [],
   "source": [
    "new['apple'] = 10"
   ]
  },
  {
   "cell_type": "code",
   "execution_count": 33,
   "id": "76587e72-1166-455b-a827-b7e523f987f2",
   "metadata": {},
   "outputs": [
    {
     "data": {
      "text/plain": [
       "{'apple': 10, 'banana': 0, 'cherry': 0}"
      ]
     },
     "execution_count": 33,
     "metadata": {},
     "output_type": "execute_result"
    }
   ],
   "source": [
    "new"
   ]
  },
  {
   "cell_type": "code",
   "execution_count": 34,
   "id": "47bdf049-fcb6-4e9c-a198-d2a6f4ac02e8",
   "metadata": {},
   "outputs": [
    {
     "data": {
      "text/plain": [
       "dict_values([[101, 102, 103, 104], ['Ali', 'Ahmad', 'Umer', 'Kamran'], [20, 340, 45]])"
      ]
     },
     "execution_count": 34,
     "metadata": {},
     "output_type": "execute_result"
    }
   ],
   "source": [
    "students.values()"
   ]
  },
  {
   "cell_type": "code",
   "execution_count": 36,
   "id": "0381b130-7461-4a6b-8e25-de27026863dc",
   "metadata": {},
   "outputs": [
    {
     "data": {
      "text/plain": [
       "['Ali', 'Ahmad', 'Umer', 'Kamran']"
      ]
     },
     "execution_count": 36,
     "metadata": {},
     "output_type": "execute_result"
    }
   ],
   "source": [
    "students.pop('Name')"
   ]
  },
  {
   "cell_type": "code",
   "execution_count": 37,
   "id": "4f48f3d5-7d1d-48a0-895f-9ec835c11f8d",
   "metadata": {},
   "outputs": [
    {
     "data": {
      "text/plain": [
       "{'Roll no': [101, 102, 103, 104], 'Age': [20, 340, 45]}"
      ]
     },
     "execution_count": 37,
     "metadata": {},
     "output_type": "execute_result"
    }
   ],
   "source": [
    "students"
   ]
  },
  {
   "cell_type": "code",
   "execution_count": 38,
   "id": "495d863c-4c9b-43d6-8484-16886cb10870",
   "metadata": {},
   "outputs": [
    {
     "data": {
      "text/plain": [
       "('Age', [20, 340, 45])"
      ]
     },
     "execution_count": 38,
     "metadata": {},
     "output_type": "execute_result"
    }
   ],
   "source": [
    "students.popitem()"
   ]
  },
  {
   "cell_type": "code",
   "execution_count": 39,
   "id": "0dcf8fac-ad3d-414d-b822-8f7589c3cea8",
   "metadata": {},
   "outputs": [
    {
     "data": {
      "text/plain": [
       "{'Roll no': [101, 102, 103, 104]}"
      ]
     },
     "execution_count": 39,
     "metadata": {},
     "output_type": "execute_result"
    }
   ],
   "source": [
    "students"
   ]
  },
  {
   "cell_type": "code",
   "execution_count": 41,
   "id": "465cca12-bc68-40fc-b17c-6fab424c1280",
   "metadata": {},
   "outputs": [
    {
     "name": "stdout",
     "output_type": "stream",
     "text": [
      "{'watermelon', 'apple', 'banana', 'melon', 'cherry', 'orange'}\n"
     ]
    }
   ],
   "source": [
    "# Set\n",
    "# Set Creation\n",
    "fruits = {'apple', 'apple', 'banana', 'cherry', 'orange', 'melon', 'watermelon'}\n",
    "print(fruits)"
   ]
  },
  {
   "cell_type": "code",
   "execution_count": 42,
   "id": "ba561ab5-3472-4128-8154-636919d943c1",
   "metadata": {},
   "outputs": [
    {
     "ename": "TypeError",
     "evalue": "'set' object is not subscriptable",
     "output_type": "error",
     "traceback": [
      "\u001b[31m---------------------------------------------------------------------------\u001b[39m",
      "\u001b[31mTypeError\u001b[39m                                 Traceback (most recent call last)",
      "\u001b[36mCell\u001b[39m\u001b[36m \u001b[39m\u001b[32mIn[42]\u001b[39m\u001b[32m, line 1\u001b[39m\n\u001b[32m----> \u001b[39m\u001b[32m1\u001b[39m \u001b[43mfruits\u001b[49m\u001b[43m[\u001b[49m\u001b[32;43m1\u001b[39;49m\u001b[43m]\u001b[49m\n",
      "\u001b[31mTypeError\u001b[39m: 'set' object is not subscriptable"
     ]
    }
   ],
   "source": [
    "fruits[1]"
   ]
  },
  {
   "cell_type": "code",
   "execution_count": 43,
   "id": "6cf592fe-4496-460f-88df-3a52f94e102a",
   "metadata": {},
   "outputs": [],
   "source": [
    "fruits.add('grapes')"
   ]
  },
  {
   "cell_type": "code",
   "execution_count": 48,
   "id": "99d7989f-efdc-41cd-a1b8-10f725c01a1b",
   "metadata": {},
   "outputs": [
    {
     "data": {
      "text/plain": [
       "'banana'"
      ]
     },
     "execution_count": 48,
     "metadata": {},
     "output_type": "execute_result"
    }
   ],
   "source": [
    "fruits.pop()"
   ]
  },
  {
   "cell_type": "code",
   "execution_count": null,
   "id": "929cf69f-a0ee-450f-9280-1b29912e71bb",
   "metadata": {},
   "outputs": [],
   "source": []
  }
 ],
 "metadata": {
  "kernelspec": {
   "display_name": "Python 3 (ipykernel)",
   "language": "python",
   "name": "python3"
  },
  "language_info": {
   "codemirror_mode": {
    "name": "ipython",
    "version": 3
   },
   "file_extension": ".py",
   "mimetype": "text/x-python",
   "name": "python",
   "nbconvert_exporter": "python",
   "pygments_lexer": "ipython3",
   "version": "3.13.7"
  }
 },
 "nbformat": 4,
 "nbformat_minor": 5
}
