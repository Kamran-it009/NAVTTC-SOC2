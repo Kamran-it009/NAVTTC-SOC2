{
 "cells": [
  {
   "cell_type": "code",
   "execution_count": 42,
   "id": "bff7169a-20ed-43ba-ba8f-d54bb9fc7155",
   "metadata": {},
   "outputs": [],
   "source": [
    "fruits = ['apple', 'banana', 'cherry', 'stawberry', 'grapes']"
   ]
  },
  {
   "cell_type": "code",
   "execution_count": 2,
   "id": "be721598-af41-40e1-9ce2-2675bc2456c0",
   "metadata": {},
   "outputs": [],
   "source": [
    "ages = [20, 30, 45, 34, 23]"
   ]
  },
  {
   "cell_type": "code",
   "execution_count": 3,
   "id": "8e600a35-b484-47bd-820a-6278341f4ef7",
   "metadata": {},
   "outputs": [],
   "source": [
    "mixed = ['apple', 23, 34.5]"
   ]
  },
  {
   "cell_type": "code",
   "execution_count": 4,
   "id": "555d19d1-ed53-4879-95fa-341785a5c2a8",
   "metadata": {},
   "outputs": [
    {
     "data": {
      "text/plain": [
       "'apple'"
      ]
     },
     "execution_count": 4,
     "metadata": {},
     "output_type": "execute_result"
    }
   ],
   "source": [
    "mixed[0]"
   ]
  },
  {
   "cell_type": "code",
   "execution_count": 5,
   "id": "0ab29d38-e5fa-4d06-b2c4-4bb1cd65b232",
   "metadata": {},
   "outputs": [
    {
     "data": {
      "text/plain": [
       "34.5"
      ]
     },
     "execution_count": 5,
     "metadata": {},
     "output_type": "execute_result"
    }
   ],
   "source": [
    "mixed[-1]"
   ]
  },
  {
   "cell_type": "code",
   "execution_count": 6,
   "id": "91b459e1-414a-4f54-bce7-c6dd63900c30",
   "metadata": {},
   "outputs": [
    {
     "data": {
      "text/plain": [
       "['cherry', 'stawberry', 'grapes']"
      ]
     },
     "execution_count": 6,
     "metadata": {},
     "output_type": "execute_result"
    }
   ],
   "source": [
    "fruits[2: 5]"
   ]
  },
  {
   "cell_type": "code",
   "execution_count": 10,
   "id": "bb921e89-9b03-4d08-a50c-517ae0ee1975",
   "metadata": {},
   "outputs": [
    {
     "data": {
      "text/plain": [
       "'e'"
      ]
     },
     "execution_count": 10,
     "metadata": {},
     "output_type": "execute_result"
    }
   ],
   "source": [
    "fruits[2][2]"
   ]
  },
  {
   "cell_type": "code",
   "execution_count": 13,
   "id": "5d3b74f3-1202-46fa-83a7-c0a73e6ccae3",
   "metadata": {},
   "outputs": [
    {
     "data": {
      "text/plain": [
       "['apple', 'banana', 'cherry', 'stawberry', 'grapes']"
      ]
     },
     "execution_count": 13,
     "metadata": {},
     "output_type": "execute_result"
    }
   ],
   "source": [
    "fruits"
   ]
  },
  {
   "cell_type": "code",
   "execution_count": 12,
   "id": "ea866a95-71b0-4cc8-8d60-9b15516f92e2",
   "metadata": {},
   "outputs": [
    {
     "data": {
      "text/plain": [
       "['cherry', 'stawberry']"
      ]
     },
     "execution_count": 12,
     "metadata": {},
     "output_type": "execute_result"
    }
   ],
   "source": [
    "fruits[-3: -1]"
   ]
  },
  {
   "cell_type": "code",
   "execution_count": 14,
   "id": "66f18915-71fb-48f8-a880-00011ce69e4f",
   "metadata": {},
   "outputs": [],
   "source": [
    "fruits[-2] = 'mango'"
   ]
  },
  {
   "cell_type": "code",
   "execution_count": 15,
   "id": "7b6ea676-48be-4be6-84f2-b6d355df2e9c",
   "metadata": {},
   "outputs": [
    {
     "data": {
      "text/plain": [
       "['apple', 'banana', 'cherry', 'mango', 'grapes']"
      ]
     },
     "execution_count": 15,
     "metadata": {},
     "output_type": "execute_result"
    }
   ],
   "source": [
    "fruits"
   ]
  },
  {
   "cell_type": "code",
   "execution_count": 20,
   "id": "84dd4cca-09ad-4ea0-ba8f-4214baf4899f",
   "metadata": {},
   "outputs": [],
   "source": [
    "fruits.insert(2, 'stawberry')"
   ]
  },
  {
   "cell_type": "code",
   "execution_count": 28,
   "id": "ae35bb10-b65b-4a22-b6fe-f14a30b70085",
   "metadata": {},
   "outputs": [
    {
     "data": {
      "text/plain": [
       "['apple',\n",
       " 'banana',\n",
       " 'stawberry',\n",
       " 'cherry',\n",
       " 'stawberry',\n",
       " 'stawberry',\n",
       " 'mango',\n",
       " 'grapes']"
      ]
     },
     "execution_count": 28,
     "metadata": {},
     "output_type": "execute_result"
    }
   ],
   "source": [
    "fruits"
   ]
  },
  {
   "cell_type": "code",
   "execution_count": 22,
   "id": "d343b11b-97a7-4efb-8ce6-3cb4d2844cb1",
   "metadata": {},
   "outputs": [],
   "source": [
    "fruits.append('kiwi')"
   ]
  },
  {
   "cell_type": "code",
   "execution_count": 23,
   "id": "2c698f47-b3be-4618-95a7-e7259d5d60b2",
   "metadata": {},
   "outputs": [
    {
     "data": {
      "text/plain": [
       "['apple',\n",
       " 'banana',\n",
       " 'stawberry',\n",
       " 'cherry',\n",
       " 'stawberry',\n",
       " 'stawberry',\n",
       " 'mango',\n",
       " 'grapes',\n",
       " 'kiwi']"
      ]
     },
     "execution_count": 23,
     "metadata": {},
     "output_type": "execute_result"
    }
   ],
   "source": [
    "fruits = ['apple',\n",
    " 'banana',\n",
    " 'stawberry',\n",
    " 'cherry',\n",
    " 'stawberry',\n",
    " 'stawberry',\n",
    " 'mango',\n",
    " 'grapes']"
   ]
  },
  {
   "cell_type": "code",
   "execution_count": 25,
   "id": "01f6103e-292f-42db-a702-91973611f622",
   "metadata": {},
   "outputs": [],
   "source": [
    "fruits[2: 5] = ['alechi', 'papayya', 'melon']"
   ]
  },
  {
   "cell_type": "code",
   "execution_count": 26,
   "id": "119a0ef8-6c5b-4e3a-9a1f-f440bb7e59d4",
   "metadata": {},
   "outputs": [
    {
     "data": {
      "text/plain": [
       "['apple',\n",
       " 'banana',\n",
       " 'alechi',\n",
       " 'papayya',\n",
       " 'melon',\n",
       " 'stawberry',\n",
       " 'mango',\n",
       " 'grapes',\n",
       " 'kiwi']"
      ]
     },
     "execution_count": 26,
     "metadata": {},
     "output_type": "execute_result"
    }
   ],
   "source": [
    "fruits"
   ]
  },
  {
   "cell_type": "code",
   "execution_count": 47,
   "id": "1fb11b66-f6ed-4bca-811c-7f3799598453",
   "metadata": {},
   "outputs": [],
   "source": [
    "fruits  = ['apple',\n",
    " 'banana',\n",
    " 'stawberry',\n",
    " 'cherry',\n",
    " 'stawberry',\n",
    " 'stawberry',\n",
    " 'mango',\n",
    " 'grapes']"
   ]
  },
  {
   "cell_type": "code",
   "execution_count": 31,
   "id": "19d70fc5-78be-4982-b990-53266731ee98",
   "metadata": {},
   "outputs": [],
   "source": [
    "fruits[2: 5: 2] = ['melon', 'watermelon']"
   ]
  },
  {
   "cell_type": "code",
   "execution_count": 32,
   "id": "99b64ac5-940c-44ce-82da-72559a859ef6",
   "metadata": {},
   "outputs": [
    {
     "data": {
      "text/plain": [
       "['apple',\n",
       " 'banana',\n",
       " 'melon',\n",
       " 'cherry',\n",
       " 'watermelon',\n",
       " 'stawberry',\n",
       " 'mango',\n",
       " 'grapes']"
      ]
     },
     "execution_count": 32,
     "metadata": {},
     "output_type": "execute_result"
    }
   ],
   "source": [
    "fruits"
   ]
  },
  {
   "cell_type": "code",
   "execution_count": 40,
   "id": "a24edee4-c1e1-4515-a57c-220ea11e29cd",
   "metadata": {},
   "outputs": [],
   "source": [
    "# extend()\n",
    "product1 = ['Mobile', 'telephone', 'airbods']\n",
    "product2 = ['shirts', 'hoddies', 'jeans']"
   ]
  },
  {
   "cell_type": "code",
   "execution_count": 38,
   "id": "7aa97288-fa27-4a27-b743-6da0065886d7",
   "metadata": {},
   "outputs": [],
   "source": [
    "product1.extend(product2)"
   ]
  },
  {
   "cell_type": "code",
   "execution_count": 39,
   "id": "69b8966c-7562-4680-993c-b718a3788697",
   "metadata": {},
   "outputs": [
    {
     "data": {
      "text/plain": [
       "['Mobile', 'telephone', 'airbods', 'shirts', 'hoddies', 'jeans']"
      ]
     },
     "execution_count": 39,
     "metadata": {},
     "output_type": "execute_result"
    }
   ],
   "source": [
    "product1"
   ]
  },
  {
   "cell_type": "code",
   "execution_count": 42,
   "id": "923e889e-4ffd-4922-8f51-9782641149cb",
   "metadata": {},
   "outputs": [],
   "source": [
    "p = product1 + product2"
   ]
  },
  {
   "cell_type": "code",
   "execution_count": 43,
   "id": "06f753b3-5174-4f8c-8d7e-2212a6e5b8f1",
   "metadata": {},
   "outputs": [
    {
     "data": {
      "text/plain": [
       "['Mobile', 'telephone', 'airbods', 'shirts', 'hoddies', 'jeans']"
      ]
     },
     "execution_count": 43,
     "metadata": {},
     "output_type": "execute_result"
    }
   ],
   "source": [
    "p"
   ]
  },
  {
   "cell_type": "code",
   "execution_count": 44,
   "id": "0f59c0c9-1a8f-4718-9615-66a9207e5001",
   "metadata": {},
   "outputs": [
    {
     "data": {
      "text/plain": [
       "['apple',\n",
       " 'banana',\n",
       " 'melon',\n",
       " 'cherry',\n",
       " 'watermelon',\n",
       " 'stawberry',\n",
       " 'mango',\n",
       " 'grapes']"
      ]
     },
     "execution_count": 44,
     "metadata": {},
     "output_type": "execute_result"
    }
   ],
   "source": [
    "fruits"
   ]
  },
  {
   "cell_type": "code",
   "execution_count": null,
   "id": "3cde09ad-70d1-4afe-88cf-cbe1cf903542",
   "metadata": {},
   "outputs": [],
   "source": []
  },
  {
   "cell_type": "code",
   "execution_count": 51,
   "id": "d11e70b7-8e32-4697-9001-c11afb5dd0ec",
   "metadata": {},
   "outputs": [
    {
     "data": {
      "text/plain": [
       "['apple', 'banana', 'cherry', 'stawberry', 'stawberry', 'mango', 'grapes']"
      ]
     },
     "execution_count": 51,
     "metadata": {},
     "output_type": "execute_result"
    }
   ],
   "source": [
    "fruits"
   ]
  },
  {
   "cell_type": "code",
   "execution_count": 52,
   "id": "d8b06b44-ec5d-4842-a9d0-8fd96604bd9f",
   "metadata": {},
   "outputs": [],
   "source": [
    "item = fruits.pop(2)"
   ]
  },
  {
   "cell_type": "code",
   "execution_count": 53,
   "id": "bfa69222-5f53-43fa-8ddb-edaf3cca60b3",
   "metadata": {},
   "outputs": [
    {
     "data": {
      "text/plain": [
       "['apple', 'banana', 'stawberry', 'stawberry', 'mango', 'grapes']"
      ]
     },
     "execution_count": 53,
     "metadata": {},
     "output_type": "execute_result"
    }
   ],
   "source": [
    "fruits"
   ]
  },
  {
   "cell_type": "code",
   "execution_count": 54,
   "id": "25a7439a-69d2-447a-adcd-5bdb26bd18fb",
   "metadata": {},
   "outputs": [
    {
     "data": {
      "text/plain": [
       "'cherry'"
      ]
     },
     "execution_count": 54,
     "metadata": {},
     "output_type": "execute_result"
    }
   ],
   "source": [
    "item"
   ]
  },
  {
   "cell_type": "code",
   "execution_count": 17,
   "id": "ca193108-4894-4fd3-913b-7eb8c590f2f7",
   "metadata": {},
   "outputs": [
    {
     "name": "stdout",
     "output_type": "stream",
     "text": [
      "['guava', 'Strawbery', 'almond', 'apple', 'grapes', 'Pineapple']\n"
     ]
    }
   ],
   "source": [
    "fruits = ['guava', 'Strawbery', 'almond', 'apple', 'grapes', 'Pineapple']\n",
    "print(fruits)"
   ]
  },
  {
   "cell_type": "code",
   "execution_count": 7,
   "id": "fd2e0ee9-5156-49aa-8fda-47583458ebba",
   "metadata": {},
   "outputs": [],
   "source": [
    "fruits.sort()"
   ]
  },
  {
   "cell_type": "code",
   "execution_count": 8,
   "id": "ee8241c8-3948-46bd-8cd3-1896df051893",
   "metadata": {},
   "outputs": [
    {
     "data": {
      "text/plain": [
       "['Pineapple', 'Strawbery', 'almond', 'apple', 'grapes', 'guava']"
      ]
     },
     "execution_count": 8,
     "metadata": {},
     "output_type": "execute_result"
    }
   ],
   "source": [
    "fruits"
   ]
  },
  {
   "cell_type": "code",
   "execution_count": 10,
   "id": "458f9cdc-e832-48f2-9099-6b56c716f834",
   "metadata": {},
   "outputs": [],
   "source": [
    "fruits.sort(reverse = True)"
   ]
  },
  {
   "cell_type": "code",
   "execution_count": 11,
   "id": "78e3f4e4-77e7-4aa1-bd73-cc50961af30b",
   "metadata": {},
   "outputs": [
    {
     "data": {
      "text/plain": [
       "['guava', 'grapes', 'apple', 'almond', 'Strawbery', 'Pineapple']"
      ]
     },
     "execution_count": 11,
     "metadata": {},
     "output_type": "execute_result"
    }
   ],
   "source": [
    "fruits"
   ]
  },
  {
   "cell_type": "code",
   "execution_count": 14,
   "id": "e482eb66-06bb-40ca-be34-81cdc1872ee2",
   "metadata": {},
   "outputs": [],
   "source": [
    "fruits.reverse()"
   ]
  },
  {
   "cell_type": "code",
   "execution_count": 15,
   "id": "0d81b589-1390-429b-80ce-5b4200826ef1",
   "metadata": {},
   "outputs": [
    {
     "data": {
      "text/plain": [
       "['Pineapple', 'grapes', 'apple', 'almond', 'Strawbery', 'guava']"
      ]
     },
     "execution_count": 15,
     "metadata": {},
     "output_type": "execute_result"
    }
   ],
   "source": [
    "fruits"
   ]
  },
  {
   "cell_type": "code",
   "execution_count": 18,
   "id": "e3221b5a-6443-4dad-bae5-cf3f63d4ef89",
   "metadata": {},
   "outputs": [],
   "source": [
    "original = fruits"
   ]
  },
  {
   "cell_type": "code",
   "execution_count": 19,
   "id": "49a8883c-0238-4582-8a17-3adcea0204c2",
   "metadata": {},
   "outputs": [
    {
     "name": "stdout",
     "output_type": "stream",
     "text": [
      "['guava', 'Strawbery', 'almond', 'apple', 'grapes', 'Pineapple']\n"
     ]
    }
   ],
   "source": [
    "print(original)"
   ]
  },
  {
   "cell_type": "code",
   "execution_count": 20,
   "id": "ce870aab-d210-4e3b-8ac4-8a564782ed87",
   "metadata": {},
   "outputs": [],
   "source": [
    "fruits.append('melon')"
   ]
  },
  {
   "cell_type": "code",
   "execution_count": 21,
   "id": "2b50eaf3-0c49-4e07-b1c1-0efb47a697b5",
   "metadata": {},
   "outputs": [
    {
     "data": {
      "text/plain": [
       "['guava', 'Strawbery', 'almond', 'apple', 'grapes', 'Pineapple', 'melon']"
      ]
     },
     "execution_count": 21,
     "metadata": {},
     "output_type": "execute_result"
    }
   ],
   "source": [
    "original"
   ]
  },
  {
   "cell_type": "code",
   "execution_count": 22,
   "id": "1512913a-43e5-489c-98b5-cf28541dac8d",
   "metadata": {},
   "outputs": [],
   "source": [
    "product = ['mobile', 'AC']\n",
    "product2 = ['mobile', 'AC']"
   ]
  },
  {
   "cell_type": "code",
   "execution_count": 23,
   "id": "00b51f57-a40d-49e3-a522-001a48b70bde",
   "metadata": {},
   "outputs": [
    {
     "name": "stdout",
     "output_type": "stream",
     "text": [
      "3073585830144\n",
      "3073585836288\n"
     ]
    }
   ],
   "source": [
    "print(id(product))\n",
    "print(id(product2))"
   ]
  },
  {
   "cell_type": "code",
   "execution_count": 24,
   "id": "686a5407-db58-4b78-9d6c-08283c62148b",
   "metadata": {},
   "outputs": [
    {
     "name": "stdout",
     "output_type": "stream",
     "text": [
      "3073585640448\n",
      "3073585640448\n"
     ]
    }
   ],
   "source": [
    "print(id(original))\n",
    "print(id(fruits))"
   ]
  },
  {
   "cell_type": "code",
   "execution_count": 43,
   "id": "67daef4a-be88-44f1-aa19-8ada7d540e15",
   "metadata": {},
   "outputs": [],
   "source": [
    "fruits = ['apple', 'banana', 'cherry', 'stawberry', 'grapes']\n",
    "original2 = fruits.copy()"
   ]
  },
  {
   "cell_type": "code",
   "execution_count": 44,
   "id": "633eebfa-0dca-4182-ac16-593b74e375fe",
   "metadata": {},
   "outputs": [
    {
     "name": "stdout",
     "output_type": "stream",
     "text": [
      "3073591695744\n",
      "3073591513472\n"
     ]
    }
   ],
   "source": [
    "print(id(original2))\n",
    "print(id(fruits))"
   ]
  },
  {
   "cell_type": "code",
   "execution_count": 45,
   "id": "8652ddb4-400e-470c-a0b6-8c813c2a9b35",
   "metadata": {},
   "outputs": [],
   "source": [
    "fruits.append('melon')"
   ]
  },
  {
   "cell_type": "code",
   "execution_count": 46,
   "id": "d91ab04a-d1a0-4596-bfa5-b2b5b1007a06",
   "metadata": {},
   "outputs": [
    {
     "data": {
      "text/plain": [
       "['apple', 'banana', 'cherry', 'stawberry', 'grapes']"
      ]
     },
     "execution_count": 46,
     "metadata": {},
     "output_type": "execute_result"
    }
   ],
   "source": [
    "original2"
   ]
  },
  {
   "cell_type": "code",
   "execution_count": 39,
   "id": "41c03e0a-bd4f-4462-a244-9d22568a8dbe",
   "metadata": {},
   "outputs": [],
   "source": [
    "del fruits"
   ]
  },
  {
   "cell_type": "code",
   "execution_count": 40,
   "id": "92f6a078-1207-4a4e-98d6-4157aba5955e",
   "metadata": {},
   "outputs": [],
   "source": [
    "del original"
   ]
  },
  {
   "cell_type": "code",
   "execution_count": 48,
   "id": "bb1366db-13a1-4370-8911-b38cdd3debd2",
   "metadata": {},
   "outputs": [
    {
     "name": "stdout",
     "output_type": "stream",
     "text": [
      "[['apple', 'banana', 'cherry'], ['Brinjal', 'Potato', 'Radish']]\n"
     ]
    }
   ],
   "source": [
    "# 2D List\n",
    "fruits_veg = [\n",
    "            ['apple', 'banana', 'cherry'], \n",
    "            ['Brinjal', 'Potato', 'Radish']\n",
    "                ]\n",
    "print(fruits_veg)"
   ]
  },
  {
   "cell_type": "code",
   "execution_count": 56,
   "id": "9b9de820-fa5b-40d4-b455-87dc85a5189d",
   "metadata": {},
   "outputs": [
    {
     "data": {
      "text/plain": [
       "'Radish'"
      ]
     },
     "execution_count": 56,
     "metadata": {},
     "output_type": "execute_result"
    }
   ],
   "source": [
    "fruits_veg[1][2]"
   ]
  },
  {
   "cell_type": "code",
   "execution_count": 59,
   "id": "b4b3ea70-c714-4854-a071-75d62bb801fb",
   "metadata": {},
   "outputs": [
    {
     "data": {
      "text/plain": [
       "['Potato', 'Radish']"
      ]
     },
     "execution_count": 59,
     "metadata": {},
     "output_type": "execute_result"
    }
   ],
   "source": [
    "fruits_veg[1][1:3]"
   ]
  },
  {
   "cell_type": "code",
   "execution_count": 60,
   "id": "c8701022-bdeb-4880-8603-73e4bc14191a",
   "metadata": {},
   "outputs": [
    {
     "data": {
      "text/plain": [
       "['apple', ['banana', ['grpaes'], 1], 2]"
      ]
     },
     "execution_count": 60,
     "metadata": {},
     "output_type": "execute_result"
    }
   ],
   "source": [
    "['apple', ['banana', ['grpaes'], 1], 2] "
   ]
  },
  {
   "cell_type": "code",
   "execution_count": 64,
   "id": "a0302b91-bb12-4d0e-990d-764a1a9949c7",
   "metadata": {},
   "outputs": [
    {
     "name": "stdout",
     "output_type": "stream",
     "text": [
      "0 ['apple', 'banana', 'cherry']\n",
      "1 ['Brinjal', 'Potato', 'Radish']\n"
     ]
    }
   ],
   "source": [
    "for index, item in enumerate(fruits_veg):\n",
    "    print(index, item)"
   ]
  },
  {
   "cell_type": "code",
   "execution_count": 67,
   "id": "7e94393a-607b-4628-adf6-e97edaa8a5c3",
   "metadata": {},
   "outputs": [
    {
     "name": "stdout",
     "output_type": "stream",
     "text": [
      "('Potato', 'Spinish', 'Carrot', 'Onion', 'Garlic', 'Cabbage')\n"
     ]
    }
   ],
   "source": [
    "# Creating Tuples\n",
    "vegetables = ('Potato', 'Spinish', 'Carrot', 'Onion', 'Garlic', 'Cabbage')\n",
    "print(vegetables)"
   ]
  },
  {
   "cell_type": "code",
   "execution_count": 68,
   "id": "3bbf99b4-7eee-414e-a088-4a416c09a10f",
   "metadata": {},
   "outputs": [
    {
     "ename": "TypeError",
     "evalue": "'tuple' object does not support item assignment",
     "output_type": "error",
     "traceback": [
      "\u001b[31m---------------------------------------------------------------------------\u001b[39m",
      "\u001b[31mTypeError\u001b[39m                                 Traceback (most recent call last)",
      "\u001b[36mCell\u001b[39m\u001b[36m \u001b[39m\u001b[32mIn[68]\u001b[39m\u001b[32m, line 1\u001b[39m\n\u001b[32m----> \u001b[39m\u001b[32m1\u001b[39m \u001b[43mvegetables\u001b[49m\u001b[43m[\u001b[49m\u001b[32;43m1\u001b[39;49m\u001b[43m]\u001b[49m = \u001b[33m'\u001b[39m\u001b[33mBrinjal\u001b[39m\u001b[33m'\u001b[39m\n",
      "\u001b[31mTypeError\u001b[39m: 'tuple' object does not support item assignment"
     ]
    }
   ],
   "source": [
    "vegetables[1] = 'Brinjal'"
   ]
  },
  {
   "cell_type": "code",
   "execution_count": 69,
   "id": "95950fd8-bd4e-4141-b549-428b2b2736f3",
   "metadata": {},
   "outputs": [
    {
     "data": {
      "text/plain": [
       "3"
      ]
     },
     "execution_count": 69,
     "metadata": {},
     "output_type": "execute_result"
    }
   ],
   "source": [
    "vegetables.index('Onion')"
   ]
  },
  {
   "cell_type": "code",
   "execution_count": 70,
   "id": "72010bcf-b4eb-4dbe-89f0-0ca95eec3f0a",
   "metadata": {},
   "outputs": [
    {
     "ename": "AttributeError",
     "evalue": "'tuple' object has no attribute 'remove'",
     "output_type": "error",
     "traceback": [
      "\u001b[31m---------------------------------------------------------------------------\u001b[39m",
      "\u001b[31mAttributeError\u001b[39m                            Traceback (most recent call last)",
      "\u001b[36mCell\u001b[39m\u001b[36m \u001b[39m\u001b[32mIn[70]\u001b[39m\u001b[32m, line 1\u001b[39m\n\u001b[32m----> \u001b[39m\u001b[32m1\u001b[39m \u001b[43mvegetables\u001b[49m\u001b[43m.\u001b[49m\u001b[43mremove\u001b[49m(\u001b[33m'\u001b[39m\u001b[33mOnion\u001b[39m\u001b[33m'\u001b[39m)\n",
      "\u001b[31mAttributeError\u001b[39m: 'tuple' object has no attribute 'remove'"
     ]
    }
   ],
   "source": [
    "vegetables.remove('Onion')"
   ]
  },
  {
   "cell_type": "code",
   "execution_count": 71,
   "id": "cfe481a1-4c6b-45dd-b8e3-479072d1614b",
   "metadata": {},
   "outputs": [
    {
     "name": "stdout",
     "output_type": "stream",
     "text": [
      "('Potato', 'Radish', 'Cucumber', 'Onion', 'Garlic', 'Cabbage', 'Turnip')\n"
     ]
    }
   ],
   "source": [
    "# Right Way\n",
    "veg_list = list(vegetables) \n",
    "veg_list[1] = 'Radish' \n",
    "veg_list.append('Turnip') \n",
    "veg_list[2] = 'Cucumber' \n",
    "vegetables = tuple(veg_list)\n",
    "print(vegetables)"
   ]
  },
  {
   "cell_type": "code",
   "execution_count": null,
   "id": "10b851d8-d3f8-46d5-87e6-4c4ab7e72429",
   "metadata": {},
   "outputs": [],
   "source": []
  }
 ],
 "metadata": {
  "kernelspec": {
   "display_name": "Python 3 (ipykernel)",
   "language": "python",
   "name": "python3"
  },
  "language_info": {
   "codemirror_mode": {
    "name": "ipython",
    "version": 3
   },
   "file_extension": ".py",
   "mimetype": "text/x-python",
   "name": "python",
   "nbconvert_exporter": "python",
   "pygments_lexer": "ipython3",
   "version": "3.13.7"
  }
 },
 "nbformat": 4,
 "nbformat_minor": 5
}
