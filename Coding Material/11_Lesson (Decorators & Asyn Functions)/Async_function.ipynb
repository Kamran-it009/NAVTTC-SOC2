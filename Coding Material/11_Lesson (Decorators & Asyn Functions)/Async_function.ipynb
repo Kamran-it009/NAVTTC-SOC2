{
 "cells": [
  {
   "cell_type": "code",
   "execution_count": 5,
   "metadata": {},
   "outputs": [
    {
     "name": "stdout",
     "output_type": "stream",
     "text": [
      "Boiling water...\n",
      "Water is ready!\n",
      "Toasting bread...\n",
      "Bread is toasted!\n",
      "Breakfast is ready!\n",
      "Total time taken: 5.00 seconds\n"
     ]
    }
   ],
   "source": [
    "import time\n",
    "\n",
    "def boil_water():\n",
    "    print(\"Boiling water...\")\n",
    "    time.sleep(3)\n",
    "    print(\"Water is ready!\")\n",
    "\n",
    "def toast_bread():\n",
    "    print(\"Toasting bread...\")\n",
    "    time.sleep(2)\n",
    "    print(\"Bread is toasted!\")\n",
    "\n",
    "def make_breakfast():\n",
    "    boil_water()\n",
    "    toast_bread()\n",
    "    print(\"Breakfast is ready!\")\n",
    "\n",
    "start_time = time.time()\n",
    "make_breakfast()\n",
    "end_time = time.time()\n",
    "\n",
    "print(f\"Total time taken: {end_time - start_time:.2f} seconds\")\n"
   ]
  },
  {
   "cell_type": "code",
   "execution_count": 6,
   "metadata": {},
   "outputs": [
    {
     "name": "stdout",
     "output_type": "stream",
     "text": [
      "Boiling water... (3 seconds)\n",
      "Toasting bread...(2 seconds)\n",
      "Bread is toasted!\n",
      "Water is ready!\n",
      "Breakfast is ready!\n",
      "Total time taken: 3.01 seconds\n"
     ]
    }
   ],
   "source": [
    "import asyncio\n",
    "\n",
    "\n",
    "async def boil_water():\n",
    "    print(\"Boiling water... (3 seconds)\")\n",
    "    await asyncio.sleep(3)\n",
    "    print(\"Water is ready!\")\n",
    "\n",
    "async def toast_bread():\n",
    "    print(\"Toasting bread...(2 seconds)\")\n",
    "    await asyncio.sleep(2)\n",
    "    print(\"Bread is toasted!\")\n",
    "\n",
    "start_time = time.time()  # Start the timer\n",
    "async def make_breakfast():\n",
    "    # Run both tasks at the same time\n",
    "    await asyncio.gather(\n",
    "        boil_water(),\n",
    "        toast_bread()\n",
    "    )\n",
    "    print(\"Breakfast is ready!\")\n",
    "\n",
    "start_time = time.time()  # Start the timer\n",
    "await make_breakfast()\n",
    "end_time = time.time()  # End the timer\n",
    "print(f\"Total time taken: {end_time - start_time:.2f} seconds\")\n",
    "\n",
    "\n",
    "\n",
    "\n"
   ]
  }
 ],
 "metadata": {
  "kernelspec": {
   "display_name": "NAVTTC",
   "language": "python",
   "name": "python3"
  },
  "language_info": {
   "codemirror_mode": {
    "name": "ipython",
    "version": 3
   },
   "file_extension": ".py",
   "mimetype": "text/x-python",
   "name": "python",
   "nbconvert_exporter": "python",
   "pygments_lexer": "ipython3",
   "version": "3.11.11"
  }
 },
 "nbformat": 4,
 "nbformat_minor": 2
}
