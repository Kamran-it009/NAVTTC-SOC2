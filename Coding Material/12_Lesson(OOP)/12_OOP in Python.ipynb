{
 "cells": [
  {
   "cell_type": "markdown",
   "id": "b1a5003a",
   "metadata": {},
   "source": [
    "# Object Oriented Programing"
   ]
  },
  {
   "cell_type": "markdown",
   "id": "c67f65f2",
   "metadata": {},
   "source": [
    "* OOP stand for Object oriented programming\n",
    "* OOP Programming paradigm.\n",
    "* Objects Contain data and code.\n",
    "* Data Attributes of objects.\n",
    "* Code Methods to manipulate data."
   ]
  },
  {
   "cell_type": "markdown",
   "id": "d1ac7584",
   "metadata": {},
   "source": [
    "### 1. Example of Class and Object"
   ]
  },
  {
   "cell_type": "code",
   "execution_count": 10,
   "id": "594dca0d",
   "metadata": {},
   "outputs": [
    {
     "name": "stdout",
     "output_type": "stream",
     "text": [
      "<__main__.BigObject object at 0x000001FE33BC2450>\n"
     ]
    }
   ],
   "source": [
    "class BigObject():  # class\n",
    "    pass\n",
    "\n",
    "obj1 = BigObject() # instanciate \n",
    "\n",
    "print(obj1)"
   ]
  },
  {
   "cell_type": "markdown",
   "id": "a2f23ee6",
   "metadata": {},
   "source": [
    "### 2. Attributes and Methods"
   ]
  },
  {
   "cell_type": "code",
   "execution_count": 11,
   "id": "4689d395",
   "metadata": {},
   "outputs": [],
   "source": [
    "class Person(): # \n",
    "    name = 'John' # class attributes\n",
    "    age = 25 # class attributes\n",
    "    \n",
    "    def walk(self): # Method 1\n",
    "        print('The person is walking') \n",
    "        \n",
    "    def jump(self):  # Method 2\n",
    "        print('The person is jumping')\n",
    "    \n",
    "    def drive(self):  # Method 3\n",
    "        print('Person is driving')"
   ]
  },
  {
   "cell_type": "code",
   "execution_count": 12,
   "id": "746e53c7",
   "metadata": {},
   "outputs": [
    {
     "name": "stdout",
     "output_type": "stream",
     "text": [
      "<class '__main__.Person'>\n",
      "<__main__.Person object at 0x000001FE33BB0D10>\n"
     ]
    }
   ],
   "source": [
    "person1 = Person() \n",
    "print(type(person1))\n",
    "print(person1)"
   ]
  },
  {
   "cell_type": "code",
   "execution_count": 13,
   "id": "e5527905",
   "metadata": {},
   "outputs": [
    {
     "name": "stdout",
     "output_type": "stream",
     "text": [
      "John\n",
      "25\n",
      "---------------------\n",
      "The person is walking\n",
      "Person is driving\n"
     ]
    }
   ],
   "source": [
    "# Accessing attributes\n",
    "print(person1.name) \n",
    "print(person1.age)\n",
    "print('---------------------')\n",
    "\n",
    "# Calling class methods\n",
    "person1.walk()\n",
    "person1.drive()"
   ]
  },
  {
   "cell_type": "markdown",
   "id": "32c17b0b",
   "metadata": {},
   "source": [
    "### 3. Constructor Function"
   ]
  },
  {
   "cell_type": "code",
   "execution_count": 14,
   "id": "4590f015",
   "metadata": {},
   "outputs": [],
   "source": [
    "class Person():\n",
    "    def __init__(self, name, age): # constructor method\n",
    "        self.name = name # object attriburtes\n",
    "        self.age = age # object attriburtes\n",
    "    \n",
    "    def walk(self): # object methods\n",
    "        print('The person is walking')"
   ]
  },
  {
   "cell_type": "code",
   "execution_count": 15,
   "id": "b914ec4a",
   "metadata": {},
   "outputs": [],
   "source": [
    "p1 = Person('David', 30)"
   ]
  },
  {
   "cell_type": "code",
   "execution_count": 16,
   "id": "20484477",
   "metadata": {},
   "outputs": [
    {
     "name": "stdout",
     "output_type": "stream",
     "text": [
      "David\n",
      "The person is walking\n"
     ]
    }
   ],
   "source": [
    "print(p1.name)\n",
    "p1.walk()"
   ]
  },
  {
   "cell_type": "markdown",
   "id": "c45c4e40",
   "metadata": {},
   "source": [
    "### 4. Destructor"
   ]
  },
  {
   "cell_type": "code",
   "execution_count": 1,
   "id": "c7719b59",
   "metadata": {},
   "outputs": [],
   "source": [
    "class Person:\n",
    "    # Constructor\n",
    "    def __init__(self, name):\n",
    "        self.name = name\n",
    "        print(f\"Constructor: Hello, my name is {self.name}\")\n",
    "\n",
    "    # Destructor\n",
    "    def __del__(self):\n",
    "        print(f\"Destructor: Goodbye from {self.name}\")"
   ]
  },
  {
   "cell_type": "code",
   "execution_count": 2,
   "id": "8d29205c",
   "metadata": {},
   "outputs": [
    {
     "name": "stdout",
     "output_type": "stream",
     "text": [
      "Constructor: Hello, my name is David\n"
     ]
    }
   ],
   "source": [
    "# Constructor is called when the object is created\n",
    "p1 = Person('David')"
   ]
  },
  {
   "cell_type": "code",
   "execution_count": 3,
   "id": "152e6164",
   "metadata": {},
   "outputs": [
    {
     "name": "stdout",
     "output_type": "stream",
     "text": [
      "Destructor: Goodbye from David\n"
     ]
    }
   ],
   "source": [
    "del p1 # Destructor is called when the object is deleted"
   ]
  },
  {
   "cell_type": "markdown",
   "id": "41954131",
   "metadata": {},
   "source": [
    "### ✅ Main Purpose: Resource Cleanup\n",
    "When an object is destroyed, a destructor lets you:\n",
    "\n",
    "- 🔓 Release external resources (like files, network connections, or database connections)\n",
    "- 🧹 Free up memory or do final cleanup before the object is removed from memory\n",
    "- 📦 Close open files or streams\n",
    "- 🔐 Log messages or actions when an object is deleted"
   ]
  },
  {
   "cell_type": "markdown",
   "id": "5c2e8ec5",
   "metadata": {},
   "source": [
    "### 4. Inheritance"
   ]
  },
  {
   "cell_type": "code",
   "execution_count": 42,
   "id": "02d84771",
   "metadata": {},
   "outputs": [],
   "source": [
    "class Person():\n",
    "    def __init__(self, name, age, gender):\n",
    "        self.name = name\n",
    "        self.age = age\n",
    "        self.gender = gender\n",
    "        \n",
    "    def walk(self):\n",
    "        print('He is Walking...')\n",
    "\n",
    "class Student(Person):\n",
    "    roll_no = 1231\n",
    "    def register_course(self):\n",
    "        print('Computer Science course is registered')"
   ]
  },
  {
   "cell_type": "code",
   "execution_count": 43,
   "id": "63e0f470-b23b-413c-a138-e264c8cb6814",
   "metadata": {},
   "outputs": [],
   "source": [
    "student1 = Student('Kamran', 30, 'male')"
   ]
  },
  {
   "cell_type": "code",
   "execution_count": 44,
   "id": "67ceadfd-6a0e-4662-8b3f-e0df97fe4a10",
   "metadata": {},
   "outputs": [
    {
     "name": "stdout",
     "output_type": "stream",
     "text": [
      "The age of Student: 30\n",
      "The name of Student: Kamran\n",
      "He is Walking...\n",
      "None\n",
      "---------------------------\n",
      "1231\n"
     ]
    }
   ],
   "source": [
    "print('The age of Student:', student1.age) # inheritence\n",
    "print('The name of Student:',student1.name)\n",
    "\n",
    "print(student1.walk()) # inheritence\n",
    "print('---------------------------')\n",
    "print(student1.roll_no)"
   ]
  },
  {
   "cell_type": "markdown",
   "id": "aac003d2-e8f6-4f06-8e2f-258c1b844a91",
   "metadata": {},
   "source": [
    "#### 1. Multilevel Inheritance"
   ]
  },
  {
   "cell_type": "code",
   "execution_count": 1,
   "id": "b3a52ae2-8c86-43f0-b154-68f83300d8b9",
   "metadata": {},
   "outputs": [],
   "source": [
    "# Base class\n",
    "class Animal:\n",
    "    def speak(self):\n",
    "        print(\"Animal speaks\")\n",
    "\n",
    "# Intermediate class (inherits from Animal)\n",
    "class Dog(Animal):\n",
    "    def bark(self):\n",
    "        print(\"Dog barks\")\n",
    "\n",
    "# Derived class (inherits from Dog)\n",
    "class Puppy(Dog):\n",
    "    def weep(self):\n",
    "        print(\"Puppy weeps\")"
   ]
  },
  {
   "cell_type": "code",
   "execution_count": 2,
   "id": "45ec6cf5-1faa-4594-962d-f3ec5f6fd9fe",
   "metadata": {},
   "outputs": [
    {
     "name": "stdout",
     "output_type": "stream",
     "text": [
      "Animal speaks\n",
      "Dog barks\n",
      "Puppy weeps\n"
     ]
    }
   ],
   "source": [
    "# Creating object\n",
    "p = Puppy()\n",
    "p.speak()  # From Animal\n",
    "p.bark()   # From Dog\n",
    "p.weep()   # From Puppy"
   ]
  },
  {
   "cell_type": "markdown",
   "id": "baa3be38-450c-434d-866b-a2c4ca6e5c8c",
   "metadata": {},
   "source": [
    "#### 2. Hierarchical Inheritance"
   ]
  },
  {
   "cell_type": "code",
   "execution_count": 3,
   "id": "1f9971dd-1f40-4b94-a7e1-871f5862bc09",
   "metadata": {},
   "outputs": [],
   "source": [
    "# Base class\n",
    "class Animal:\n",
    "    def speak(self):\n",
    "        print(\"Animal speaks\")\n",
    "\n",
    "# Derived class 1\n",
    "class Dog(Animal):\n",
    "    def bark(self):\n",
    "        print(\"Dog barks\")\n",
    "\n",
    "# Derived class 2\n",
    "class Cat(Animal):\n",
    "    def meow(self):\n",
    "        print(\"Cat meows\")"
   ]
  },
  {
   "cell_type": "code",
   "execution_count": 4,
   "id": "3e86cfb6-3859-4a73-b4aa-db9512377d48",
   "metadata": {},
   "outputs": [
    {
     "name": "stdout",
     "output_type": "stream",
     "text": [
      "Animal speaks\n",
      "Dog barks\n"
     ]
    }
   ],
   "source": [
    "# Creating objects\n",
    "d = Dog()\n",
    "d.speak()\n",
    "d.bark()"
   ]
  },
  {
   "cell_type": "code",
   "execution_count": 5,
   "id": "73b83052-a5bf-4d01-98ca-1ae17597b84f",
   "metadata": {},
   "outputs": [
    {
     "name": "stdout",
     "output_type": "stream",
     "text": [
      "Animal speaks\n",
      "Cat meows\n"
     ]
    }
   ],
   "source": [
    "# Creating objects\n",
    "c = Cat()\n",
    "c.speak()\n",
    "c.meow()"
   ]
  },
  {
   "cell_type": "markdown",
   "id": "6614f736-bd1b-4bca-9a0a-2a5cb57d6336",
   "metadata": {},
   "source": [
    "#### 3. Multiple Inheritance"
   ]
  },
  {
   "cell_type": "code",
   "execution_count": 6,
   "id": "d1cd7bac-8759-47ae-b15c-32dfcb166e16",
   "metadata": {},
   "outputs": [
    {
     "name": "stdout",
     "output_type": "stream",
     "text": [
      "Father: Gardening\n",
      "Child: Painting\n"
     ]
    }
   ],
   "source": [
    "# First parent class\n",
    "class Father:\n",
    "    def skills(self):\n",
    "        print(\"Father: Gardening\")\n",
    "\n",
    "# Second parent class\n",
    "class Mother:\n",
    "    def skills(self):\n",
    "        print(\"Mother: Cooking\")\n",
    "\n",
    "# Child class inheriting from both\n",
    "class Child(Father, Mother):\n",
    "    def own_skill(self):\n",
    "        print(\"Child: Painting\")"
   ]
  },
  {
   "cell_type": "code",
   "execution_count": 7,
   "id": "80959a43-7b17-43d8-8662-8ded711848a5",
   "metadata": {},
   "outputs": [
    {
     "name": "stdout",
     "output_type": "stream",
     "text": [
      "Father: Gardening\n",
      "Child: Painting\n"
     ]
    }
   ],
   "source": [
    "# Creating object\n",
    "c = Child()\n",
    "c.skills()       # Shows Father’s skill (Python follows left-to-right order)\n",
    "c.own_skill()    # Child's own method"
   ]
  },
  {
   "cell_type": "markdown",
   "id": "d9cda0f2-7042-4126-83c7-6e352773f2b5",
   "metadata": {},
   "source": [
    "#### 4. Method Overriding "
   ]
  },
  {
   "cell_type": "code",
   "execution_count": 32,
   "id": "d92a9fa3-3548-42b2-ab75-0cd5d1dbfa10",
   "metadata": {},
   "outputs": [
    {
     "name": "stdout",
     "output_type": "stream",
     "text": [
      "Animal makes a sound\n",
      "Dog barks\n"
     ]
    }
   ],
   "source": [
    "class Animal:\n",
    "    def sound(self):\n",
    "        print(\"Animal makes a sound\")\n",
    "\n",
    "class Dog(Animal):\n",
    "    def sound(self):  # Overriding the parent method\n",
    "        print(\"Dog barks\")\n",
    "\n",
    "# Create objects\n",
    "a = Animal()\n",
    "d = Dog()\n",
    "\n",
    "a.sound()  # Output: Animal makes a sound\n",
    "d.sound()  # Output: Dog barks"
   ]
  },
  {
   "cell_type": "markdown",
   "id": "4c2277a5-4208-47e1-a484-222547b8f098",
   "metadata": {},
   "source": [
    "#### 4. Method Overloading"
   ]
  },
  {
   "cell_type": "code",
   "execution_count": 33,
   "id": "4f772207-3959-46c8-a750-932c7e53af93",
   "metadata": {},
   "outputs": [
    {
     "name": "stdout",
     "output_type": "stream",
     "text": [
      "Sum: 5\n",
      "Sum: 15\n",
      "Sum: 30\n"
     ]
    }
   ],
   "source": [
    "class Calculator:\n",
    "    def add(self, a, b=0, c=0):\n",
    "        print(\"Sum:\", a + b + c)\n",
    "\n",
    "calc = Calculator()\n",
    "calc.add(5)        # Output: Sum: 5\n",
    "calc.add(5, 10)    # Output: Sum: 15\n",
    "calc.add(5, 10, 15)  # Output: Sum: 30\n"
   ]
  },
  {
   "cell_type": "markdown",
   "id": "e4417db0",
   "metadata": {},
   "source": [
    "### 6. Encapsulation"
   ]
  },
  {
   "cell_type": "code",
   "execution_count": 34,
   "id": "34286664-d0eb-4fbc-9b18-3a91a0a5c24d",
   "metadata": {},
   "outputs": [],
   "source": [
    "class Person():\n",
    "    def __init__(self, name, age, martial_status): # constructor method\n",
    "        self.name = name # public attribute\n",
    "        self._age = age # protected attribute\n",
    "        self.__martial_status = martial_status # private attribute\n",
    "    \n",
    "    def walk(self): # class method\n",
    "        print('The person is walking')"
   ]
  },
  {
   "cell_type": "code",
   "execution_count": 35,
   "id": "24908a1a-284c-4a05-8d7c-3e88ac818fd4",
   "metadata": {},
   "outputs": [
    {
     "name": "stdout",
     "output_type": "stream",
     "text": [
      "Kamran\n",
      "30\n"
     ]
    },
    {
     "ename": "AttributeError",
     "evalue": "'Person' object has no attribute '__martial_status'",
     "output_type": "error",
     "traceback": [
      "\u001b[1;31m---------------------------------------------------------------------------\u001b[0m",
      "\u001b[1;31mAttributeError\u001b[0m                            Traceback (most recent call last)",
      "Cell \u001b[1;32mIn[35], line 4\u001b[0m\n\u001b[0;32m      2\u001b[0m \u001b[38;5;28mprint\u001b[39m(p1\u001b[38;5;241m.\u001b[39mname)\n\u001b[0;32m      3\u001b[0m \u001b[38;5;28mprint\u001b[39m(p1\u001b[38;5;241m.\u001b[39m_age)\n\u001b[1;32m----> 4\u001b[0m \u001b[38;5;28mprint\u001b[39m(p1\u001b[38;5;241m.\u001b[39m__martial_status)\n",
      "\u001b[1;31mAttributeError\u001b[0m: 'Person' object has no attribute '__martial_status'"
     ]
    }
   ],
   "source": [
    "p1 = Person('Kamran', 30, False)\n",
    "print(p1.name)\n",
    "print(p1._age)\n",
    "print(p1.__martial_status)"
   ]
  },
  {
   "cell_type": "markdown",
   "id": "2a10387a-88b4-4dc0-a823-b237d04b192b",
   "metadata": {},
   "source": [
    "#### Getter and Setter Methods"
   ]
  },
  {
   "cell_type": "code",
   "execution_count": 36,
   "id": "30c7e1c7-5c3a-4127-ac46-b36262d94e6d",
   "metadata": {},
   "outputs": [],
   "source": [
    "class Person():\n",
    "    def __init__(self, name, age, martial_status): # constructor method\n",
    "        self.name = name # public attribute\n",
    "        self._age = age # protected attribute\n",
    "        self.__status = martial_status # private attribute\n",
    "    \n",
    "    def walk(self): # class method\n",
    "        print('The person is walking')\n",
    "\n",
    "    # Getter method\n",
    "    def get_status(self):\n",
    "        return self.__status\n",
    "\n",
    "    # Setter method\n",
    "    def set_status(self, new_value):\n",
    "        self.__status = new_value"
   ]
  },
  {
   "cell_type": "code",
   "execution_count": 37,
   "id": "8b266896-f85a-4a84-8bcb-ee043a870c4c",
   "metadata": {},
   "outputs": [
    {
     "name": "stdout",
     "output_type": "stream",
     "text": [
      "False\n"
     ]
    }
   ],
   "source": [
    "p1 = Person('Kamran', 30, False)\n",
    "print(p1.get_status())"
   ]
  },
  {
   "cell_type": "code",
   "execution_count": 38,
   "id": "86ceebbd-df2a-4ba1-afb5-db799b8af63e",
   "metadata": {},
   "outputs": [
    {
     "name": "stdout",
     "output_type": "stream",
     "text": [
      "True\n"
     ]
    }
   ],
   "source": [
    "p1.set_status(True)\n",
    "print(p1.get_status())"
   ]
  },
  {
   "cell_type": "markdown",
   "id": "00c351d7",
   "metadata": {},
   "source": [
    "### 7. Abstraction"
   ]
  },
  {
   "cell_type": "code",
   "execution_count": 39,
   "id": "e8675d5a",
   "metadata": {},
   "outputs": [],
   "source": [
    "from abc import ABC, abstractmethod\n",
    "\n",
    "# Abstract class\n",
    "class Animal(ABC):\n",
    "    \n",
    "    @abstractmethod\n",
    "    def sound(self):\n",
    "        pass  # Abstract method with no body\n",
    "\n",
    "# Derived class 1\n",
    "class Dog(Animal):\n",
    "    def sound(self):\n",
    "        print(\"Dog barks\")\n",
    "\n",
    "# Derived class 2\n",
    "class Cat(Animal):\n",
    "    def sound(self):\n",
    "        print(\"Cat meows\")"
   ]
  },
  {
   "cell_type": "code",
   "execution_count": 40,
   "id": "08242371-8427-4d80-8a4f-17d752890d43",
   "metadata": {},
   "outputs": [
    {
     "name": "stdout",
     "output_type": "stream",
     "text": [
      "Dog barks\n",
      "Cat meows\n"
     ]
    }
   ],
   "source": [
    "# Create objects\n",
    "d = Dog()\n",
    "c = Cat()\n",
    "\n",
    "d.sound()  # Output: Dog barks\n",
    "c.sound()  # Output: Cat meows"
   ]
  },
  {
   "cell_type": "markdown",
   "id": "cc90711c",
   "metadata": {},
   "source": [
    "### 8. Polymorphoism"
   ]
  },
  {
   "cell_type": "code",
   "execution_count": 45,
   "id": "a959e42f",
   "metadata": {},
   "outputs": [],
   "source": [
    "class Teacher():\n",
    "    def register_course(self):\n",
    "        print('Computer Science course is taught by teacher')\n",
    "\n",
    "class Student():\n",
    "    def register_course(self):\n",
    "        print('Computer Science course is registered')"
   ]
  },
  {
   "cell_type": "code",
   "execution_count": 46,
   "id": "1214019d",
   "metadata": {},
   "outputs": [
    {
     "name": "stdout",
     "output_type": "stream",
     "text": [
      "Computer Science course is taught by teacher\n",
      "Computer Science course is registered\n"
     ]
    }
   ],
   "source": [
    "teacher1 = Teacher()\n",
    "student1 = Student()\n",
    "\n",
    "teacher1.register_course()\n",
    "student1.register_course()"
   ]
  },
  {
   "cell_type": "markdown",
   "id": "f4ba60cc",
   "metadata": {},
   "source": [
    "### 9. Static Methods"
   ]
  },
  {
   "cell_type": "code",
   "execution_count": 61,
   "id": "39c014ad",
   "metadata": {},
   "outputs": [],
   "source": [
    "# Class definition\n",
    "class PlayerCharacter:\n",
    "    def __init__(self, name, age):\n",
    "            self.name = name\n",
    "            self.age = age\n",
    "\n",
    "    def shout(self):\n",
    "        print(f'my name is {self.name}')\n",
    "\n",
    "    # staticmethod     \n",
    "    @staticmethod\n",
    "    def jump():\n",
    "        print('Player is jumping')"
   ]
  },
  {
   "cell_type": "code",
   "execution_count": 62,
   "id": "a04cd9a4-a751-4166-a97a-88a723176399",
   "metadata": {},
   "outputs": [
    {
     "name": "stdout",
     "output_type": "stream",
     "text": [
      "my name is Tom\n"
     ]
    }
   ],
   "source": [
    "# Create object\n",
    "player1 = PlayerCharacter('Tom', 20)\n",
    "player1.shout()"
   ]
  },
  {
   "cell_type": "code",
   "execution_count": 63,
   "id": "14b55fcd-f5d6-4502-b784-6d8bd2fedf6c",
   "metadata": {},
   "outputs": [
    {
     "name": "stdout",
     "output_type": "stream",
     "text": [
      "Player is jumping\n"
     ]
    }
   ],
   "source": [
    "player1.jump()"
   ]
  },
  {
   "cell_type": "markdown",
   "id": "a31b77e4",
   "metadata": {},
   "source": [
    "### 9. Dunder Methods / Magic Methods"
   ]
  },
  {
   "cell_type": "code",
   "execution_count": 83,
   "id": "a1930c0e-0dd4-46c9-9a75-be0664702161",
   "metadata": {},
   "outputs": [],
   "source": [
    "class Book:\n",
    "    def __init__(self, title, author):\n",
    "        self.title = title\n",
    "        self.author = author\n",
    "\n",
    "    def __str__(self):\n",
    "        return f\"Book: {self.title}\"\n",
    "\n",
    "    def __call__(self):\n",
    "        print(f\"Hello, {self.author}!\")\n",
    "\n",
    "    def __repr__(self):\n",
    "        return f\"Info({self.title}, {self.author})\""
   ]
  },
  {
   "cell_type": "code",
   "execution_count": 88,
   "id": "c6a85184-d4ab-4f88-a562-d36566bc8cf7",
   "metadata": {},
   "outputs": [
    {
     "name": "stdout",
     "output_type": "stream",
     "text": [
      "Book: Python Basics\n"
     ]
    }
   ],
   "source": [
    "b = Book(\"Python Basics\", 'Henry')\n",
    "print(b)  # __str__"
   ]
  },
  {
   "cell_type": "code",
   "execution_count": 89,
   "id": "de519fa6-3b4d-4034-8660-1f926e0ab78b",
   "metadata": {},
   "outputs": [
    {
     "name": "stdout",
     "output_type": "stream",
     "text": [
      "Hello, Henry!\n"
     ]
    }
   ],
   "source": [
    "b()"
   ]
  },
  {
   "cell_type": "code",
   "execution_count": 90,
   "id": "4c80111e-17a6-4b4c-9006-568a456f7709",
   "metadata": {},
   "outputs": [
    {
     "name": "stdout",
     "output_type": "stream",
     "text": [
      "[Info(Python Basics, Henry)]\n"
     ]
    }
   ],
   "source": [
    "print([b]) # __repr__"
   ]
  },
  {
   "cell_type": "markdown",
   "id": "d6b0b5f8",
   "metadata": {},
   "source": [
    "### Assignment:\n",
    "1. What is the introspection? and describe the purpose of super keyword.\n",
    "2. What is Multiple Inheritence? Describe the purpose of Multi Resolution Order."
   ]
  }
 ],
 "metadata": {
  "kernelspec": {
   "display_name": "Python 3 (ipykernel)",
   "language": "python",
   "name": "python3"
  },
  "language_info": {
   "codemirror_mode": {
    "name": "ipython",
    "version": 3
   },
   "file_extension": ".py",
   "mimetype": "text/x-python",
   "name": "python",
   "nbconvert_exporter": "python",
   "pygments_lexer": "ipython3",
   "version": "3.12.4"
  }
 },
 "nbformat": 4,
 "nbformat_minor": 5
}
