{
 "cells": [
  {
   "cell_type": "markdown",
   "id": "0ea9b0e7",
   "metadata": {},
   "source": [
    "### 1. Numpy Installation\n",
    "- ##### pip install numpy==1.26.4"
   ]
  },
  {
   "cell_type": "code",
   "execution_count": 3,
   "id": "0d353e12",
   "metadata": {},
   "outputs": [
    {
     "name": "stdout",
     "output_type": "stream",
     "text": [
      "1.26.4\n"
     ]
    }
   ],
   "source": [
    "# Checking Numpy version\n",
    "import numpy as np\n",
    "print(np.__version__)"
   ]
  },
  {
   "cell_type": "markdown",
   "id": "3fe2d2fd-dded-46e7-942a-6d30bf546968",
   "metadata": {},
   "source": [
    "#### Array from List"
   ]
  },
  {
   "cell_type": "code",
   "execution_count": 6,
   "id": "d7706aa2",
   "metadata": {},
   "outputs": [
    {
     "name": "stdout",
     "output_type": "stream",
     "text": [
      "List: ['apple', 'mango', 'banana']\n",
      "\n",
      "Array: ['apple' 'mango' 'banana']\n"
     ]
    }
   ],
   "source": [
    "fruits = ['apple', 'mango', 'banana']\n",
    "print('List:',fruits)\n",
    "arr = np.array(fruits)\n",
    "print('\\nArray:', arr)"
   ]
  },
  {
   "cell_type": "code",
   "execution_count": 7,
   "id": "baace17d",
   "metadata": {},
   "outputs": [
    {
     "name": "stdout",
     "output_type": "stream",
     "text": [
      "Type of Array: <class 'numpy.ndarray'>\n"
     ]
    }
   ],
   "source": [
    "print('Type of Array:', type(arr))"
   ]
  },
  {
   "cell_type": "markdown",
   "id": "9e9c0d9e",
   "metadata": {},
   "source": [
    "#### Array from Tuple"
   ]
  },
  {
   "cell_type": "code",
   "execution_count": 8,
   "id": "b63d51c5",
   "metadata": {},
   "outputs": [
    {
     "name": "stdout",
     "output_type": "stream",
     "text": [
      "Tuple: ('apple', 'mango', 'banana')\n",
      "\n",
      "Array: ['apple' 'mango' 'banana']\n"
     ]
    }
   ],
   "source": [
    "fruits = ('apple', 'mango', 'banana')\n",
    "print('Tuple:', fruits)\n",
    "arr = np.array(fruits)\n",
    "print('\\nArray:', arr)"
   ]
  },
  {
   "cell_type": "markdown",
   "id": "93434591",
   "metadata": {},
   "source": [
    "#### Array from random module"
   ]
  },
  {
   "cell_type": "code",
   "execution_count": 9,
   "id": "68d5717b",
   "metadata": {},
   "outputs": [
    {
     "name": "stdout",
     "output_type": "stream",
     "text": [
      "\n",
      "Random array:\n",
      " [[0.043867   0.78928954]\n",
      " [0.71985349 0.75439875]]\n"
     ]
    }
   ],
   "source": [
    "arr = np.random.rand(2, 2)\n",
    "print('\\nRandom array:\\n', arr)"
   ]
  },
  {
   "cell_type": "code",
   "execution_count": 10,
   "id": "3a3fd7b8",
   "metadata": {},
   "outputs": [
    {
     "name": "stdout",
     "output_type": "stream",
     "text": [
      "\n",
      "Random integers:\n",
      " [[ 8  5  8]\n",
      " [10 13  9]]\n"
     ]
    }
   ],
   "source": [
    "arr = np.random.randint(5, 15, size=(2, 3))  # From 5 to 14\n",
    "print('\\nRandom integers:\\n', arr)"
   ]
  },
  {
   "cell_type": "markdown",
   "id": "d4cf4b82",
   "metadata": {},
   "source": [
    "### 2. Difference between Array and List"
   ]
  },
  {
   "cell_type": "code",
   "execution_count": 11,
   "id": "2052a1b1",
   "metadata": {},
   "outputs": [
    {
     "name": "stdout",
     "output_type": "stream",
     "text": [
      "[2, 'apple', 3.0]\n"
     ]
    }
   ],
   "source": [
    "fruits = [2, 'apple', 3.0]\n",
    "print(fruits)"
   ]
  },
  {
   "cell_type": "code",
   "execution_count": 12,
   "id": "df721517",
   "metadata": {},
   "outputs": [
    {
     "name": "stdout",
     "output_type": "stream",
     "text": [
      "['2' 'apple' '3.0']\n",
      "<U32\n"
     ]
    }
   ],
   "source": [
    "arr2 = np.array([2, 'apple', 3.0])\n",
    "print(arr2)\n",
    "print(arr2.dtype)"
   ]
  },
  {
   "cell_type": "markdown",
   "id": "48641ee8",
   "metadata": {},
   "source": [
    "##### Array cannot store mixed type data"
   ]
  },
  {
   "cell_type": "markdown",
   "id": "284be0ac",
   "metadata": {},
   "source": [
    "### 3. Default data types of array"
   ]
  },
  {
   "cell_type": "code",
   "execution_count": 13,
   "id": "cfb31468",
   "metadata": {},
   "outputs": [
    {
     "name": "stdout",
     "output_type": "stream",
     "text": [
      "[2 4 6]\n",
      "int32\n"
     ]
    }
   ],
   "source": [
    "arr3 = np.array([2, 4, 6])\n",
    "print(arr3)\n",
    "print(arr3.dtype)"
   ]
  },
  {
   "cell_type": "code",
   "execution_count": 14,
   "id": "06ce7903",
   "metadata": {},
   "outputs": [
    {
     "name": "stdout",
     "output_type": "stream",
     "text": [
      "[2. 4. 6.]\n",
      "float64\n"
     ]
    }
   ],
   "source": [
    "arr3 = np.array([2.0, 4.0, 6.0])\n",
    "print(arr3)\n",
    "print(arr3.dtype)"
   ]
  },
  {
   "cell_type": "markdown",
   "id": "df621a23",
   "metadata": {},
   "source": [
    "### 4. Dimension of Arrays"
   ]
  },
  {
   "cell_type": "markdown",
   "id": "b595fbc4",
   "metadata": {},
   "source": [
    "* ##### 0-D Arrays"
   ]
  },
  {
   "cell_type": "code",
   "execution_count": 15,
   "id": "f0ebfe4e",
   "metadata": {},
   "outputs": [
    {
     "name": "stdout",
     "output_type": "stream",
     "text": [
      "34\n",
      "Dimension: 0\n"
     ]
    }
   ],
   "source": [
    "arr1 = np.array(34)\n",
    "print(arr1)\n",
    "print('Dimension:', arr1.ndim)"
   ]
  },
  {
   "cell_type": "markdown",
   "id": "1a536e86",
   "metadata": {},
   "source": [
    "- #### 1-D Arrays"
   ]
  },
  {
   "cell_type": "code",
   "execution_count": 16,
   "id": "e487e0ea",
   "metadata": {},
   "outputs": [
    {
     "name": "stdout",
     "output_type": "stream",
     "text": [
      "[10 20 30 40]\n",
      "Dimension: 1\n"
     ]
    }
   ],
   "source": [
    "arr2 = np.array([10, 20, 30, 40])\n",
    "print(arr2)\n",
    "print('Dimension:', arr2.ndim)"
   ]
  },
  {
   "cell_type": "markdown",
   "id": "514ed8f6",
   "metadata": {},
   "source": [
    "- #### 2-D Arrays"
   ]
  },
  {
   "cell_type": "code",
   "execution_count": 17,
   "id": "72e7d8c2",
   "metadata": {},
   "outputs": [
    {
     "name": "stdout",
     "output_type": "stream",
     "text": [
      "[[1 2 3]\n",
      " [4 5 6]]\n",
      "Dimension: 2\n"
     ]
    }
   ],
   "source": [
    "arr3 = np.array([[1, 2, 3], [4, 5, 6]])\n",
    "print(arr3)\n",
    "print('Dimension:', arr3.ndim)"
   ]
  },
  {
   "cell_type": "markdown",
   "id": "6ae8f759",
   "metadata": {},
   "source": [
    "- #### 3-D Arrays"
   ]
  },
  {
   "cell_type": "code",
   "execution_count": 18,
   "id": "a4e5644c",
   "metadata": {},
   "outputs": [
    {
     "name": "stdout",
     "output_type": "stream",
     "text": [
      "[[[1 2 3]\n",
      "  [4 5 6]]\n",
      "\n",
      " [[1 2 3]\n",
      "  [4 5 6]]]\n",
      "Dimension: 3\n"
     ]
    }
   ],
   "source": [
    "arr4 = np.array([[[1, 2, 3], [4, 5, 6]], [[1, 2, 3], [4, 5, 6]]])\n",
    "print(arr4)\n",
    "print('Dimension:', arr4.ndim)"
   ]
  },
  {
   "cell_type": "markdown",
   "id": "a2870ded",
   "metadata": {},
   "source": [
    "### 4. Specifying data types of Array\n",
    "- ##### Integer Arrays"
   ]
  },
  {
   "cell_type": "code",
   "execution_count": 19,
   "id": "385161a0",
   "metadata": {},
   "outputs": [
    {
     "name": "stdout",
     "output_type": "stream",
     "text": [
      "[2 4 6]\n",
      "int8\n"
     ]
    }
   ],
   "source": [
    "arr3 = np.array([2.9, 4.0, 6.0], dtype = 'int8')\n",
    "print(arr3)\n",
    "print(arr3.dtype)"
   ]
  },
  {
   "cell_type": "code",
   "execution_count": 20,
   "id": "c5303e73",
   "metadata": {},
   "outputs": [
    {
     "name": "stdout",
     "output_type": "stream",
     "text": [
      "[-104   10   90]\n",
      "int8\n"
     ]
    },
    {
     "name": "stderr",
     "output_type": "stream",
     "text": [
      "C:\\Users\\kamra\\AppData\\Local\\Temp\\ipykernel_21908\\522668544.py:1: DeprecationWarning: NumPy will stop allowing conversion of out-of-bound Python integers to integer arrays.  The conversion of 152 to int8 will fail in the future.\n",
      "For the old behavior, usually:\n",
      "    np.array(value).astype(dtype)\n",
      "will give the desired result (the cast overflows).\n",
      "  arr3 = np.array([152, 10, 90], dtype = 'int8')\n"
     ]
    }
   ],
   "source": [
    "arr3 = np.array([152, 10, 90], dtype = 'int8')\n",
    "print(arr3)\n",
    "print(arr3.dtype)"
   ]
  },
  {
   "cell_type": "code",
   "execution_count": 21,
   "id": "fe00bf2b",
   "metadata": {},
   "outputs": [
    {
     "name": "stdout",
     "output_type": "stream",
     "text": [
      "[152  10  90]\n",
      "int16\n"
     ]
    }
   ],
   "source": [
    "arr3 = np.array([152, 10, 90], dtype = 'int16')\n",
    "print(arr3)\n",
    "print(arr3.dtype)"
   ]
  },
  {
   "cell_type": "markdown",
   "id": "1fcc446e",
   "metadata": {},
   "source": [
    "- ##### Floating Arrays"
   ]
  },
  {
   "cell_type": "code",
   "execution_count": 22,
   "id": "ae3960f8",
   "metadata": {},
   "outputs": [
    {
     "name": "stdout",
     "output_type": "stream",
     "text": [
      "[1.123 2.346 3.568]\n",
      "float16\n"
     ]
    }
   ],
   "source": [
    "arr = np.array([1.1234, 2.3456, 3.5678], dtype=np.float16)\n",
    "print(arr)\n",
    "print(arr.dtype)"
   ]
  },
  {
   "cell_type": "markdown",
   "id": "5e6551c6",
   "metadata": {},
   "source": [
    "- 📏 Range: ~±65,504\n",
    "- 🔬 Precision: ~3 decimal digits\n",
    "- 🧠 Good for saving memory but less accurate."
   ]
  },
  {
   "cell_type": "code",
   "execution_count": 23,
   "id": "6393573c",
   "metadata": {},
   "outputs": [
    {
     "name": "stdout",
     "output_type": "stream",
     "text": [
      "[1.123456 2.345678 3.567891]\n",
      "float32\n"
     ]
    }
   ],
   "source": [
    "arr = np.array([1.123456, 2.345678, 3.567891], dtype=np.float32)\n",
    "print(arr)\n",
    "print(arr.dtype)"
   ]
  },
  {
   "cell_type": "markdown",
   "id": "d8c13d71",
   "metadata": {},
   "source": [
    "- 📏 Range: ~±3.4 × 10^38\n",
    "- 🔬 Precision: ~6-7 decimal digits\n",
    "- ✅ Commonly used in ML and DL."
   ]
  },
  {
   "cell_type": "code",
   "execution_count": 24,
   "id": "77c7b1e2",
   "metadata": {},
   "outputs": [
    {
     "name": "stdout",
     "output_type": "stream",
     "text": [
      "[1.1234567890123 2.3456789012345 3.5678912345678]\n",
      "float64\n"
     ]
    }
   ],
   "source": [
    "np.set_printoptions(precision=17)  # show up to 17 digits\n",
    "arr = np.array([1.1234567890123, 2.3456789012345, 3.5678912345678], dtype=np.float64)\n",
    "print(arr)\n",
    "print(arr.dtype)"
   ]
  },
  {
   "cell_type": "markdown",
   "id": "f9443d4b",
   "metadata": {},
   "source": [
    "- 📏 Range: ~±1.8 × 10^308\n",
    "- 🔬 Precision: ~15-17 decimal digits\n",
    "- ✅ Best for numerical accuracy."
   ]
  },
  {
   "cell_type": "markdown",
   "id": "0dcc4f4b",
   "metadata": {},
   "source": [
    "### 5. Array Attributes"
   ]
  },
  {
   "cell_type": "code",
   "execution_count": 11,
   "id": "547363af",
   "metadata": {},
   "outputs": [
    {
     "name": "stdout",
     "output_type": "stream",
     "text": [
      "[[1 2 3]\n",
      " [4 5 6]]\n",
      "Shape: (2, 3)\n"
     ]
    }
   ],
   "source": [
    "# Shape of array\n",
    "arr3 = np.array([[1, 2, 3], [4, 5, 6]])\n",
    "print(arr3)\n",
    "print('Shape:', arr3.shape)"
   ]
  },
  {
   "cell_type": "code",
   "execution_count": 12,
   "id": "ddf04f2c",
   "metadata": {},
   "outputs": [
    {
     "name": "stdout",
     "output_type": "stream",
     "text": [
      "[[1 2 3]\n",
      " [4 5 6]]\n",
      "Size: 6\n"
     ]
    }
   ],
   "source": [
    "# size of array\n",
    "arr3 = np.array([[1, 2, 3], [4, 5, 6]])\n",
    "print(arr3)\n",
    "print('Size:', arr3.size)"
   ]
  },
  {
   "cell_type": "code",
   "execution_count": 13,
   "id": "748a04d5",
   "metadata": {},
   "outputs": [
    {
     "name": "stdout",
     "output_type": "stream",
     "text": [
      "[152  10  90]\n",
      "Itemsize: 2\n"
     ]
    }
   ],
   "source": [
    "# itemsize\n",
    "arr3 = np.array([152, 10, 90], dtype = 'int16')\n",
    "print(arr3)\n",
    "print('Itemsize:', arr3.itemsize)"
   ]
  },
  {
   "cell_type": "markdown",
   "id": "59686245",
   "metadata": {},
   "source": [
    "### 6. Array Methods"
   ]
  },
  {
   "cell_type": "code",
   "execution_count": 28,
   "id": "4bc78865",
   "metadata": {},
   "outputs": [
    {
     "name": "stdout",
     "output_type": "stream",
     "text": [
      "Original array: [1 2 3 4 5 6]\n",
      "Reshaped array:\n",
      " [[1 2 3]\n",
      " [4 5 6]]\n"
     ]
    }
   ],
   "source": [
    "arr = np.array([1, 2, 3, 4, 5, 6])\n",
    "reshaped = arr.reshape(2, 3)\n",
    "print('Original array:', arr)\n",
    "print('Reshaped array:\\n', reshaped)\n"
   ]
  },
  {
   "cell_type": "code",
   "execution_count": 30,
   "id": "e9c3eb78",
   "metadata": {},
   "outputs": [
    {
     "name": "stdout",
     "output_type": "stream",
     "text": [
      "Maximum number of array: 50\n"
     ]
    }
   ],
   "source": [
    "arr = np.array([10, 50, 30, 5])\n",
    "print('Maximum number of array:', arr.max())"
   ]
  },
  {
   "cell_type": "code",
   "execution_count": 31,
   "id": "84c14f3c",
   "metadata": {},
   "outputs": [
    {
     "name": "stdout",
     "output_type": "stream",
     "text": [
      "Minimum number of array: 5\n"
     ]
    }
   ],
   "source": [
    "arr = np.array([10, 50, 30, 5])\n",
    "print('Minimum number of array:', arr.min())"
   ]
  },
  {
   "cell_type": "code",
   "execution_count": null,
   "id": "fe2a340b",
   "metadata": {},
   "outputs": [
    {
     "name": "stdout",
     "output_type": "stream",
     "text": [
      "1\n",
      "3\n"
     ]
    }
   ],
   "source": [
    "arr = np.array([10, 50, 30, 5])\n",
    "print(arr.argmax())  # Gives the Index of maximum value\n",
    "print(arr.argmin())  # Gives the Index of minimum value"
   ]
  },
  {
   "cell_type": "code",
   "execution_count": 35,
   "id": "d465da1f",
   "metadata": {},
   "outputs": [
    {
     "name": "stdout",
     "output_type": "stream",
     "text": [
      "[[1 2 3]]\n",
      "(1, 3)\n"
     ]
    }
   ],
   "source": [
    "arr = np.array([1, 2, 3])\n",
    "expanded = np.expand_dims(arr, axis=0)  # Add row dimension\n",
    "print(expanded)\n",
    "print(expanded.shape)\n"
   ]
  },
  {
   "cell_type": "code",
   "execution_count": 36,
   "id": "5d8d89c8",
   "metadata": {},
   "outputs": [
    {
     "name": "stdout",
     "output_type": "stream",
     "text": [
      "[[1]\n",
      " [2]\n",
      " [3]]\n",
      "(3, 1)\n"
     ]
    }
   ],
   "source": [
    "expanded = np.expand_dims(arr, axis=1)  # Add column dimension\n",
    "print(expanded)\n",
    "print(expanded.shape)\n"
   ]
  },
  {
   "cell_type": "markdown",
   "id": "b53b62d3",
   "metadata": {},
   "source": [
    "### 7. Accessing elements"
   ]
  },
  {
   "cell_type": "code",
   "execution_count": 54,
   "id": "be18dc09",
   "metadata": {},
   "outputs": [
    {
     "name": "stdout",
     "output_type": "stream",
     "text": [
      "cherry\n",
      "mango\n",
      "['banana' 'cherry' 'mango']\n"
     ]
    }
   ],
   "source": [
    "arr3 = np.array(['apple', 'banana', 'cherry', 'mango', 'orange'])\n",
    "print(arr3[2])\n",
    "print(arr3[-2])\n",
    "print(arr3[1:4])"
   ]
  },
  {
   "cell_type": "code",
   "execution_count": 66,
   "id": "afb73739",
   "metadata": {},
   "outputs": [
    {
     "name": "stdout",
     "output_type": "stream",
     "text": [
      "[[10 20 30]\n",
      " [40 50 60]]\n",
      "--------------------\n",
      "[[20 30]\n",
      " [50 60]]\n"
     ]
    }
   ],
   "source": [
    "# accessing elements of 2D array\n",
    "arr3 = np.array([[10, 20, 30], [40, 50, 60]])\n",
    "print(arr3)\n",
    "print('--------------------')\n",
    "print(arr3[0:2, 1:])"
   ]
  },
  {
   "cell_type": "markdown",
   "id": "538ad282",
   "metadata": {},
   "source": [
    "#### 8. Type Casting in Array"
   ]
  },
  {
   "cell_type": "code",
   "execution_count": 37,
   "id": "fc4d4032",
   "metadata": {},
   "outputs": [
    {
     "name": "stdout",
     "output_type": "stream",
     "text": [
      "[1. 2. 3. 4.]\n",
      "float64\n"
     ]
    }
   ],
   "source": [
    "arr = np.array([1, 2, 3, 4])\n",
    "float_arr = arr.astype(float)\n",
    "print(float_arr)\n",
    "print(float_arr.dtype)"
   ]
  },
  {
   "cell_type": "code",
   "execution_count": 38,
   "id": "15f65fca",
   "metadata": {},
   "outputs": [
    {
     "name": "stdout",
     "output_type": "stream",
     "text": [
      "[1 2 3]\n",
      "int32\n"
     ]
    }
   ],
   "source": [
    "arr = np.array([1.7, 2.2, 3.9])\n",
    "int_arr = arr.astype(int)\n",
    "print(int_arr)\n",
    "print(int_arr.dtype)"
   ]
  },
  {
   "cell_type": "code",
   "execution_count": 39,
   "id": "1d9301b7",
   "metadata": {},
   "outputs": [
    {
     "name": "stdout",
     "output_type": "stream",
     "text": [
      "['10' '20' '30']\n",
      "<U11\n"
     ]
    }
   ],
   "source": [
    "arr = np.array([10, 20, 30])\n",
    "str_arr = arr.astype(str)\n",
    "print(str_arr)\n",
    "print(str_arr.dtype)"
   ]
  },
  {
   "cell_type": "markdown",
   "id": "dc8a5fbc",
   "metadata": {},
   "source": [
    "### 9. Creation Routines"
   ]
  },
  {
   "cell_type": "markdown",
   "id": "d04ea206",
   "metadata": {},
   "source": [
    "* #### Empty"
   ]
  },
  {
   "cell_type": "code",
   "execution_count": 2,
   "id": "ce3550f1",
   "metadata": {},
   "outputs": [
    {
     "name": "stdout",
     "output_type": "stream",
     "text": [
      "[[-537329408        545    5570638]\n",
      " [   6225997    4718676    4522066]\n",
      " [   4456513         83          0]]\n"
     ]
    }
   ],
   "source": [
    "arr = np.empty([3,3], dtype = 'int')\n",
    "print(arr)"
   ]
  },
  {
   "cell_type": "code",
   "execution_count": 4,
   "id": "1fcba86b",
   "metadata": {},
   "outputs": [
    {
     "name": "stdout",
     "output_type": "stream",
     "text": [
      "[[0.00000000e+000 0.00000000e+000 0.00000000e+000]\n",
      " [0.00000000e+000 0.00000000e+000 7.11454530e-321]\n",
      " [5.08566454e-028 4.11366171e+223 1.02303531e+200]]\n"
     ]
    }
   ],
   "source": [
    "arr2 = np.empty([3,3], dtype = 'float')\n",
    "print(arr2)"
   ]
  },
  {
   "cell_type": "markdown",
   "id": "a5a32844",
   "metadata": {},
   "source": [
    "* #### Zeros"
   ]
  },
  {
   "cell_type": "code",
   "execution_count": 7,
   "id": "e7a4e8ee",
   "metadata": {},
   "outputs": [
    {
     "name": "stdout",
     "output_type": "stream",
     "text": [
      "[[0. 0. 0.]\n",
      " [0. 0. 0.]\n",
      " [0. 0. 0.]]\n"
     ]
    }
   ],
   "source": [
    "arr = np.zeros([3, 3] )\n",
    "print(arr)"
   ]
  },
  {
   "cell_type": "markdown",
   "id": "8f2b555c",
   "metadata": {},
   "source": [
    "* #### Ones"
   ]
  },
  {
   "cell_type": "code",
   "execution_count": 10,
   "id": "896c1b5b",
   "metadata": {},
   "outputs": [
    {
     "name": "stdout",
     "output_type": "stream",
     "text": [
      "[[1. 1.]\n",
      " [1. 1.]]\n"
     ]
    }
   ],
   "source": [
    "# numpy.ones(shape,dtype)\n",
    "x = np.ones([2,2])\n",
    "print(x)"
   ]
  },
  {
   "cell_type": "markdown",
   "id": "0242141b",
   "metadata": {},
   "source": [
    "* #### Eye"
   ]
  },
  {
   "cell_type": "code",
   "execution_count": 15,
   "id": "ef89d5e4",
   "metadata": {},
   "outputs": [
    {
     "name": "stdout",
     "output_type": "stream",
     "text": [
      "[[0. 0. 1. 0.]\n",
      " [0. 0. 0. 1.]\n",
      " [0. 0. 0. 0.]\n",
      " [0. 0. 0. 0.]]\n"
     ]
    }
   ],
   "source": [
    "# eye\n",
    "arr  = np.eye(4, k = 2)\n",
    "print(arr)"
   ]
  },
  {
   "cell_type": "code",
   "execution_count": 19,
   "id": "6dbde3f7",
   "metadata": {},
   "outputs": [
    {
     "name": "stdout",
     "output_type": "stream",
     "text": [
      "[[1 0 0 0]\n",
      " [0 1 0 0]\n",
      " [0 0 1 0]\n",
      " [0 0 0 1]]\n"
     ]
    }
   ],
   "source": [
    "arr = np.identity(4, dtype='int')\n",
    "print(arr)"
   ]
  },
  {
   "cell_type": "code",
   "execution_count": 24,
   "id": "5c3d0377",
   "metadata": {},
   "outputs": [
    {
     "name": "stdout",
     "output_type": "stream",
     "text": [
      "[ 10  15  20  25  30  35  40  45  50  55  60  65  70  75  80  85  90  95\n",
      " 100]\n"
     ]
    }
   ],
   "source": [
    "# arange\n",
    "arr = np.arange(10, 105, 5)\n",
    "print(arr)"
   ]
  },
  {
   "cell_type": "code",
   "execution_count": 27,
   "id": "3e298193",
   "metadata": {},
   "outputs": [
    {
     "name": "stdout",
     "output_type": "stream",
     "text": [
      "[ 10  15  20  25  30  35  40  45  50  55  60  65  70  75  80  85  90  95\n",
      " 100]\n"
     ]
    }
   ],
   "source": [
    "li = range(10, 105, 5)\n",
    "arr  = np.array(li)\n",
    "print(arr)"
   ]
  },
  {
   "cell_type": "code",
   "execution_count": 35,
   "id": "cc165f7d",
   "metadata": {},
   "outputs": [
    {
     "name": "stdout",
     "output_type": "stream",
     "text": [
      "[1 2]\n",
      "[[1 2]]\n"
     ]
    }
   ],
   "source": [
    "x = np.array([1,2])\n",
    "print(x)\n",
    "x = np.asmatrix(x)\n",
    "print(x)\n"
   ]
  },
  {
   "cell_type": "markdown",
   "id": "1933516c",
   "metadata": {},
   "source": [
    "### 10. Arthimetic Operation"
   ]
  },
  {
   "cell_type": "code",
   "execution_count": null,
   "id": "78d27fe3",
   "metadata": {},
   "outputs": [
    {
     "name": "stdout",
     "output_type": "stream",
     "text": [
      "[ 3  9 12 10]\n",
      "-----------------\n",
      "[ 3  9 12 10]\n"
     ]
    }
   ],
   "source": [
    "# Addition\n",
    "arr1 = np.array([2,4,6,8])\n",
    "arr2 = np.array([1,5,6,2])\n",
    "print(arr1 + arr2)\n",
    "print('-----------------')\n",
    "print(np.add(arr1, arr2))"
   ]
  },
  {
   "cell_type": "code",
   "execution_count": null,
   "id": "cfa85657",
   "metadata": {},
   "outputs": [
    {
     "name": "stdout",
     "output_type": "stream",
     "text": [
      "[ 1 -1  0  6]\n",
      "-----------------\n",
      "[ 1 -1  0  6]\n"
     ]
    }
   ],
   "source": [
    "# Subtraction\n",
    "arr1 = np.array([2,4,6,8])\n",
    "arr2 = np.array([1,5,6,2])\n",
    "print(arr1 - arr2)\n",
    "print('-----------------')\n",
    "print(np.subtract(arr1, arr2))"
   ]
  },
  {
   "cell_type": "code",
   "execution_count": null,
   "id": "793b29f6",
   "metadata": {},
   "outputs": [
    {
     "name": "stdout",
     "output_type": "stream",
     "text": [
      "[ 2 20 36 16]\n",
      "-----------------\n",
      "[ 2 20 36 16]\n"
     ]
    }
   ],
   "source": [
    "# Multiplication\n",
    "arr1 = np.array([2,4,6,8])\n",
    "arr2 = np.array([1,5,6,2])\n",
    "print(arr1 * arr2)\n",
    "print('-----------------')\n",
    "print(np.multiply(arr1, arr2))"
   ]
  },
  {
   "cell_type": "code",
   "execution_count": null,
   "id": "f46a7e33",
   "metadata": {},
   "outputs": [
    {
     "name": "stdout",
     "output_type": "stream",
     "text": [
      "(4,)\n",
      "[2 4 6 8]\n",
      "-----------------\n",
      "[[1 5 6 2]\n",
      " [1 3 5 7]\n",
      " [1 4 6 8]\n",
      " [1 3 4 4]]\n",
      "(4, 4)\n",
      "[ 20  70 100 112]\n"
     ]
    }
   ],
   "source": [
    "# Matrix multiplication\n",
    "arr1 = np.array([2,4,6,8])\n",
    "print(arr1.shape)\n",
    "print(arr1)\n",
    "print('-----------------')\n",
    "arr2 = np.array([[1,5,6,2], [1,3,5,7], [1,4,6,8], [1,3,4,4]])\n",
    "print(arr2)\n",
    "print(arr2.shape)\n",
    "print(np.matmul(arr1, arr2))"
   ]
  },
  {
   "cell_type": "code",
   "execution_count": 54,
   "id": "6ac0d867",
   "metadata": {},
   "outputs": [
    {
     "name": "stdout",
     "output_type": "stream",
     "text": [
      "[2.  0.8 1.  4. ]\n",
      "-----------------\n",
      "[2.  0.8 1.  4. ]\n"
     ]
    }
   ],
   "source": [
    "# Division\n",
    "arr1 = np.array([2,4,6,8])\n",
    "arr2 = np.array([1,5,6,2])\n",
    "print(arr1 / arr2)\n",
    "print('-----------------')\n",
    "print(np.divide(arr1, arr2))"
   ]
  },
  {
   "cell_type": "code",
   "execution_count": 25,
   "id": "ce03b009",
   "metadata": {},
   "outputs": [
    {
     "name": "stdout",
     "output_type": "stream",
     "text": [
      "[0 4 0 0]\n",
      "-----------------\n",
      "[0 4 0 0]\n",
      "[0 4 0 0]\n"
     ]
    }
   ],
   "source": [
    "# Modulus\n",
    "arr1 = np.array([2,4,6,8])\n",
    "arr2 = np.array([1,5,6,2])\n",
    "print(arr1 % arr2)\n",
    "print('-----------------')\n",
    "print(np.mod(arr1, arr2))\n",
    "print(np.remainder(arr1, arr2))"
   ]
  },
  {
   "cell_type": "code",
   "execution_count": 41,
   "id": "5602135a",
   "metadata": {},
   "outputs": [
    {
     "name": "stdout",
     "output_type": "stream",
     "text": [
      "[ 4  9 16]\n",
      "[ 8 27 64]\n"
     ]
    }
   ],
   "source": [
    "# Exponentiation\n",
    "arr = np.array([2, 3, 4])\n",
    "print(arr ** 2)          \n",
    "print(np.power(arr, 3))\n"
   ]
  },
  {
   "cell_type": "code",
   "execution_count": 50,
   "id": "f9816a49",
   "metadata": {},
   "outputs": [
    {
     "name": "stdout",
     "output_type": "stream",
     "text": [
      "[6 7 8]\n"
     ]
    }
   ],
   "source": [
    "# Broadcasting\n",
    "arr = np.array([1, 2, 3])\n",
    "result = arr + 5\n",
    "print(result)\n"
   ]
  },
  {
   "cell_type": "markdown",
   "id": "97cd3cfe",
   "metadata": {},
   "source": [
    "### 11. Universal Functions"
   ]
  },
  {
   "cell_type": "code",
   "execution_count": null,
   "id": "6a4e2766",
   "metadata": {},
   "outputs": [
    {
     "name": "stdout",
     "output_type": "stream",
     "text": [
      "[2. 3. 4.]\n"
     ]
    }
   ],
   "source": [
    "# Square root\n",
    "arr = np.array([4, 9, 16])\n",
    "print(np.sqrt(arr))\n"
   ]
  },
  {
   "cell_type": "code",
   "execution_count": null,
   "metadata": {},
   "outputs": [
    {
     "name": "stdout",
     "output_type": "stream",
     "text": [
      "[ 2.718281828459045  7.38905609893065  20.085536923187668]\n"
     ]
    }
   ],
   "source": [
    "# Exponential (e^x)\n",
    "arr = np.array([1, 2, 3])\n",
    "print(np.exp(arr))\n"
   ]
  },
  {
   "cell_type": "code",
   "execution_count": 45,
   "id": "53c6ffc0",
   "metadata": {},
   "outputs": [
    {
     "name": "stdout",
     "output_type": "stream",
     "text": [
      "[1 2 3]\n"
     ]
    }
   ],
   "source": [
    "# absolute value\n",
    "arr = np.array([-1, -2, 3])\n",
    "print(np.abs(arr))"
   ]
  },
  {
   "cell_type": "code",
   "execution_count": null,
   "id": "fe2ee355",
   "metadata": {},
   "outputs": [],
   "source": [
    "arr = np.array([1, np.e, np.e**2])\n",
    "print(np.log(arr))\n"
   ]
  },
  {
   "cell_type": "code",
   "execution_count": 49,
   "id": "e9df4126",
   "metadata": {},
   "outputs": [
    {
     "name": "stdout",
     "output_type": "stream",
     "text": [
      "[3.1354942159291497 4.605170185988092  5.438079308923196 ]\n"
     ]
    }
   ],
   "source": [
    "# Natural logarithm (base e)\n",
    "arr = np.array([23, 100, 230])\n",
    "print(np.log(arr))\n"
   ]
  },
  {
   "cell_type": "markdown",
   "id": "402bae90",
   "metadata": {},
   "source": [
    "### 12. Comparison operators"
   ]
  },
  {
   "cell_type": "code",
   "execution_count": 58,
   "id": "618a8fd0",
   "metadata": {},
   "outputs": [
    {
     "name": "stdout",
     "output_type": "stream",
     "text": [
      "[ True False False  True]\n",
      "-----------------\n",
      "[ True False False  True]\n"
     ]
    }
   ],
   "source": [
    "# greater\n",
    "arr1 = np.array([2,4,6,8])\n",
    "arr2 = np.array([1,5,6,2])\n",
    "print(arr1 > arr2)\n",
    "print('-----------------')\n",
    "print(np.greater(arr1, arr2))"
   ]
  },
  {
   "cell_type": "code",
   "execution_count": 40,
   "id": "7790b578",
   "metadata": {},
   "outputs": [
    {
     "name": "stdout",
     "output_type": "stream",
     "text": [
      "[False  True False False]\n",
      "-----------------\n",
      "[False  True False False]\n"
     ]
    }
   ],
   "source": [
    "# Lesser\n",
    "arr1 = np.array([2,4,6,8])\n",
    "arr2 = np.array([1,5,6,2])\n",
    "print(arr1 < arr2)\n",
    "print('-----------------')\n",
    "print(np.less(arr1, arr2))"
   ]
  },
  {
   "cell_type": "markdown",
   "id": "5f59accb",
   "metadata": {},
   "source": [
    "### 13. Sorting"
   ]
  },
  {
   "cell_type": "code",
   "execution_count": 60,
   "id": "fe558685",
   "metadata": {},
   "outputs": [
    {
     "name": "stdout",
     "output_type": "stream",
     "text": [
      "[[ 8  7  1  2]\n",
      " [ 3  2  3  1]\n",
      " [29 32 11  9]]\n",
      "----------------\n",
      "Sorted Array : \n",
      "[[ 3  2  1  1]\n",
      " [ 8  7  3  2]\n",
      " [29 32 11  9]]\n"
     ]
    }
   ],
   "source": [
    "arr2D = np.array([[8, 7, 1, 2], [3, 2, 3, 1],\n",
    "[29, 32, 11, 9]])\n",
    "print(arr2D)\n",
    "print('----------------')\n",
    "arr2D.sort(axis=0)\n",
    "print('Sorted Array : ')\n",
    "print(arr2D)"
   ]
  },
  {
   "cell_type": "code",
   "execution_count": 67,
   "id": "6f8c8ae0",
   "metadata": {},
   "outputs": [
    {
     "name": "stdout",
     "output_type": "stream",
     "text": [
      "[[ 8  7  1  2]\n",
      " [ 3  2  3  1]\n",
      " [29 32 11  9]]\n",
      "----------------\n",
      "Sorted Array : \n",
      "[[ 3  2  1  1]\n",
      " [ 8  7  3  2]\n",
      " [29 32 11  9]]\n"
     ]
    }
   ],
   "source": [
    "arr2D = np.array([[8, 7, 1, 2], [3, 2, 3, 1],\n",
    "[29, 32, 11, 9]])\n",
    "print(arr2D)\n",
    "print('----------------')\n",
    "arr2D.sort(axis=0)\n",
    "print('Sorted Array : ')\n",
    "print(arr2D)"
   ]
  },
  {
   "cell_type": "code",
   "execution_count": null,
   "id": "a122c7ca",
   "metadata": {},
   "outputs": [],
   "source": []
  }
 ],
 "metadata": {
  "kernelspec": {
   "display_name": "base",
   "language": "python",
   "name": "python3"
  },
  "language_info": {
   "codemirror_mode": {
    "name": "ipython",
    "version": 3
   },
   "file_extension": ".py",
   "mimetype": "text/x-python",
   "name": "python",
   "nbconvert_exporter": "python",
   "pygments_lexer": "ipython3",
   "version": "3.12.4"
  }
 },
 "nbformat": 4,
 "nbformat_minor": 5
}
